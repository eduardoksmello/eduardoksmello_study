{
  "nbformat": 4,
  "nbformat_minor": 0,
  "metadata": {
    "colab": {
      "name": "Curso Clustering - Wine DB.ipynb",
      "provenance": [],
      "collapsed_sections": []
    },
    "kernelspec": {
      "name": "python3",
      "display_name": "Python 3"
    },
    "language_info": {
      "name": "python"
    }
  },
  "cells": [
    {
      "cell_type": "markdown",
      "metadata": {
        "id": "-rPU_h81jP3J"
      },
      "source": [
        "# Importando as bibliotecas e dados"
      ]
    },
    {
      "cell_type": "code",
      "metadata": {
        "colab": {
          "base_uri": "https://localhost:8080/"
        },
        "id": "yzhwoFdzioRW",
        "outputId": "05e14607-1f2b-4827-c251-417b6771c873"
      },
      "source": [
        "pip install plotly==4.1.0"
      ],
      "execution_count": 1,
      "outputs": [
        {
          "output_type": "stream",
          "name": "stdout",
          "text": [
            "Requirement already satisfied: plotly==4.1.0 in /usr/local/lib/python3.7/dist-packages (4.1.0)\n",
            "Requirement already satisfied: retrying>=1.3.3 in /usr/local/lib/python3.7/dist-packages (from plotly==4.1.0) (1.3.3)\n",
            "Requirement already satisfied: six in /usr/local/lib/python3.7/dist-packages (from plotly==4.1.0) (1.15.0)\n"
          ]
        }
      ]
    },
    {
      "cell_type": "code",
      "metadata": {
        "id": "FZgqk61KjAG_"
      },
      "source": [
        "# importando bibliotecas \n",
        "\n",
        "import plotly.graph_objects as go\n",
        "import pandas as pd\n",
        "import numpy as np"
      ],
      "execution_count": 2,
      "outputs": []
    },
    {
      "cell_type": "code",
      "metadata": {
        "id": "kFADqZonjOfR"
      },
      "source": [
        "# importando dataset\n",
        "\n",
        "import urllib.request\n",
        "\n",
        "url = 'https://www.dropbox.com/s/607w3k0jo37f8kk/Wine.csv?dl=1'\n",
        "u = urllib.request.urlopen(url)\n",
        "data = u.read()\n",
        "u.close()\n",
        "\n",
        "with open('Wines.csv', \"wb\") as f :\n",
        "   f.write(data)"
      ],
      "execution_count": 3,
      "outputs": []
    },
    {
      "cell_type": "code",
      "metadata": {
        "id": "0K64_ZXnjviz"
      },
      "source": [
        "df = pd.read_csv('Wines.csv')"
      ],
      "execution_count": 4,
      "outputs": []
    },
    {
      "cell_type": "code",
      "metadata": {
        "colab": {
          "base_uri": "https://localhost:8080/"
        },
        "id": "MiWChPJfkFcj",
        "outputId": "9382d73d-854a-4168-e2bf-6e73c6f9b8f9"
      },
      "source": [
        "# explorando os dados\n",
        "\n",
        "print(\"O dataset possui\", df.shape[0], \"amostras e\", df.shape[1], \"atributos.\")"
      ],
      "execution_count": 5,
      "outputs": [
        {
          "output_type": "stream",
          "name": "stdout",
          "text": [
            "O dataset possui 178 amostras e 14 atributos.\n"
          ]
        }
      ]
    },
    {
      "cell_type": "code",
      "metadata": {
        "colab": {
          "base_uri": "https://localhost:8080/",
          "height": 204
        },
        "id": "jLqkQNeSkHjF",
        "outputId": "4b5362b7-3246-429f-c4e8-980737748766"
      },
      "source": [
        "df.head()"
      ],
      "execution_count": 6,
      "outputs": [
        {
          "output_type": "execute_result",
          "data": {
            "text/html": [
              "<div>\n",
              "<style scoped>\n",
              "    .dataframe tbody tr th:only-of-type {\n",
              "        vertical-align: middle;\n",
              "    }\n",
              "\n",
              "    .dataframe tbody tr th {\n",
              "        vertical-align: top;\n",
              "    }\n",
              "\n",
              "    .dataframe thead th {\n",
              "        text-align: right;\n",
              "    }\n",
              "</style>\n",
              "<table border=\"1\" class=\"dataframe\">\n",
              "  <thead>\n",
              "    <tr style=\"text-align: right;\">\n",
              "      <th></th>\n",
              "      <th>Alcohol</th>\n",
              "      <th>Malic_Acid</th>\n",
              "      <th>Ash</th>\n",
              "      <th>Ash_Alcanity</th>\n",
              "      <th>Magnesium</th>\n",
              "      <th>Total_Phenols</th>\n",
              "      <th>Flavanoids</th>\n",
              "      <th>Nonflavanoid_Phenols</th>\n",
              "      <th>Proanthocyanins</th>\n",
              "      <th>Color_Intensity</th>\n",
              "      <th>Hue</th>\n",
              "      <th>OD280</th>\n",
              "      <th>Proline</th>\n",
              "      <th>Customer_Segment</th>\n",
              "    </tr>\n",
              "  </thead>\n",
              "  <tbody>\n",
              "    <tr>\n",
              "      <th>0</th>\n",
              "      <td>14.23</td>\n",
              "      <td>1.71</td>\n",
              "      <td>2.43</td>\n",
              "      <td>15.6</td>\n",
              "      <td>127</td>\n",
              "      <td>2.80</td>\n",
              "      <td>3.06</td>\n",
              "      <td>0.28</td>\n",
              "      <td>2.29</td>\n",
              "      <td>5.64</td>\n",
              "      <td>1.04</td>\n",
              "      <td>3.92</td>\n",
              "      <td>1065</td>\n",
              "      <td>1</td>\n",
              "    </tr>\n",
              "    <tr>\n",
              "      <th>1</th>\n",
              "      <td>13.20</td>\n",
              "      <td>1.78</td>\n",
              "      <td>2.14</td>\n",
              "      <td>11.2</td>\n",
              "      <td>100</td>\n",
              "      <td>2.65</td>\n",
              "      <td>2.76</td>\n",
              "      <td>0.26</td>\n",
              "      <td>1.28</td>\n",
              "      <td>4.38</td>\n",
              "      <td>1.05</td>\n",
              "      <td>3.40</td>\n",
              "      <td>1050</td>\n",
              "      <td>1</td>\n",
              "    </tr>\n",
              "    <tr>\n",
              "      <th>2</th>\n",
              "      <td>13.16</td>\n",
              "      <td>2.36</td>\n",
              "      <td>2.67</td>\n",
              "      <td>18.6</td>\n",
              "      <td>101</td>\n",
              "      <td>2.80</td>\n",
              "      <td>3.24</td>\n",
              "      <td>0.30</td>\n",
              "      <td>2.81</td>\n",
              "      <td>5.68</td>\n",
              "      <td>1.03</td>\n",
              "      <td>3.17</td>\n",
              "      <td>1185</td>\n",
              "      <td>1</td>\n",
              "    </tr>\n",
              "    <tr>\n",
              "      <th>3</th>\n",
              "      <td>14.37</td>\n",
              "      <td>1.95</td>\n",
              "      <td>2.50</td>\n",
              "      <td>16.8</td>\n",
              "      <td>113</td>\n",
              "      <td>3.85</td>\n",
              "      <td>3.49</td>\n",
              "      <td>0.24</td>\n",
              "      <td>2.18</td>\n",
              "      <td>7.80</td>\n",
              "      <td>0.86</td>\n",
              "      <td>3.45</td>\n",
              "      <td>1480</td>\n",
              "      <td>1</td>\n",
              "    </tr>\n",
              "    <tr>\n",
              "      <th>4</th>\n",
              "      <td>13.24</td>\n",
              "      <td>2.59</td>\n",
              "      <td>2.87</td>\n",
              "      <td>21.0</td>\n",
              "      <td>118</td>\n",
              "      <td>2.80</td>\n",
              "      <td>2.69</td>\n",
              "      <td>0.39</td>\n",
              "      <td>1.82</td>\n",
              "      <td>4.32</td>\n",
              "      <td>1.04</td>\n",
              "      <td>2.93</td>\n",
              "      <td>735</td>\n",
              "      <td>1</td>\n",
              "    </tr>\n",
              "  </tbody>\n",
              "</table>\n",
              "</div>"
            ],
            "text/plain": [
              "   Alcohol  Malic_Acid   Ash  ...  OD280  Proline  Customer_Segment\n",
              "0    14.23        1.71  2.43  ...   3.92     1065                 1\n",
              "1    13.20        1.78  2.14  ...   3.40     1050                 1\n",
              "2    13.16        2.36  2.67  ...   3.17     1185                 1\n",
              "3    14.37        1.95  2.50  ...   3.45     1480                 1\n",
              "4    13.24        2.59  2.87  ...   2.93      735                 1\n",
              "\n",
              "[5 rows x 14 columns]"
            ]
          },
          "metadata": {},
          "execution_count": 6
        }
      ]
    },
    {
      "cell_type": "code",
      "metadata": {
        "id": "JDM7u2ZyknXZ"
      },
      "source": [
        "df = df.rename(columns = {'Alcool': 'Alcool',\n",
        "                          'Ash': 'Po',\n",
        "                          'Ash_Alcanity': 'Alcalinidade_po',\n",
        "                          'Magnesium': 'Magnesio',\n",
        "                          'Color_Intensity': 'Intendidade_de_cor'\n",
        "                          })"
      ],
      "execution_count": 7,
      "outputs": []
    },
    {
      "cell_type": "code",
      "metadata": {
        "colab": {
          "base_uri": "https://localhost:8080/",
          "height": 204
        },
        "id": "ls9D8pOflbM5",
        "outputId": "9a17e36e-e5b6-4792-ff28-139754c8a9ba"
      },
      "source": [
        "df.head()"
      ],
      "execution_count": 8,
      "outputs": [
        {
          "output_type": "execute_result",
          "data": {
            "text/html": [
              "<div>\n",
              "<style scoped>\n",
              "    .dataframe tbody tr th:only-of-type {\n",
              "        vertical-align: middle;\n",
              "    }\n",
              "\n",
              "    .dataframe tbody tr th {\n",
              "        vertical-align: top;\n",
              "    }\n",
              "\n",
              "    .dataframe thead th {\n",
              "        text-align: right;\n",
              "    }\n",
              "</style>\n",
              "<table border=\"1\" class=\"dataframe\">\n",
              "  <thead>\n",
              "    <tr style=\"text-align: right;\">\n",
              "      <th></th>\n",
              "      <th>Alcohol</th>\n",
              "      <th>Malic_Acid</th>\n",
              "      <th>Po</th>\n",
              "      <th>Alcalinidade_po</th>\n",
              "      <th>Magnesio</th>\n",
              "      <th>Total_Phenols</th>\n",
              "      <th>Flavanoids</th>\n",
              "      <th>Nonflavanoid_Phenols</th>\n",
              "      <th>Proanthocyanins</th>\n",
              "      <th>Intendidade_de_cor</th>\n",
              "      <th>Hue</th>\n",
              "      <th>OD280</th>\n",
              "      <th>Proline</th>\n",
              "      <th>Customer_Segment</th>\n",
              "    </tr>\n",
              "  </thead>\n",
              "  <tbody>\n",
              "    <tr>\n",
              "      <th>0</th>\n",
              "      <td>14.23</td>\n",
              "      <td>1.71</td>\n",
              "      <td>2.43</td>\n",
              "      <td>15.6</td>\n",
              "      <td>127</td>\n",
              "      <td>2.80</td>\n",
              "      <td>3.06</td>\n",
              "      <td>0.28</td>\n",
              "      <td>2.29</td>\n",
              "      <td>5.64</td>\n",
              "      <td>1.04</td>\n",
              "      <td>3.92</td>\n",
              "      <td>1065</td>\n",
              "      <td>1</td>\n",
              "    </tr>\n",
              "    <tr>\n",
              "      <th>1</th>\n",
              "      <td>13.20</td>\n",
              "      <td>1.78</td>\n",
              "      <td>2.14</td>\n",
              "      <td>11.2</td>\n",
              "      <td>100</td>\n",
              "      <td>2.65</td>\n",
              "      <td>2.76</td>\n",
              "      <td>0.26</td>\n",
              "      <td>1.28</td>\n",
              "      <td>4.38</td>\n",
              "      <td>1.05</td>\n",
              "      <td>3.40</td>\n",
              "      <td>1050</td>\n",
              "      <td>1</td>\n",
              "    </tr>\n",
              "    <tr>\n",
              "      <th>2</th>\n",
              "      <td>13.16</td>\n",
              "      <td>2.36</td>\n",
              "      <td>2.67</td>\n",
              "      <td>18.6</td>\n",
              "      <td>101</td>\n",
              "      <td>2.80</td>\n",
              "      <td>3.24</td>\n",
              "      <td>0.30</td>\n",
              "      <td>2.81</td>\n",
              "      <td>5.68</td>\n",
              "      <td>1.03</td>\n",
              "      <td>3.17</td>\n",
              "      <td>1185</td>\n",
              "      <td>1</td>\n",
              "    </tr>\n",
              "    <tr>\n",
              "      <th>3</th>\n",
              "      <td>14.37</td>\n",
              "      <td>1.95</td>\n",
              "      <td>2.50</td>\n",
              "      <td>16.8</td>\n",
              "      <td>113</td>\n",
              "      <td>3.85</td>\n",
              "      <td>3.49</td>\n",
              "      <td>0.24</td>\n",
              "      <td>2.18</td>\n",
              "      <td>7.80</td>\n",
              "      <td>0.86</td>\n",
              "      <td>3.45</td>\n",
              "      <td>1480</td>\n",
              "      <td>1</td>\n",
              "    </tr>\n",
              "    <tr>\n",
              "      <th>4</th>\n",
              "      <td>13.24</td>\n",
              "      <td>2.59</td>\n",
              "      <td>2.87</td>\n",
              "      <td>21.0</td>\n",
              "      <td>118</td>\n",
              "      <td>2.80</td>\n",
              "      <td>2.69</td>\n",
              "      <td>0.39</td>\n",
              "      <td>1.82</td>\n",
              "      <td>4.32</td>\n",
              "      <td>1.04</td>\n",
              "      <td>2.93</td>\n",
              "      <td>735</td>\n",
              "      <td>1</td>\n",
              "    </tr>\n",
              "  </tbody>\n",
              "</table>\n",
              "</div>"
            ],
            "text/plain": [
              "   Alcohol  Malic_Acid    Po  ...  OD280  Proline  Customer_Segment\n",
              "0    14.23        1.71  2.43  ...   3.92     1065                 1\n",
              "1    13.20        1.78  2.14  ...   3.40     1050                 1\n",
              "2    13.16        2.36  2.67  ...   3.17     1185                 1\n",
              "3    14.37        1.95  2.50  ...   3.45     1480                 1\n",
              "4    13.24        2.59  2.87  ...   2.93      735                 1\n",
              "\n",
              "[5 rows x 14 columns]"
            ]
          },
          "metadata": {},
          "execution_count": 8
        }
      ]
    },
    {
      "cell_type": "code",
      "metadata": {
        "colab": {
          "base_uri": "https://localhost:8080/",
          "height": 297
        },
        "id": "4IvM92UZlcLt",
        "outputId": "cc1da36e-39a2-44c2-dda0-bad94315fe35"
      },
      "source": [
        "df.describe()"
      ],
      "execution_count": 9,
      "outputs": [
        {
          "output_type": "execute_result",
          "data": {
            "text/html": [
              "<div>\n",
              "<style scoped>\n",
              "    .dataframe tbody tr th:only-of-type {\n",
              "        vertical-align: middle;\n",
              "    }\n",
              "\n",
              "    .dataframe tbody tr th {\n",
              "        vertical-align: top;\n",
              "    }\n",
              "\n",
              "    .dataframe thead th {\n",
              "        text-align: right;\n",
              "    }\n",
              "</style>\n",
              "<table border=\"1\" class=\"dataframe\">\n",
              "  <thead>\n",
              "    <tr style=\"text-align: right;\">\n",
              "      <th></th>\n",
              "      <th>Alcohol</th>\n",
              "      <th>Malic_Acid</th>\n",
              "      <th>Po</th>\n",
              "      <th>Alcalinidade_po</th>\n",
              "      <th>Magnesio</th>\n",
              "      <th>Total_Phenols</th>\n",
              "      <th>Flavanoids</th>\n",
              "      <th>Nonflavanoid_Phenols</th>\n",
              "      <th>Proanthocyanins</th>\n",
              "      <th>Intendidade_de_cor</th>\n",
              "      <th>Hue</th>\n",
              "      <th>OD280</th>\n",
              "      <th>Proline</th>\n",
              "      <th>Customer_Segment</th>\n",
              "    </tr>\n",
              "  </thead>\n",
              "  <tbody>\n",
              "    <tr>\n",
              "      <th>count</th>\n",
              "      <td>178.000000</td>\n",
              "      <td>178.000000</td>\n",
              "      <td>178.000000</td>\n",
              "      <td>178.000000</td>\n",
              "      <td>178.000000</td>\n",
              "      <td>178.000000</td>\n",
              "      <td>178.000000</td>\n",
              "      <td>178.000000</td>\n",
              "      <td>178.000000</td>\n",
              "      <td>178.000000</td>\n",
              "      <td>178.000000</td>\n",
              "      <td>178.000000</td>\n",
              "      <td>178.000000</td>\n",
              "      <td>178.000000</td>\n",
              "    </tr>\n",
              "    <tr>\n",
              "      <th>mean</th>\n",
              "      <td>13.000618</td>\n",
              "      <td>2.336348</td>\n",
              "      <td>2.366517</td>\n",
              "      <td>19.494944</td>\n",
              "      <td>99.741573</td>\n",
              "      <td>2.295112</td>\n",
              "      <td>2.029270</td>\n",
              "      <td>0.361854</td>\n",
              "      <td>1.590899</td>\n",
              "      <td>5.058090</td>\n",
              "      <td>0.957449</td>\n",
              "      <td>2.611685</td>\n",
              "      <td>746.893258</td>\n",
              "      <td>1.938202</td>\n",
              "    </tr>\n",
              "    <tr>\n",
              "      <th>std</th>\n",
              "      <td>0.811827</td>\n",
              "      <td>1.117146</td>\n",
              "      <td>0.274344</td>\n",
              "      <td>3.339564</td>\n",
              "      <td>14.282484</td>\n",
              "      <td>0.625851</td>\n",
              "      <td>0.998859</td>\n",
              "      <td>0.124453</td>\n",
              "      <td>0.572359</td>\n",
              "      <td>2.318286</td>\n",
              "      <td>0.228572</td>\n",
              "      <td>0.709990</td>\n",
              "      <td>314.907474</td>\n",
              "      <td>0.775035</td>\n",
              "    </tr>\n",
              "    <tr>\n",
              "      <th>min</th>\n",
              "      <td>11.030000</td>\n",
              "      <td>0.740000</td>\n",
              "      <td>1.360000</td>\n",
              "      <td>10.600000</td>\n",
              "      <td>70.000000</td>\n",
              "      <td>0.980000</td>\n",
              "      <td>0.340000</td>\n",
              "      <td>0.130000</td>\n",
              "      <td>0.410000</td>\n",
              "      <td>1.280000</td>\n",
              "      <td>0.480000</td>\n",
              "      <td>1.270000</td>\n",
              "      <td>278.000000</td>\n",
              "      <td>1.000000</td>\n",
              "    </tr>\n",
              "    <tr>\n",
              "      <th>25%</th>\n",
              "      <td>12.362500</td>\n",
              "      <td>1.602500</td>\n",
              "      <td>2.210000</td>\n",
              "      <td>17.200000</td>\n",
              "      <td>88.000000</td>\n",
              "      <td>1.742500</td>\n",
              "      <td>1.205000</td>\n",
              "      <td>0.270000</td>\n",
              "      <td>1.250000</td>\n",
              "      <td>3.220000</td>\n",
              "      <td>0.782500</td>\n",
              "      <td>1.937500</td>\n",
              "      <td>500.500000</td>\n",
              "      <td>1.000000</td>\n",
              "    </tr>\n",
              "    <tr>\n",
              "      <th>50%</th>\n",
              "      <td>13.050000</td>\n",
              "      <td>1.865000</td>\n",
              "      <td>2.360000</td>\n",
              "      <td>19.500000</td>\n",
              "      <td>98.000000</td>\n",
              "      <td>2.355000</td>\n",
              "      <td>2.135000</td>\n",
              "      <td>0.340000</td>\n",
              "      <td>1.555000</td>\n",
              "      <td>4.690000</td>\n",
              "      <td>0.965000</td>\n",
              "      <td>2.780000</td>\n",
              "      <td>673.500000</td>\n",
              "      <td>2.000000</td>\n",
              "    </tr>\n",
              "    <tr>\n",
              "      <th>75%</th>\n",
              "      <td>13.677500</td>\n",
              "      <td>3.082500</td>\n",
              "      <td>2.557500</td>\n",
              "      <td>21.500000</td>\n",
              "      <td>107.000000</td>\n",
              "      <td>2.800000</td>\n",
              "      <td>2.875000</td>\n",
              "      <td>0.437500</td>\n",
              "      <td>1.950000</td>\n",
              "      <td>6.200000</td>\n",
              "      <td>1.120000</td>\n",
              "      <td>3.170000</td>\n",
              "      <td>985.000000</td>\n",
              "      <td>3.000000</td>\n",
              "    </tr>\n",
              "    <tr>\n",
              "      <th>max</th>\n",
              "      <td>14.830000</td>\n",
              "      <td>5.800000</td>\n",
              "      <td>3.230000</td>\n",
              "      <td>30.000000</td>\n",
              "      <td>162.000000</td>\n",
              "      <td>3.880000</td>\n",
              "      <td>5.080000</td>\n",
              "      <td>0.660000</td>\n",
              "      <td>3.580000</td>\n",
              "      <td>13.000000</td>\n",
              "      <td>1.710000</td>\n",
              "      <td>4.000000</td>\n",
              "      <td>1680.000000</td>\n",
              "      <td>3.000000</td>\n",
              "    </tr>\n",
              "  </tbody>\n",
              "</table>\n",
              "</div>"
            ],
            "text/plain": [
              "          Alcohol  Malic_Acid  ...      Proline  Customer_Segment\n",
              "count  178.000000  178.000000  ...   178.000000        178.000000\n",
              "mean    13.000618    2.336348  ...   746.893258          1.938202\n",
              "std      0.811827    1.117146  ...   314.907474          0.775035\n",
              "min     11.030000    0.740000  ...   278.000000          1.000000\n",
              "25%     12.362500    1.602500  ...   500.500000          1.000000\n",
              "50%     13.050000    1.865000  ...   673.500000          2.000000\n",
              "75%     13.677500    3.082500  ...   985.000000          3.000000\n",
              "max     14.830000    5.800000  ...  1680.000000          3.000000\n",
              "\n",
              "[8 rows x 14 columns]"
            ]
          },
          "metadata": {},
          "execution_count": 9
        }
      ]
    },
    {
      "cell_type": "code",
      "metadata": {
        "id": "y5GXNykWqP2d"
      },
      "source": [
        "# observando correlações\n",
        "\n",
        "matriz_corr = df.corr()"
      ],
      "execution_count": 10,
      "outputs": []
    },
    {
      "cell_type": "code",
      "metadata": {
        "colab": {
          "base_uri": "https://localhost:8080/",
          "height": 483
        },
        "id": "vaJbDyrtqPzV",
        "outputId": "3f236945-c667-44b5-851d-b9f966d7742f"
      },
      "source": [
        "matriz_corr"
      ],
      "execution_count": 11,
      "outputs": [
        {
          "output_type": "execute_result",
          "data": {
            "text/html": [
              "<div>\n",
              "<style scoped>\n",
              "    .dataframe tbody tr th:only-of-type {\n",
              "        vertical-align: middle;\n",
              "    }\n",
              "\n",
              "    .dataframe tbody tr th {\n",
              "        vertical-align: top;\n",
              "    }\n",
              "\n",
              "    .dataframe thead th {\n",
              "        text-align: right;\n",
              "    }\n",
              "</style>\n",
              "<table border=\"1\" class=\"dataframe\">\n",
              "  <thead>\n",
              "    <tr style=\"text-align: right;\">\n",
              "      <th></th>\n",
              "      <th>Alcohol</th>\n",
              "      <th>Malic_Acid</th>\n",
              "      <th>Po</th>\n",
              "      <th>Alcalinidade_po</th>\n",
              "      <th>Magnesio</th>\n",
              "      <th>Total_Phenols</th>\n",
              "      <th>Flavanoids</th>\n",
              "      <th>Nonflavanoid_Phenols</th>\n",
              "      <th>Proanthocyanins</th>\n",
              "      <th>Intendidade_de_cor</th>\n",
              "      <th>Hue</th>\n",
              "      <th>OD280</th>\n",
              "      <th>Proline</th>\n",
              "      <th>Customer_Segment</th>\n",
              "    </tr>\n",
              "  </thead>\n",
              "  <tbody>\n",
              "    <tr>\n",
              "      <th>Alcohol</th>\n",
              "      <td>1.000000</td>\n",
              "      <td>0.094397</td>\n",
              "      <td>0.211545</td>\n",
              "      <td>-0.310235</td>\n",
              "      <td>0.270798</td>\n",
              "      <td>0.289101</td>\n",
              "      <td>0.236815</td>\n",
              "      <td>-0.155929</td>\n",
              "      <td>0.136698</td>\n",
              "      <td>0.546364</td>\n",
              "      <td>-0.071747</td>\n",
              "      <td>0.072343</td>\n",
              "      <td>0.643720</td>\n",
              "      <td>-0.328222</td>\n",
              "    </tr>\n",
              "    <tr>\n",
              "      <th>Malic_Acid</th>\n",
              "      <td>0.094397</td>\n",
              "      <td>1.000000</td>\n",
              "      <td>0.164045</td>\n",
              "      <td>0.288500</td>\n",
              "      <td>-0.054575</td>\n",
              "      <td>-0.335167</td>\n",
              "      <td>-0.411007</td>\n",
              "      <td>0.292977</td>\n",
              "      <td>-0.220746</td>\n",
              "      <td>0.248985</td>\n",
              "      <td>-0.561296</td>\n",
              "      <td>-0.368710</td>\n",
              "      <td>-0.192011</td>\n",
              "      <td>0.437776</td>\n",
              "    </tr>\n",
              "    <tr>\n",
              "      <th>Po</th>\n",
              "      <td>0.211545</td>\n",
              "      <td>0.164045</td>\n",
              "      <td>1.000000</td>\n",
              "      <td>0.443367</td>\n",
              "      <td>0.286587</td>\n",
              "      <td>0.128980</td>\n",
              "      <td>0.115077</td>\n",
              "      <td>0.186230</td>\n",
              "      <td>0.009652</td>\n",
              "      <td>0.258887</td>\n",
              "      <td>-0.074667</td>\n",
              "      <td>0.003911</td>\n",
              "      <td>0.223626</td>\n",
              "      <td>-0.049643</td>\n",
              "    </tr>\n",
              "    <tr>\n",
              "      <th>Alcalinidade_po</th>\n",
              "      <td>-0.310235</td>\n",
              "      <td>0.288500</td>\n",
              "      <td>0.443367</td>\n",
              "      <td>1.000000</td>\n",
              "      <td>-0.083333</td>\n",
              "      <td>-0.321113</td>\n",
              "      <td>-0.351370</td>\n",
              "      <td>0.361922</td>\n",
              "      <td>-0.197327</td>\n",
              "      <td>0.018732</td>\n",
              "      <td>-0.273955</td>\n",
              "      <td>-0.276769</td>\n",
              "      <td>-0.440597</td>\n",
              "      <td>0.517859</td>\n",
              "    </tr>\n",
              "    <tr>\n",
              "      <th>Magnesio</th>\n",
              "      <td>0.270798</td>\n",
              "      <td>-0.054575</td>\n",
              "      <td>0.286587</td>\n",
              "      <td>-0.083333</td>\n",
              "      <td>1.000000</td>\n",
              "      <td>0.214401</td>\n",
              "      <td>0.195784</td>\n",
              "      <td>-0.256294</td>\n",
              "      <td>0.236441</td>\n",
              "      <td>0.199950</td>\n",
              "      <td>0.055398</td>\n",
              "      <td>0.066004</td>\n",
              "      <td>0.393351</td>\n",
              "      <td>-0.209179</td>\n",
              "    </tr>\n",
              "    <tr>\n",
              "      <th>Total_Phenols</th>\n",
              "      <td>0.289101</td>\n",
              "      <td>-0.335167</td>\n",
              "      <td>0.128980</td>\n",
              "      <td>-0.321113</td>\n",
              "      <td>0.214401</td>\n",
              "      <td>1.000000</td>\n",
              "      <td>0.864564</td>\n",
              "      <td>-0.449935</td>\n",
              "      <td>0.612413</td>\n",
              "      <td>-0.055136</td>\n",
              "      <td>0.433681</td>\n",
              "      <td>0.699949</td>\n",
              "      <td>0.498115</td>\n",
              "      <td>-0.719163</td>\n",
              "    </tr>\n",
              "    <tr>\n",
              "      <th>Flavanoids</th>\n",
              "      <td>0.236815</td>\n",
              "      <td>-0.411007</td>\n",
              "      <td>0.115077</td>\n",
              "      <td>-0.351370</td>\n",
              "      <td>0.195784</td>\n",
              "      <td>0.864564</td>\n",
              "      <td>1.000000</td>\n",
              "      <td>-0.537900</td>\n",
              "      <td>0.652692</td>\n",
              "      <td>-0.172379</td>\n",
              "      <td>0.543479</td>\n",
              "      <td>0.787194</td>\n",
              "      <td>0.494193</td>\n",
              "      <td>-0.847498</td>\n",
              "    </tr>\n",
              "    <tr>\n",
              "      <th>Nonflavanoid_Phenols</th>\n",
              "      <td>-0.155929</td>\n",
              "      <td>0.292977</td>\n",
              "      <td>0.186230</td>\n",
              "      <td>0.361922</td>\n",
              "      <td>-0.256294</td>\n",
              "      <td>-0.449935</td>\n",
              "      <td>-0.537900</td>\n",
              "      <td>1.000000</td>\n",
              "      <td>-0.365845</td>\n",
              "      <td>0.139057</td>\n",
              "      <td>-0.262640</td>\n",
              "      <td>-0.503270</td>\n",
              "      <td>-0.311385</td>\n",
              "      <td>0.489109</td>\n",
              "    </tr>\n",
              "    <tr>\n",
              "      <th>Proanthocyanins</th>\n",
              "      <td>0.136698</td>\n",
              "      <td>-0.220746</td>\n",
              "      <td>0.009652</td>\n",
              "      <td>-0.197327</td>\n",
              "      <td>0.236441</td>\n",
              "      <td>0.612413</td>\n",
              "      <td>0.652692</td>\n",
              "      <td>-0.365845</td>\n",
              "      <td>1.000000</td>\n",
              "      <td>-0.025250</td>\n",
              "      <td>0.295544</td>\n",
              "      <td>0.519067</td>\n",
              "      <td>0.330417</td>\n",
              "      <td>-0.499130</td>\n",
              "    </tr>\n",
              "    <tr>\n",
              "      <th>Intendidade_de_cor</th>\n",
              "      <td>0.546364</td>\n",
              "      <td>0.248985</td>\n",
              "      <td>0.258887</td>\n",
              "      <td>0.018732</td>\n",
              "      <td>0.199950</td>\n",
              "      <td>-0.055136</td>\n",
              "      <td>-0.172379</td>\n",
              "      <td>0.139057</td>\n",
              "      <td>-0.025250</td>\n",
              "      <td>1.000000</td>\n",
              "      <td>-0.521813</td>\n",
              "      <td>-0.428815</td>\n",
              "      <td>0.316100</td>\n",
              "      <td>0.265668</td>\n",
              "    </tr>\n",
              "    <tr>\n",
              "      <th>Hue</th>\n",
              "      <td>-0.071747</td>\n",
              "      <td>-0.561296</td>\n",
              "      <td>-0.074667</td>\n",
              "      <td>-0.273955</td>\n",
              "      <td>0.055398</td>\n",
              "      <td>0.433681</td>\n",
              "      <td>0.543479</td>\n",
              "      <td>-0.262640</td>\n",
              "      <td>0.295544</td>\n",
              "      <td>-0.521813</td>\n",
              "      <td>1.000000</td>\n",
              "      <td>0.565468</td>\n",
              "      <td>0.236183</td>\n",
              "      <td>-0.617369</td>\n",
              "    </tr>\n",
              "    <tr>\n",
              "      <th>OD280</th>\n",
              "      <td>0.072343</td>\n",
              "      <td>-0.368710</td>\n",
              "      <td>0.003911</td>\n",
              "      <td>-0.276769</td>\n",
              "      <td>0.066004</td>\n",
              "      <td>0.699949</td>\n",
              "      <td>0.787194</td>\n",
              "      <td>-0.503270</td>\n",
              "      <td>0.519067</td>\n",
              "      <td>-0.428815</td>\n",
              "      <td>0.565468</td>\n",
              "      <td>1.000000</td>\n",
              "      <td>0.312761</td>\n",
              "      <td>-0.788230</td>\n",
              "    </tr>\n",
              "    <tr>\n",
              "      <th>Proline</th>\n",
              "      <td>0.643720</td>\n",
              "      <td>-0.192011</td>\n",
              "      <td>0.223626</td>\n",
              "      <td>-0.440597</td>\n",
              "      <td>0.393351</td>\n",
              "      <td>0.498115</td>\n",
              "      <td>0.494193</td>\n",
              "      <td>-0.311385</td>\n",
              "      <td>0.330417</td>\n",
              "      <td>0.316100</td>\n",
              "      <td>0.236183</td>\n",
              "      <td>0.312761</td>\n",
              "      <td>1.000000</td>\n",
              "      <td>-0.633717</td>\n",
              "    </tr>\n",
              "    <tr>\n",
              "      <th>Customer_Segment</th>\n",
              "      <td>-0.328222</td>\n",
              "      <td>0.437776</td>\n",
              "      <td>-0.049643</td>\n",
              "      <td>0.517859</td>\n",
              "      <td>-0.209179</td>\n",
              "      <td>-0.719163</td>\n",
              "      <td>-0.847498</td>\n",
              "      <td>0.489109</td>\n",
              "      <td>-0.499130</td>\n",
              "      <td>0.265668</td>\n",
              "      <td>-0.617369</td>\n",
              "      <td>-0.788230</td>\n",
              "      <td>-0.633717</td>\n",
              "      <td>1.000000</td>\n",
              "    </tr>\n",
              "  </tbody>\n",
              "</table>\n",
              "</div>"
            ],
            "text/plain": [
              "                       Alcohol  Malic_Acid  ...   Proline  Customer_Segment\n",
              "Alcohol               1.000000    0.094397  ...  0.643720         -0.328222\n",
              "Malic_Acid            0.094397    1.000000  ... -0.192011          0.437776\n",
              "Po                    0.211545    0.164045  ...  0.223626         -0.049643\n",
              "Alcalinidade_po      -0.310235    0.288500  ... -0.440597          0.517859\n",
              "Magnesio              0.270798   -0.054575  ...  0.393351         -0.209179\n",
              "Total_Phenols         0.289101   -0.335167  ...  0.498115         -0.719163\n",
              "Flavanoids            0.236815   -0.411007  ...  0.494193         -0.847498\n",
              "Nonflavanoid_Phenols -0.155929    0.292977  ... -0.311385          0.489109\n",
              "Proanthocyanins       0.136698   -0.220746  ...  0.330417         -0.499130\n",
              "Intendidade_de_cor    0.546364    0.248985  ...  0.316100          0.265668\n",
              "Hue                  -0.071747   -0.561296  ...  0.236183         -0.617369\n",
              "OD280                 0.072343   -0.368710  ...  0.312761         -0.788230\n",
              "Proline               0.643720   -0.192011  ...  1.000000         -0.633717\n",
              "Customer_Segment     -0.328222    0.437776  ... -0.633717          1.000000\n",
              "\n",
              "[14 rows x 14 columns]"
            ]
          },
          "metadata": {},
          "execution_count": 11
        }
      ]
    },
    {
      "cell_type": "code",
      "metadata": {
        "colab": {
          "base_uri": "https://localhost:8080/"
        },
        "id": "BehErNXkqPwS",
        "outputId": "bc1ab686-6696-4d62-f150-95b911b4988c"
      },
      "source": [
        "# correlações com biokit\n",
        "\n",
        "!pip install biokit"
      ],
      "execution_count": 12,
      "outputs": [
        {
          "output_type": "stream",
          "name": "stdout",
          "text": [
            "Requirement already satisfied: biokit in /usr/local/lib/python3.7/dist-packages (0.5.0)\n",
            "Requirement already satisfied: numpydoc in /usr/local/lib/python3.7/dist-packages (from biokit) (1.1.0)\n",
            "Requirement already satisfied: biopython in /usr/local/lib/python3.7/dist-packages (from biokit) (1.79)\n",
            "Requirement already satisfied: pandas in /usr/local/lib/python3.7/dist-packages (from biokit) (1.1.5)\n",
            "Requirement already satisfied: scipy in /usr/local/lib/python3.7/dist-packages (from biokit) (1.4.1)\n",
            "Requirement already satisfied: colormap in /usr/local/lib/python3.7/dist-packages (from biokit) (1.0.4)\n",
            "Requirement already satisfied: matplotlib in /usr/local/lib/python3.7/dist-packages (from biokit) (3.2.2)\n",
            "Requirement already satisfied: easydev>=0.9.34 in /usr/local/lib/python3.7/dist-packages (from biokit) (0.12.0)\n",
            "Requirement already satisfied: colorlog in /usr/local/lib/python3.7/dist-packages (from biokit) (6.5.0)\n",
            "Requirement already satisfied: bioservices>=1.4.5 in /usr/local/lib/python3.7/dist-packages (from biokit) (1.8.2)\n",
            "Requirement already satisfied: lxml in /usr/local/lib/python3.7/dist-packages (from bioservices>=1.4.5->biokit) (4.2.6)\n",
            "Requirement already satisfied: beautifulsoup4 in /usr/local/lib/python3.7/dist-packages (from bioservices>=1.4.5->biokit) (4.6.3)\n",
            "Requirement already satisfied: suds-community in /usr/local/lib/python3.7/dist-packages (from bioservices>=1.4.5->biokit) (0.8.5)\n",
            "Requirement already satisfied: wrapt in /usr/local/lib/python3.7/dist-packages (from bioservices>=1.4.5->biokit) (1.12.1)\n",
            "Requirement already satisfied: xmltodict in /usr/local/lib/python3.7/dist-packages (from bioservices>=1.4.5->biokit) (0.12.0)\n",
            "Requirement already satisfied: requests-cache in /usr/local/lib/python3.7/dist-packages (from bioservices>=1.4.5->biokit) (0.8.1)\n",
            "Requirement already satisfied: appdirs in /usr/local/lib/python3.7/dist-packages (from bioservices>=1.4.5->biokit) (1.4.4)\n",
            "Requirement already satisfied: grequests in /usr/local/lib/python3.7/dist-packages (from bioservices>=1.4.5->biokit) (0.6.0)\n",
            "Requirement already satisfied: requests in /usr/local/lib/python3.7/dist-packages (from bioservices>=1.4.5->biokit) (2.23.0)\n",
            "Requirement already satisfied: pexpect in /usr/local/lib/python3.7/dist-packages (from easydev>=0.9.34->biokit) (4.8.0)\n",
            "Requirement already satisfied: colorama in /usr/local/lib/python3.7/dist-packages (from easydev>=0.9.34->biokit) (0.4.4)\n",
            "Requirement already satisfied: numpy in /usr/local/lib/python3.7/dist-packages (from biopython->biokit) (1.19.5)\n",
            "Requirement already satisfied: gevent in /usr/local/lib/python3.7/dist-packages (from grequests->bioservices>=1.4.5->biokit) (21.8.0)\n",
            "Requirement already satisfied: zope.interface in /usr/local/lib/python3.7/dist-packages (from gevent->grequests->bioservices>=1.4.5->biokit) (5.4.0)\n",
            "Requirement already satisfied: setuptools in /usr/local/lib/python3.7/dist-packages (from gevent->grequests->bioservices>=1.4.5->biokit) (57.4.0)\n",
            "Requirement already satisfied: zope.event in /usr/local/lib/python3.7/dist-packages (from gevent->grequests->bioservices>=1.4.5->biokit) (4.5.0)\n",
            "Requirement already satisfied: greenlet<2.0,>=1.1.0 in /usr/local/lib/python3.7/dist-packages (from gevent->grequests->bioservices>=1.4.5->biokit) (1.1.2)\n",
            "Requirement already satisfied: cycler>=0.10 in /usr/local/lib/python3.7/dist-packages (from matplotlib->biokit) (0.10.0)\n",
            "Requirement already satisfied: pyparsing!=2.0.4,!=2.1.2,!=2.1.6,>=2.0.1 in /usr/local/lib/python3.7/dist-packages (from matplotlib->biokit) (2.4.7)\n",
            "Requirement already satisfied: kiwisolver>=1.0.1 in /usr/local/lib/python3.7/dist-packages (from matplotlib->biokit) (1.3.2)\n",
            "Requirement already satisfied: python-dateutil>=2.1 in /usr/local/lib/python3.7/dist-packages (from matplotlib->biokit) (2.8.2)\n",
            "Requirement already satisfied: six in /usr/local/lib/python3.7/dist-packages (from cycler>=0.10->matplotlib->biokit) (1.15.0)\n",
            "Requirement already satisfied: sphinx>=1.6.5 in /usr/local/lib/python3.7/dist-packages (from numpydoc->biokit) (1.8.5)\n",
            "Requirement already satisfied: Jinja2>=2.3 in /usr/local/lib/python3.7/dist-packages (from numpydoc->biokit) (2.11.3)\n",
            "Requirement already satisfied: MarkupSafe>=0.23 in /usr/local/lib/python3.7/dist-packages (from Jinja2>=2.3->numpydoc->biokit) (2.0.1)\n",
            "Requirement already satisfied: alabaster<0.8,>=0.7 in /usr/local/lib/python3.7/dist-packages (from sphinx>=1.6.5->numpydoc->biokit) (0.7.12)\n",
            "Requirement already satisfied: imagesize in /usr/local/lib/python3.7/dist-packages (from sphinx>=1.6.5->numpydoc->biokit) (1.2.0)\n",
            "Requirement already satisfied: snowballstemmer>=1.1 in /usr/local/lib/python3.7/dist-packages (from sphinx>=1.6.5->numpydoc->biokit) (2.1.0)\n",
            "Requirement already satisfied: babel!=2.0,>=1.3 in /usr/local/lib/python3.7/dist-packages (from sphinx>=1.6.5->numpydoc->biokit) (2.9.1)\n",
            "Requirement already satisfied: Pygments>=2.0 in /usr/local/lib/python3.7/dist-packages (from sphinx>=1.6.5->numpydoc->biokit) (2.6.1)\n",
            "Requirement already satisfied: packaging in /usr/local/lib/python3.7/dist-packages (from sphinx>=1.6.5->numpydoc->biokit) (21.0)\n",
            "Requirement already satisfied: sphinxcontrib-websupport in /usr/local/lib/python3.7/dist-packages (from sphinx>=1.6.5->numpydoc->biokit) (1.2.4)\n",
            "Requirement already satisfied: docutils>=0.11 in /usr/local/lib/python3.7/dist-packages (from sphinx>=1.6.5->numpydoc->biokit) (0.17.1)\n",
            "Requirement already satisfied: pytz>=2015.7 in /usr/local/lib/python3.7/dist-packages (from babel!=2.0,>=1.3->sphinx>=1.6.5->numpydoc->biokit) (2018.9)\n",
            "Requirement already satisfied: idna<3,>=2.5 in /usr/local/lib/python3.7/dist-packages (from requests->bioservices>=1.4.5->biokit) (2.10)\n",
            "Requirement already satisfied: chardet<4,>=3.0.2 in /usr/local/lib/python3.7/dist-packages (from requests->bioservices>=1.4.5->biokit) (3.0.4)\n",
            "Requirement already satisfied: certifi>=2017.4.17 in /usr/local/lib/python3.7/dist-packages (from requests->bioservices>=1.4.5->biokit) (2021.5.30)\n",
            "Requirement already satisfied: urllib3!=1.25.0,!=1.25.1,<1.26,>=1.21.1 in /usr/local/lib/python3.7/dist-packages (from requests->bioservices>=1.4.5->biokit) (1.25.11)\n",
            "Requirement already satisfied: ptyprocess>=0.5 in /usr/local/lib/python3.7/dist-packages (from pexpect->easydev>=0.9.34->biokit) (0.7.0)\n",
            "Requirement already satisfied: attrs<22.0,>=21.2 in /usr/local/lib/python3.7/dist-packages (from requests-cache->bioservices>=1.4.5->biokit) (21.2.0)\n",
            "Requirement already satisfied: cattrs<2.0,>=1.8 in /usr/local/lib/python3.7/dist-packages (from requests-cache->bioservices>=1.4.5->biokit) (1.8.0)\n",
            "Requirement already satisfied: url-normalize<2.0,>=1.4 in /usr/local/lib/python3.7/dist-packages (from requests-cache->bioservices>=1.4.5->biokit) (1.4.3)\n",
            "Requirement already satisfied: sphinxcontrib-serializinghtml in /usr/local/lib/python3.7/dist-packages (from sphinxcontrib-websupport->sphinx>=1.6.5->numpydoc->biokit) (1.1.5)\n"
          ]
        }
      ]
    },
    {
      "cell_type": "code",
      "metadata": {
        "id": "EKBi9fgDqPtg"
      },
      "source": [
        "from biokit.viz import corrplot\n",
        "import matplotlib.pyplot as plt"
      ],
      "execution_count": 13,
      "outputs": []
    },
    {
      "cell_type": "code",
      "metadata": {
        "colab": {
          "base_uri": "https://localhost:8080/",
          "height": 441
        },
        "id": "AYdGZn1BqPqc",
        "outputId": "c00e6f97-e063-43d6-d573-27fe3cc72d95"
      },
      "source": [
        "corr_graph = corrplot.Corrplot(matriz_corr)\n",
        "corr_graph.plot(upper = 'ellipse', fontsize = 'x-large')\n",
        "fig = plt.gcf()\n",
        "fig.set_size_inches(13, 8)\n",
        "fig.show()"
      ],
      "execution_count": 14,
      "outputs": [
        {
          "output_type": "display_data",
          "data": {
            "image/png": "[encoded data removed]",
            "text/plain": [
              "<Figure size 936x576 with 2 Axes>"
            ]
          },
          "metadata": {}
        }
      ]
    },
    {
      "cell_type": "code",
      "metadata": {
        "id": "SEjVScdLqPns"
      },
      "source": [
        "# normalização manual dos dados \n",
        "atributos = df.columns\n",
        "\n",
        "for atributo in atributos:\n",
        "  df[atributo] = (df[atributo]-min(df[atributo]))/(max(df[atributo])-min(df[atributo]))"
      ],
      "execution_count": 15,
      "outputs": []
    },
    {
      "cell_type": "code",
      "metadata": {
        "colab": {
          "base_uri": "https://localhost:8080/",
          "height": 204
        },
        "id": "WONIMo9qqPk8",
        "outputId": "25c45100-927c-43d0-d96d-441cab1e8f67"
      },
      "source": [
        "df.head()"
      ],
      "execution_count": 16,
      "outputs": [
        {
          "output_type": "execute_result",
          "data": {
            "text/html": [
              "<div>\n",
              "<style scoped>\n",
              "    .dataframe tbody tr th:only-of-type {\n",
              "        vertical-align: middle;\n",
              "    }\n",
              "\n",
              "    .dataframe tbody tr th {\n",
              "        vertical-align: top;\n",
              "    }\n",
              "\n",
              "    .dataframe thead th {\n",
              "        text-align: right;\n",
              "    }\n",
              "</style>\n",
              "<table border=\"1\" class=\"dataframe\">\n",
              "  <thead>\n",
              "    <tr style=\"text-align: right;\">\n",
              "      <th></th>\n",
              "      <th>Alcohol</th>\n",
              "      <th>Malic_Acid</th>\n",
              "      <th>Po</th>\n",
              "      <th>Alcalinidade_po</th>\n",
              "      <th>Magnesio</th>\n",
              "      <th>Total_Phenols</th>\n",
              "      <th>Flavanoids</th>\n",
              "      <th>Nonflavanoid_Phenols</th>\n",
              "      <th>Proanthocyanins</th>\n",
              "      <th>Intendidade_de_cor</th>\n",
              "      <th>Hue</th>\n",
              "      <th>OD280</th>\n",
              "      <th>Proline</th>\n",
              "      <th>Customer_Segment</th>\n",
              "    </tr>\n",
              "  </thead>\n",
              "  <tbody>\n",
              "    <tr>\n",
              "      <th>0</th>\n",
              "      <td>0.842105</td>\n",
              "      <td>0.191700</td>\n",
              "      <td>0.572193</td>\n",
              "      <td>0.257732</td>\n",
              "      <td>0.619565</td>\n",
              "      <td>0.627586</td>\n",
              "      <td>0.573840</td>\n",
              "      <td>0.283019</td>\n",
              "      <td>0.593060</td>\n",
              "      <td>0.372014</td>\n",
              "      <td>0.455285</td>\n",
              "      <td>0.970696</td>\n",
              "      <td>0.561341</td>\n",
              "      <td>0.0</td>\n",
              "    </tr>\n",
              "    <tr>\n",
              "      <th>1</th>\n",
              "      <td>0.571053</td>\n",
              "      <td>0.205534</td>\n",
              "      <td>0.417112</td>\n",
              "      <td>0.030928</td>\n",
              "      <td>0.326087</td>\n",
              "      <td>0.575862</td>\n",
              "      <td>0.510549</td>\n",
              "      <td>0.245283</td>\n",
              "      <td>0.274448</td>\n",
              "      <td>0.264505</td>\n",
              "      <td>0.463415</td>\n",
              "      <td>0.780220</td>\n",
              "      <td>0.550642</td>\n",
              "      <td>0.0</td>\n",
              "    </tr>\n",
              "    <tr>\n",
              "      <th>2</th>\n",
              "      <td>0.560526</td>\n",
              "      <td>0.320158</td>\n",
              "      <td>0.700535</td>\n",
              "      <td>0.412371</td>\n",
              "      <td>0.336957</td>\n",
              "      <td>0.627586</td>\n",
              "      <td>0.611814</td>\n",
              "      <td>0.320755</td>\n",
              "      <td>0.757098</td>\n",
              "      <td>0.375427</td>\n",
              "      <td>0.447154</td>\n",
              "      <td>0.695971</td>\n",
              "      <td>0.646933</td>\n",
              "      <td>0.0</td>\n",
              "    </tr>\n",
              "    <tr>\n",
              "      <th>3</th>\n",
              "      <td>0.878947</td>\n",
              "      <td>0.239130</td>\n",
              "      <td>0.609626</td>\n",
              "      <td>0.319588</td>\n",
              "      <td>0.467391</td>\n",
              "      <td>0.989655</td>\n",
              "      <td>0.664557</td>\n",
              "      <td>0.207547</td>\n",
              "      <td>0.558360</td>\n",
              "      <td>0.556314</td>\n",
              "      <td>0.308943</td>\n",
              "      <td>0.798535</td>\n",
              "      <td>0.857347</td>\n",
              "      <td>0.0</td>\n",
              "    </tr>\n",
              "    <tr>\n",
              "      <th>4</th>\n",
              "      <td>0.581579</td>\n",
              "      <td>0.365613</td>\n",
              "      <td>0.807487</td>\n",
              "      <td>0.536082</td>\n",
              "      <td>0.521739</td>\n",
              "      <td>0.627586</td>\n",
              "      <td>0.495781</td>\n",
              "      <td>0.490566</td>\n",
              "      <td>0.444795</td>\n",
              "      <td>0.259386</td>\n",
              "      <td>0.455285</td>\n",
              "      <td>0.608059</td>\n",
              "      <td>0.325963</td>\n",
              "      <td>0.0</td>\n",
              "    </tr>\n",
              "  </tbody>\n",
              "</table>\n",
              "</div>"
            ],
            "text/plain": [
              "    Alcohol  Malic_Acid        Po  ...     OD280   Proline  Customer_Segment\n",
              "0  0.842105    0.191700  0.572193  ...  0.970696  0.561341               0.0\n",
              "1  0.571053    0.205534  0.417112  ...  0.780220  0.550642               0.0\n",
              "2  0.560526    0.320158  0.700535  ...  0.695971  0.646933               0.0\n",
              "3  0.878947    0.239130  0.609626  ...  0.798535  0.857347               0.0\n",
              "4  0.581579    0.365613  0.807487  ...  0.608059  0.325963               0.0\n",
              "\n",
              "[5 rows x 14 columns]"
            ]
          },
          "metadata": {},
          "execution_count": 16
        }
      ]
    },
    {
      "cell_type": "code",
      "metadata": {
        "colab": {
          "base_uri": "https://localhost:8080/",
          "height": 297
        },
        "id": "6OS-8JIhqPiN",
        "outputId": "7cb73c71-1465-4809-d26f-78f4de811fee"
      },
      "source": [
        "df.describe()"
      ],
      "execution_count": 17,
      "outputs": [
        {
          "output_type": "execute_result",
          "data": {
            "text/html": [
              "<div>\n",
              "<style scoped>\n",
              "    .dataframe tbody tr th:only-of-type {\n",
              "        vertical-align: middle;\n",
              "    }\n",
              "\n",
              "    .dataframe tbody tr th {\n",
              "        vertical-align: top;\n",
              "    }\n",
              "\n",
              "    .dataframe thead th {\n",
              "        text-align: right;\n",
              "    }\n",
              "</style>\n",
              "<table border=\"1\" class=\"dataframe\">\n",
              "  <thead>\n",
              "    <tr style=\"text-align: right;\">\n",
              "      <th></th>\n",
              "      <th>Alcohol</th>\n",
              "      <th>Malic_Acid</th>\n",
              "      <th>Po</th>\n",
              "      <th>Alcalinidade_po</th>\n",
              "      <th>Magnesio</th>\n",
              "      <th>Total_Phenols</th>\n",
              "      <th>Flavanoids</th>\n",
              "      <th>Nonflavanoid_Phenols</th>\n",
              "      <th>Proanthocyanins</th>\n",
              "      <th>Intendidade_de_cor</th>\n",
              "      <th>Hue</th>\n",
              "      <th>OD280</th>\n",
              "      <th>Proline</th>\n",
              "      <th>Customer_Segment</th>\n",
              "    </tr>\n",
              "  </thead>\n",
              "  <tbody>\n",
              "    <tr>\n",
              "      <th>count</th>\n",
              "      <td>178.000000</td>\n",
              "      <td>178.000000</td>\n",
              "      <td>178.000000</td>\n",
              "      <td>178.000000</td>\n",
              "      <td>178.000000</td>\n",
              "      <td>178.000000</td>\n",
              "      <td>178.000000</td>\n",
              "      <td>178.000000</td>\n",
              "      <td>178.000000</td>\n",
              "      <td>178.000000</td>\n",
              "      <td>178.000000</td>\n",
              "      <td>178.000000</td>\n",
              "      <td>178.000000</td>\n",
              "      <td>178.000000</td>\n",
              "    </tr>\n",
              "    <tr>\n",
              "      <th>mean</th>\n",
              "      <td>0.518584</td>\n",
              "      <td>0.315484</td>\n",
              "      <td>0.538244</td>\n",
              "      <td>0.458502</td>\n",
              "      <td>0.323278</td>\n",
              "      <td>0.453487</td>\n",
              "      <td>0.356386</td>\n",
              "      <td>0.437460</td>\n",
              "      <td>0.372523</td>\n",
              "      <td>0.322363</td>\n",
              "      <td>0.388170</td>\n",
              "      <td>0.491460</td>\n",
              "      <td>0.334446</td>\n",
              "      <td>0.469101</td>\n",
              "    </tr>\n",
              "    <tr>\n",
              "      <th>std</th>\n",
              "      <td>0.213639</td>\n",
              "      <td>0.220780</td>\n",
              "      <td>0.146708</td>\n",
              "      <td>0.172142</td>\n",
              "      <td>0.155244</td>\n",
              "      <td>0.215811</td>\n",
              "      <td>0.210730</td>\n",
              "      <td>0.234818</td>\n",
              "      <td>0.180555</td>\n",
              "      <td>0.197806</td>\n",
              "      <td>0.185831</td>\n",
              "      <td>0.260070</td>\n",
              "      <td>0.224613</td>\n",
              "      <td>0.387517</td>\n",
              "    </tr>\n",
              "    <tr>\n",
              "      <th>min</th>\n",
              "      <td>0.000000</td>\n",
              "      <td>0.000000</td>\n",
              "      <td>0.000000</td>\n",
              "      <td>0.000000</td>\n",
              "      <td>0.000000</td>\n",
              "      <td>0.000000</td>\n",
              "      <td>0.000000</td>\n",
              "      <td>0.000000</td>\n",
              "      <td>0.000000</td>\n",
              "      <td>0.000000</td>\n",
              "      <td>0.000000</td>\n",
              "      <td>0.000000</td>\n",
              "      <td>0.000000</td>\n",
              "      <td>0.000000</td>\n",
              "    </tr>\n",
              "    <tr>\n",
              "      <th>25%</th>\n",
              "      <td>0.350658</td>\n",
              "      <td>0.170455</td>\n",
              "      <td>0.454545</td>\n",
              "      <td>0.340206</td>\n",
              "      <td>0.195652</td>\n",
              "      <td>0.262931</td>\n",
              "      <td>0.182489</td>\n",
              "      <td>0.264151</td>\n",
              "      <td>0.264984</td>\n",
              "      <td>0.165529</td>\n",
              "      <td>0.245935</td>\n",
              "      <td>0.244505</td>\n",
              "      <td>0.158702</td>\n",
              "      <td>0.000000</td>\n",
              "    </tr>\n",
              "    <tr>\n",
              "      <th>50%</th>\n",
              "      <td>0.531579</td>\n",
              "      <td>0.222332</td>\n",
              "      <td>0.534759</td>\n",
              "      <td>0.458763</td>\n",
              "      <td>0.304348</td>\n",
              "      <td>0.474138</td>\n",
              "      <td>0.378692</td>\n",
              "      <td>0.396226</td>\n",
              "      <td>0.361199</td>\n",
              "      <td>0.290956</td>\n",
              "      <td>0.394309</td>\n",
              "      <td>0.553114</td>\n",
              "      <td>0.282097</td>\n",
              "      <td>0.500000</td>\n",
              "    </tr>\n",
              "    <tr>\n",
              "      <th>75%</th>\n",
              "      <td>0.696711</td>\n",
              "      <td>0.462945</td>\n",
              "      <td>0.640374</td>\n",
              "      <td>0.561856</td>\n",
              "      <td>0.402174</td>\n",
              "      <td>0.627586</td>\n",
              "      <td>0.534810</td>\n",
              "      <td>0.580189</td>\n",
              "      <td>0.485804</td>\n",
              "      <td>0.419795</td>\n",
              "      <td>0.520325</td>\n",
              "      <td>0.695971</td>\n",
              "      <td>0.504280</td>\n",
              "      <td>1.000000</td>\n",
              "    </tr>\n",
              "    <tr>\n",
              "      <th>max</th>\n",
              "      <td>1.000000</td>\n",
              "      <td>1.000000</td>\n",
              "      <td>1.000000</td>\n",
              "      <td>1.000000</td>\n",
              "      <td>1.000000</td>\n",
              "      <td>1.000000</td>\n",
              "      <td>1.000000</td>\n",
              "      <td>1.000000</td>\n",
              "      <td>1.000000</td>\n",
              "      <td>1.000000</td>\n",
              "      <td>1.000000</td>\n",
              "      <td>1.000000</td>\n",
              "      <td>1.000000</td>\n",
              "      <td>1.000000</td>\n",
              "    </tr>\n",
              "  </tbody>\n",
              "</table>\n",
              "</div>"
            ],
            "text/plain": [
              "          Alcohol  Malic_Acid  ...     Proline  Customer_Segment\n",
              "count  178.000000  178.000000  ...  178.000000        178.000000\n",
              "mean     0.518584    0.315484  ...    0.334446          0.469101\n",
              "std      0.213639    0.220780  ...    0.224613          0.387517\n",
              "min      0.000000    0.000000  ...    0.000000          0.000000\n",
              "25%      0.350658    0.170455  ...    0.158702          0.000000\n",
              "50%      0.531579    0.222332  ...    0.282097          0.500000\n",
              "75%      0.696711    0.462945  ...    0.504280          1.000000\n",
              "max      1.000000    1.000000  ...    1.000000          1.000000\n",
              "\n",
              "[8 rows x 14 columns]"
            ]
          },
          "metadata": {},
          "execution_count": 17
        }
      ]
    },
    {
      "cell_type": "code",
      "metadata": {
        "id": "9vCqQGXDqPfb"
      },
      "source": [
        "# normalização com Sklearn\n",
        "\n",
        "df = pd.read_csv('Wines.csv')\n",
        "df = df.rename(columns = {'Alcohol': 'Alcool',\n",
        "                          'Ash': 'Po',\n",
        "                          'Ash_Alcanity': 'Alcalinidade_po',\n",
        "                          'Magnesium': 'Magnesio',\n",
        "                          'Color_Intensity': 'Intensidade_de_cor'\n",
        "                          })\n",
        "\n",
        "from sklearn import preprocessing\n",
        "\n",
        "colunas = df.columns\n",
        "\n",
        "min_max_scaler = preprocessing.MinMaxScaler()\n",
        "np_df = min_max_scaler.fit_transform(df)\n",
        "\n",
        "df = pd.DataFrame(np_df, columns = colunas)"
      ],
      "execution_count": 18,
      "outputs": []
    },
    {
      "cell_type": "code",
      "metadata": {
        "colab": {
          "base_uri": "https://localhost:8080/",
          "height": 297
        },
        "id": "uPFquoR0qPcj",
        "outputId": "1417beb5-81f8-45c6-bd47-0b96e0268b1f"
      },
      "source": [
        "df.describe()"
      ],
      "execution_count": 19,
      "outputs": [
        {
          "output_type": "execute_result",
          "data": {
            "text/html": [
              "<div>\n",
              "<style scoped>\n",
              "    .dataframe tbody tr th:only-of-type {\n",
              "        vertical-align: middle;\n",
              "    }\n",
              "\n",
              "    .dataframe tbody tr th {\n",
              "        vertical-align: top;\n",
              "    }\n",
              "\n",
              "    .dataframe thead th {\n",
              "        text-align: right;\n",
              "    }\n",
              "</style>\n",
              "<table border=\"1\" class=\"dataframe\">\n",
              "  <thead>\n",
              "    <tr style=\"text-align: right;\">\n",
              "      <th></th>\n",
              "      <th>Alcool</th>\n",
              "      <th>Malic_Acid</th>\n",
              "      <th>Po</th>\n",
              "      <th>Alcalinidade_po</th>\n",
              "      <th>Magnesio</th>\n",
              "      <th>Total_Phenols</th>\n",
              "      <th>Flavanoids</th>\n",
              "      <th>Nonflavanoid_Phenols</th>\n",
              "      <th>Proanthocyanins</th>\n",
              "      <th>Intensidade_de_cor</th>\n",
              "      <th>Hue</th>\n",
              "      <th>OD280</th>\n",
              "      <th>Proline</th>\n",
              "      <th>Customer_Segment</th>\n",
              "    </tr>\n",
              "  </thead>\n",
              "  <tbody>\n",
              "    <tr>\n",
              "      <th>count</th>\n",
              "      <td>178.000000</td>\n",
              "      <td>178.000000</td>\n",
              "      <td>178.000000</td>\n",
              "      <td>178.000000</td>\n",
              "      <td>178.000000</td>\n",
              "      <td>178.000000</td>\n",
              "      <td>178.000000</td>\n",
              "      <td>178.000000</td>\n",
              "      <td>178.000000</td>\n",
              "      <td>178.000000</td>\n",
              "      <td>178.000000</td>\n",
              "      <td>178.000000</td>\n",
              "      <td>178.000000</td>\n",
              "      <td>178.000000</td>\n",
              "    </tr>\n",
              "    <tr>\n",
              "      <th>mean</th>\n",
              "      <td>0.518584</td>\n",
              "      <td>0.315484</td>\n",
              "      <td>0.538244</td>\n",
              "      <td>0.458502</td>\n",
              "      <td>0.323278</td>\n",
              "      <td>0.453487</td>\n",
              "      <td>0.356386</td>\n",
              "      <td>0.437460</td>\n",
              "      <td>0.372523</td>\n",
              "      <td>0.322363</td>\n",
              "      <td>0.388170</td>\n",
              "      <td>0.491460</td>\n",
              "      <td>0.334446</td>\n",
              "      <td>0.469101</td>\n",
              "    </tr>\n",
              "    <tr>\n",
              "      <th>std</th>\n",
              "      <td>0.213639</td>\n",
              "      <td>0.220780</td>\n",
              "      <td>0.146708</td>\n",
              "      <td>0.172142</td>\n",
              "      <td>0.155244</td>\n",
              "      <td>0.215811</td>\n",
              "      <td>0.210730</td>\n",
              "      <td>0.234818</td>\n",
              "      <td>0.180555</td>\n",
              "      <td>0.197806</td>\n",
              "      <td>0.185831</td>\n",
              "      <td>0.260070</td>\n",
              "      <td>0.224613</td>\n",
              "      <td>0.387517</td>\n",
              "    </tr>\n",
              "    <tr>\n",
              "      <th>min</th>\n",
              "      <td>0.000000</td>\n",
              "      <td>0.000000</td>\n",
              "      <td>0.000000</td>\n",
              "      <td>0.000000</td>\n",
              "      <td>0.000000</td>\n",
              "      <td>0.000000</td>\n",
              "      <td>0.000000</td>\n",
              "      <td>0.000000</td>\n",
              "      <td>0.000000</td>\n",
              "      <td>0.000000</td>\n",
              "      <td>0.000000</td>\n",
              "      <td>0.000000</td>\n",
              "      <td>0.000000</td>\n",
              "      <td>0.000000</td>\n",
              "    </tr>\n",
              "    <tr>\n",
              "      <th>25%</th>\n",
              "      <td>0.350658</td>\n",
              "      <td>0.170455</td>\n",
              "      <td>0.454545</td>\n",
              "      <td>0.340206</td>\n",
              "      <td>0.195652</td>\n",
              "      <td>0.262931</td>\n",
              "      <td>0.182489</td>\n",
              "      <td>0.264151</td>\n",
              "      <td>0.264984</td>\n",
              "      <td>0.165529</td>\n",
              "      <td>0.245935</td>\n",
              "      <td>0.244505</td>\n",
              "      <td>0.158702</td>\n",
              "      <td>0.000000</td>\n",
              "    </tr>\n",
              "    <tr>\n",
              "      <th>50%</th>\n",
              "      <td>0.531579</td>\n",
              "      <td>0.222332</td>\n",
              "      <td>0.534759</td>\n",
              "      <td>0.458763</td>\n",
              "      <td>0.304348</td>\n",
              "      <td>0.474138</td>\n",
              "      <td>0.378692</td>\n",
              "      <td>0.396226</td>\n",
              "      <td>0.361199</td>\n",
              "      <td>0.290956</td>\n",
              "      <td>0.394309</td>\n",
              "      <td>0.553114</td>\n",
              "      <td>0.282097</td>\n",
              "      <td>0.500000</td>\n",
              "    </tr>\n",
              "    <tr>\n",
              "      <th>75%</th>\n",
              "      <td>0.696711</td>\n",
              "      <td>0.462945</td>\n",
              "      <td>0.640374</td>\n",
              "      <td>0.561856</td>\n",
              "      <td>0.402174</td>\n",
              "      <td>0.627586</td>\n",
              "      <td>0.534810</td>\n",
              "      <td>0.580189</td>\n",
              "      <td>0.485804</td>\n",
              "      <td>0.419795</td>\n",
              "      <td>0.520325</td>\n",
              "      <td>0.695971</td>\n",
              "      <td>0.504280</td>\n",
              "      <td>1.000000</td>\n",
              "    </tr>\n",
              "    <tr>\n",
              "      <th>max</th>\n",
              "      <td>1.000000</td>\n",
              "      <td>1.000000</td>\n",
              "      <td>1.000000</td>\n",
              "      <td>1.000000</td>\n",
              "      <td>1.000000</td>\n",
              "      <td>1.000000</td>\n",
              "      <td>1.000000</td>\n",
              "      <td>1.000000</td>\n",
              "      <td>1.000000</td>\n",
              "      <td>1.000000</td>\n",
              "      <td>1.000000</td>\n",
              "      <td>1.000000</td>\n",
              "      <td>1.000000</td>\n",
              "      <td>1.000000</td>\n",
              "    </tr>\n",
              "  </tbody>\n",
              "</table>\n",
              "</div>"
            ],
            "text/plain": [
              "           Alcool  Malic_Acid  ...     Proline  Customer_Segment\n",
              "count  178.000000  178.000000  ...  178.000000        178.000000\n",
              "mean     0.518584    0.315484  ...    0.334446          0.469101\n",
              "std      0.213639    0.220780  ...    0.224613          0.387517\n",
              "min      0.000000    0.000000  ...    0.000000          0.000000\n",
              "25%      0.350658    0.170455  ...    0.158702          0.000000\n",
              "50%      0.531579    0.222332  ...    0.282097          0.500000\n",
              "75%      0.696711    0.462945  ...    0.504280          1.000000\n",
              "max      1.000000    1.000000  ...    1.000000          1.000000\n",
              "\n",
              "[8 rows x 14 columns]"
            ]
          },
          "metadata": {},
          "execution_count": 19
        }
      ]
    },
    {
      "cell_type": "code",
      "metadata": {
        "id": "GSwI_z3HqPXy"
      },
      "source": [
        "np_df = min_max_scaler.inverse_transform(df)"
      ],
      "execution_count": 20,
      "outputs": []
    },
    {
      "cell_type": "code",
      "metadata": {
        "id": "ohgpecSaqPUK"
      },
      "source": [
        "df_nao_normalizados = pd.DataFrame(np_df, columns = colunas)"
      ],
      "execution_count": 21,
      "outputs": []
    },
    {
      "cell_type": "code",
      "metadata": {
        "colab": {
          "base_uri": "https://localhost:8080/",
          "height": 297
        },
        "id": "ovslBWhdrcsI",
        "outputId": "5ff3e09e-669a-4456-bcc1-b0631b0803e7"
      },
      "source": [
        "df_nao_normalizados.describe()"
      ],
      "execution_count": 22,
      "outputs": [
        {
          "output_type": "execute_result",
          "data": {
            "text/html": [
              "<div>\n",
              "<style scoped>\n",
              "    .dataframe tbody tr th:only-of-type {\n",
              "        vertical-align: middle;\n",
              "    }\n",
              "\n",
              "    .dataframe tbody tr th {\n",
              "        vertical-align: top;\n",
              "    }\n",
              "\n",
              "    .dataframe thead th {\n",
              "        text-align: right;\n",
              "    }\n",
              "</style>\n",
              "<table border=\"1\" class=\"dataframe\">\n",
              "  <thead>\n",
              "    <tr style=\"text-align: right;\">\n",
              "      <th></th>\n",
              "      <th>Alcool</th>\n",
              "      <th>Malic_Acid</th>\n",
              "      <th>Po</th>\n",
              "      <th>Alcalinidade_po</th>\n",
              "      <th>Magnesio</th>\n",
              "      <th>Total_Phenols</th>\n",
              "      <th>Flavanoids</th>\n",
              "      <th>Nonflavanoid_Phenols</th>\n",
              "      <th>Proanthocyanins</th>\n",
              "      <th>Intensidade_de_cor</th>\n",
              "      <th>Hue</th>\n",
              "      <th>OD280</th>\n",
              "      <th>Proline</th>\n",
              "      <th>Customer_Segment</th>\n",
              "    </tr>\n",
              "  </thead>\n",
              "  <tbody>\n",
              "    <tr>\n",
              "      <th>count</th>\n",
              "      <td>178.000000</td>\n",
              "      <td>178.000000</td>\n",
              "      <td>178.000000</td>\n",
              "      <td>178.000000</td>\n",
              "      <td>178.000000</td>\n",
              "      <td>178.000000</td>\n",
              "      <td>178.000000</td>\n",
              "      <td>178.000000</td>\n",
              "      <td>178.000000</td>\n",
              "      <td>178.000000</td>\n",
              "      <td>178.000000</td>\n",
              "      <td>178.000000</td>\n",
              "      <td>178.000000</td>\n",
              "      <td>178.000000</td>\n",
              "    </tr>\n",
              "    <tr>\n",
              "      <th>mean</th>\n",
              "      <td>13.000618</td>\n",
              "      <td>2.336348</td>\n",
              "      <td>2.366517</td>\n",
              "      <td>19.494944</td>\n",
              "      <td>99.741573</td>\n",
              "      <td>2.295112</td>\n",
              "      <td>2.029270</td>\n",
              "      <td>0.361854</td>\n",
              "      <td>1.590899</td>\n",
              "      <td>5.058090</td>\n",
              "      <td>0.957449</td>\n",
              "      <td>2.611685</td>\n",
              "      <td>746.893258</td>\n",
              "      <td>1.938202</td>\n",
              "    </tr>\n",
              "    <tr>\n",
              "      <th>std</th>\n",
              "      <td>0.811827</td>\n",
              "      <td>1.117146</td>\n",
              "      <td>0.274344</td>\n",
              "      <td>3.339564</td>\n",
              "      <td>14.282484</td>\n",
              "      <td>0.625851</td>\n",
              "      <td>0.998859</td>\n",
              "      <td>0.124453</td>\n",
              "      <td>0.572359</td>\n",
              "      <td>2.318286</td>\n",
              "      <td>0.228572</td>\n",
              "      <td>0.709990</td>\n",
              "      <td>314.907474</td>\n",
              "      <td>0.775035</td>\n",
              "    </tr>\n",
              "    <tr>\n",
              "      <th>min</th>\n",
              "      <td>11.030000</td>\n",
              "      <td>0.740000</td>\n",
              "      <td>1.360000</td>\n",
              "      <td>10.600000</td>\n",
              "      <td>70.000000</td>\n",
              "      <td>0.980000</td>\n",
              "      <td>0.340000</td>\n",
              "      <td>0.130000</td>\n",
              "      <td>0.410000</td>\n",
              "      <td>1.280000</td>\n",
              "      <td>0.480000</td>\n",
              "      <td>1.270000</td>\n",
              "      <td>278.000000</td>\n",
              "      <td>1.000000</td>\n",
              "    </tr>\n",
              "    <tr>\n",
              "      <th>25%</th>\n",
              "      <td>12.362500</td>\n",
              "      <td>1.602500</td>\n",
              "      <td>2.210000</td>\n",
              "      <td>17.200000</td>\n",
              "      <td>88.000000</td>\n",
              "      <td>1.742500</td>\n",
              "      <td>1.205000</td>\n",
              "      <td>0.270000</td>\n",
              "      <td>1.250000</td>\n",
              "      <td>3.220000</td>\n",
              "      <td>0.782500</td>\n",
              "      <td>1.937500</td>\n",
              "      <td>500.500000</td>\n",
              "      <td>1.000000</td>\n",
              "    </tr>\n",
              "    <tr>\n",
              "      <th>50%</th>\n",
              "      <td>13.050000</td>\n",
              "      <td>1.865000</td>\n",
              "      <td>2.360000</td>\n",
              "      <td>19.500000</td>\n",
              "      <td>98.000000</td>\n",
              "      <td>2.355000</td>\n",
              "      <td>2.135000</td>\n",
              "      <td>0.340000</td>\n",
              "      <td>1.555000</td>\n",
              "      <td>4.690000</td>\n",
              "      <td>0.965000</td>\n",
              "      <td>2.780000</td>\n",
              "      <td>673.500000</td>\n",
              "      <td>2.000000</td>\n",
              "    </tr>\n",
              "    <tr>\n",
              "      <th>75%</th>\n",
              "      <td>13.677500</td>\n",
              "      <td>3.082500</td>\n",
              "      <td>2.557500</td>\n",
              "      <td>21.500000</td>\n",
              "      <td>107.000000</td>\n",
              "      <td>2.800000</td>\n",
              "      <td>2.875000</td>\n",
              "      <td>0.437500</td>\n",
              "      <td>1.950000</td>\n",
              "      <td>6.200000</td>\n",
              "      <td>1.120000</td>\n",
              "      <td>3.170000</td>\n",
              "      <td>985.000000</td>\n",
              "      <td>3.000000</td>\n",
              "    </tr>\n",
              "    <tr>\n",
              "      <th>max</th>\n",
              "      <td>14.830000</td>\n",
              "      <td>5.800000</td>\n",
              "      <td>3.230000</td>\n",
              "      <td>30.000000</td>\n",
              "      <td>162.000000</td>\n",
              "      <td>3.880000</td>\n",
              "      <td>5.080000</td>\n",
              "      <td>0.660000</td>\n",
              "      <td>3.580000</td>\n",
              "      <td>13.000000</td>\n",
              "      <td>1.710000</td>\n",
              "      <td>4.000000</td>\n",
              "      <td>1680.000000</td>\n",
              "      <td>3.000000</td>\n",
              "    </tr>\n",
              "  </tbody>\n",
              "</table>\n",
              "</div>"
            ],
            "text/plain": [
              "           Alcool  Malic_Acid  ...      Proline  Customer_Segment\n",
              "count  178.000000  178.000000  ...   178.000000        178.000000\n",
              "mean    13.000618    2.336348  ...   746.893258          1.938202\n",
              "std      0.811827    1.117146  ...   314.907474          0.775035\n",
              "min     11.030000    0.740000  ...   278.000000          1.000000\n",
              "25%     12.362500    1.602500  ...   500.500000          1.000000\n",
              "50%     13.050000    1.865000  ...   673.500000          2.000000\n",
              "75%     13.677500    3.082500  ...   985.000000          3.000000\n",
              "max     14.830000    5.800000  ...  1680.000000          3.000000\n",
              "\n",
              "[8 rows x 14 columns]"
            ]
          },
          "metadata": {},
          "execution_count": 22
        }
      ]
    },
    {
      "cell_type": "markdown",
      "metadata": {
        "id": "a3Xpf1G3qIGC"
      },
      "source": [
        "Clusterização com K-means"
      ]
    },
    {
      "cell_type": "code",
      "metadata": {
        "id": "Iy65sy_dNxrz"
      },
      "source": [
        "from sklearn.cluster import KMeans"
      ],
      "execution_count": 23,
      "outputs": []
    },
    {
      "cell_type": "code",
      "metadata": {
        "id": "ddlTsqx9N1DY"
      },
      "source": [
        "agrupador = KMeans(n_clusters = 4)"
      ],
      "execution_count": 24,
      "outputs": []
    },
    {
      "cell_type": "code",
      "metadata": {
        "colab": {
          "base_uri": "https://localhost:8080/"
        },
        "id": "a4-k5Z-gN-3O",
        "outputId": "9e44aa11-7b79-474e-874c-1e2f484a09ae"
      },
      "source": [
        "agrupador.fit(df)"
      ],
      "execution_count": 25,
      "outputs": [
        {
          "output_type": "execute_result",
          "data": {
            "text/plain": [
              "KMeans(algorithm='auto', copy_x=True, init='k-means++', max_iter=300,\n",
              "       n_clusters=4, n_init=10, n_jobs=None, precompute_distances='auto',\n",
              "       random_state=None, tol=0.0001, verbose=0)"
            ]
          },
          "metadata": {},
          "execution_count": 25
        }
      ]
    },
    {
      "cell_type": "code",
      "metadata": {
        "colab": {
          "base_uri": "https://localhost:8080/"
        },
        "id": "ynmxkNFhOAye",
        "outputId": "21682856-3ec1-4487-c33b-81e9e408318d"
      },
      "source": [
        "labels = agrupador.labels_\n",
        "print(labels)"
      ],
      "execution_count": 26,
      "outputs": [
        {
          "output_type": "stream",
          "name": "stdout",
          "text": [
            "[0 0 0 0 0 0 0 0 0 0 0 0 0 0 0 0 0 0 0 0 0 0 0 0 0 0 0 0 0 0 0 0 0 0 0 0 0\n",
            " 0 0 0 0 0 0 0 0 0 0 0 0 0 0 0 0 0 0 0 0 0 0 2 2 2 2 3 2 3 3 3 2 3 2 3 2 3\n",
            " 3 2 3 2 3 3 3 3 2 2 3 3 2 2 2 2 2 2 2 3 3 3 3 3 3 3 3 2 3 2 3 2 2 2 3 3 3\n",
            " 3 2 2 2 2 3 3 2 3 3 3 3 3 3 3 3 2 3 2 1 1 1 1 1 1 1 1 1 1 1 1 1 1 1 1 1 1\n",
            " 1 1 1 1 1 1 1 1 1 1 1 1 1 1 1 1 1 1 1 1 1 1 1 1 1 1 1 1 1 1]\n"
          ]
        }
      ]
    },
    {
      "cell_type": "code",
      "metadata": {
        "colab": {
          "base_uri": "https://localhost:8080/",
          "height": 542
        },
        "id": "h-EJOlcGOIPU",
        "outputId": "6be12f3e-ba19-4226-d2f9-905cd5f291b0"
      },
      "source": [
        "fig = go.Figure()\n",
        "fig.add_trace(go.Scatter(x = df['Intensidade_de_cor'], \n",
        "                         y = df['Alcool'], \n",
        "                         mode = 'markers',\n",
        "                         marker = dict(color = agrupador.labels_.astype(np.float)),\n",
        "                         text = labels))\n",
        "fig.show()"
      ],
      "execution_count": 27,
      "outputs": [
        {
          "output_type": "display_data",
          "data": {
            "text/html": [
              "<html>\n",
              "<head><meta charset=\"utf-8\" /></head>\n",
              "<body>\n",
              "    <div>\n",
              "            <script src=\"https://cdnjs.cloudflare.com/ajax/libs/mathjax/2.7.5/MathJax.js?config=TeX-AMS-MML_SVG\"></script><script type=\"text/javascript\">if (window.MathJax) {MathJax.Hub.Config({SVG: {font: \"STIX-Web\"}});}</script>\n",
              "                <script type=\"text/javascript\">window.PlotlyConfig = {MathJaxConfig: 'local'};</script>\n",
              "        <script src=\"https://cdn.plot.ly/plotly-latest.min.js\"></script>    \n",
              "            <div id=\"563b26a3-95be-4b5e-97c4-6d700f752917\" class=\"plotly-graph-div\" style=\"height:525px; width:100%;\"></div>\n",
              "            <script type=\"text/javascript\">\n",
              "                \n",
              "                    window.PLOTLYENV=window.PLOTLYENV || {};\n",
              "                    \n",
              "                if (document.getElementById(\"563b26a3-95be-4b5e-97c4-6d700f752917\")) {\n",
              "                    Plotly.newPlot(\n",
              "                        '563b26a3-95be-4b5e-97c4-6d700f752917',\n",
              "                        [{\"marker\": {\"color\": [0.0, 0.0, 0.0, 0.0, 0.0, 0.0, 0.0, 0.0, 0.0, 0.0, 0.0, 0.0, 0.0, 0.0, 0.0, 0.0, 0.0, 0.0, 0.0, 0.0, 0.0, 0.0, 0.0, 0.0, 0.0, 0.0, 0.0, 0.0, 0.0, 0.0, 0.0, 0.0, 0.0, 0.0, 0.0, 0.0, 0.0, 0.0, 0.0, 0.0, 0.0, 0.0, 0.0, 0.0, 0.0, 0.0, 0.0, 0.0, 0.0, 0.0, 0.0, 0.0, 0.0, 0.0, 0.0, 0.0, 0.0, 0.0, 0.0, 2.0, 2.0, 2.0, 2.0, 3.0, 2.0, 3.0, 3.0, 3.0, 2.0, 3.0, 2.0, 3.0, 2.0, 3.0, 3.0, 2.0, 3.0, 2.0, 3.0, 3.0, 3.0, 3.0, 2.0, 2.0, 3.0, 3.0, 2.0, 2.0, 2.0, 2.0, 2.0, 2.0, 2.0, 3.0, 3.0, 3.0, 3.0, 3.0, 3.0, 3.0, 3.0, 2.0, 3.0, 2.0, 3.0, 2.0, 2.0, 2.0, 3.0, 3.0, 3.0, 3.0, 2.0, 2.0, 2.0, 2.0, 3.0, 3.0, 2.0, 3.0, 3.0, 3.0, 3.0, 3.0, 3.0, 3.0, 3.0, 2.0, 3.0, 2.0, 1.0, 1.0, 1.0, 1.0, 1.0, 1.0, 1.0, 1.0, 1.0, 1.0, 1.0, 1.0, 1.0, 1.0, 1.0, 1.0, 1.0, 1.0, 1.0, 1.0, 1.0, 1.0, 1.0, 1.0, 1.0, 1.0, 1.0, 1.0, 1.0, 1.0, 1.0, 1.0, 1.0, 1.0, 1.0, 1.0, 1.0, 1.0, 1.0, 1.0, 1.0, 1.0, 1.0, 1.0, 1.0, 1.0, 1.0, 1.0]}, \"mode\": \"markers\", \"text\": [0.0, 0.0, 0.0, 0.0, 0.0, 0.0, 0.0, 0.0, 0.0, 0.0, 0.0, 0.0, 0.0, 0.0, 0.0, 0.0, 0.0, 0.0, 0.0, 0.0, 0.0, 0.0, 0.0, 0.0, 0.0, 0.0, 0.0, 0.0, 0.0, 0.0, 0.0, 0.0, 0.0, 0.0, 0.0, 0.0, 0.0, 0.0, 0.0, 0.0, 0.0, 0.0, 0.0, 0.0, 0.0, 0.0, 0.0, 0.0, 0.0, 0.0, 0.0, 0.0, 0.0, 0.0, 0.0, 0.0, 0.0, 0.0, 0.0, 2.0, 2.0, 2.0, 2.0, 3.0, 2.0, 3.0, 3.0, 3.0, 2.0, 3.0, 2.0, 3.0, 2.0, 3.0, 3.0, 2.0, 3.0, 2.0, 3.0, 3.0, 3.0, 3.0, 2.0, 2.0, 3.0, 3.0, 2.0, 2.0, 2.0, 2.0, 2.0, 2.0, 2.0, 3.0, 3.0, 3.0, 3.0, 3.0, 3.0, 3.0, 3.0, 2.0, 3.0, 2.0, 3.0, 2.0, 2.0, 2.0, 3.0, 3.0, 3.0, 3.0, 2.0, 2.0, 2.0, 2.0, 3.0, 3.0, 2.0, 3.0, 3.0, 3.0, 3.0, 3.0, 3.0, 3.0, 3.0, 2.0, 3.0, 2.0, 1.0, 1.0, 1.0, 1.0, 1.0, 1.0, 1.0, 1.0, 1.0, 1.0, 1.0, 1.0, 1.0, 1.0, 1.0, 1.0, 1.0, 1.0, 1.0, 1.0, 1.0, 1.0, 1.0, 1.0, 1.0, 1.0, 1.0, 1.0, 1.0, 1.0, 1.0, 1.0, 1.0, 1.0, 1.0, 1.0, 1.0, 1.0, 1.0, 1.0, 1.0, 1.0, 1.0, 1.0, 1.0, 1.0, 1.0, 1.0], \"type\": \"scatter\", \"x\": [0.3720136518771331, 0.26450511945392485, 0.3754266211604095, 0.5563139931740614, 0.2593856655290102, 0.4667235494880546, 0.3387372013651877, 0.3216723549488054, 0.33447098976109213, 0.5068259385665529, 0.3813993174061433, 0.31740614334470985, 0.3686006825938566, 0.3515358361774744, 0.5307167235494881, 0.5136518771331058, 0.41979522184300344, 0.4539249146757679, 0.6331058020477814, 0.325938566552901, 0.37286689419795227, 0.27474402730375425, 0.21501706484641633, 0.22610921501706485, 0.1911262798634812, 0.1962457337883959, 0.30034129692832756, 0.22781569965870305, 0.27474402730375425, 0.29180887372013653, 0.37713310580204773, 0.4795221843003413, 0.21843003412969278, 0.3515358361774744, 0.2491467576791809, 0.325938566552901, 0.2832764505119454, 0.2534129692832764, 0.20648464163822525, 0.325938566552901, 0.4138225255972696, 0.2559726962457338, 0.35409556313993173, 0.2627986348122867, 0.32081911262798635, 0.33788395904436863, 0.3088737201365188, 0.4112627986348123, 0.41979522184300344, 0.6501706484641638, 0.5051194539249146, 0.3686006825938566, 0.4923208191126279, 0.42832764505119447, 0.38993174061433444, 0.424061433447099, 0.4351535836177475, 0.40273037542662116, 0.4709897610921502, 0.057167235494880536, 0.1697952218430034, 0.3813993174061433, 0.21501706484641633, 0.2704778156996587, 0.1424914675767918, 0.2832764505119454, 0.3430034129692833, 0.2901023890784983, 0.16126279863481227, 0.13395904436860068, 0.15102389078498293, 0.17918088737201363, 0.2098976109215017, 0.1766211604095563, 0.16467576791808872, 0.21501706484641633, 0.2832764505119454, 0.11689419795221842, 0.18088737201365188, 0.1100682593856655, 0.10409556313993173, 0.22354948805460748, 0.07849829351535836, 0.30034129692832756, 0.15102389078498293, 0.1143344709897611, 0.09982935153583619, 0.11262798634812288, 0.1296928327645051, 0.03924914675767918, 0.09556313993174059, 0.1979522184300341, 0.15102389078498293, 0.07423208191126279, 0.16808873720136516, 0.11262798634812288, 0.10409556313993173, 0.13822525597269622, 0.27474402730375425, 0.08703071672354948, 0.17235494880546073, 0.09982935153583619, 0.1296928327645051, 0.06655290102389078, 0.14163822525597267, 0.12116040955631399, 0.18088737201365188, 0.17235494880546073, 0.12116040955631399, 0.11689419795221842, 0.13822525597269622, 0.06143344709897611, 0.21501706484641633, 0.15358361774744025, 0.13822525597269622, 0.052901023890784965, 0.057167235494880536, 0.06655290102389078, 0.18088737201365188, 0.0, 0.16808873720136516, 0.40273037542662116, 0.06825938566552903, 0.11262798634812288, 0.1296928327645051, 0.12627986348122863, 0.22696245733788392, 0.14675767918088736, 0.07167235494880547, 0.11262798634812288, 0.2406143344709897, 0.3515358361774744, 0.37713310580204773, 0.31740614334470985, 0.35580204778157, 0.4965870307167235, 0.21928327645051196, 0.31740614334470985, 0.37713310580204773, 0.31058020477815695, 0.2832764505119454, 0.3686006825938566, 0.26194539249146753, 0.2662116040955631, 0.5912969283276451, 0.23208191126279862, 0.3088737201365188, 0.5435153583617748, 0.6092150170648464, 0.6928327645051194, 0.6245733788395904, 0.8122866894197952, 0.4965870307167235, 0.78839590443686, 0.5392491467576791, 0.5648464163822525, 0.659556313993174, 0.5307167235494881, 0.9999999999999999, 0.893344709897611, 0.5435153583617748, 0.39249146757679176, 0.36689419795221845, 0.341296928327645, 0.7081911262798635, 0.45563139931740615, 0.8020477815699658, 0.7662116040955631, 0.6296928327645052, 0.6160409556313993, 0.36006825938566556, 0.735494795221843, 0.7184300341296928, 0.5477815699658704, 0.5136518771331058, 0.7610921501706484, 0.6843003412969284, 0.6757679180887372], \"y\": [0.8421052631578951, 0.5710526315789473, 0.560526315789474, 0.8789473684210525, 0.5815789473684214, 0.8342105263157893, 0.8842105263157896, 0.797368421052632, 1.0, 0.7447368421052629, 0.8078947368421052, 0.8131578947368419, 0.7157894736842105, 0.9789473684210526, 0.8815789473684212, 0.6842105263157898, 0.8605263157894738, 0.736842105263158, 0.831578947368421, 0.6868421052631581, 0.797368421052632, 0.5, 0.7052631578947373, 0.47894736842105257, 0.6499999999999999, 0.5315789473684216, 0.6210526315789475, 0.5973684210526318, 0.7473684210526317, 0.7868421052631578, 0.7105263157894739, 0.6710526315789473, 0.6973684210526314, 0.7184210526315788, 0.6526315789473687, 0.6447368421052633, 0.5921052631578947, 0.5315789473684216, 0.5368421052631582, 0.8394736842105264, 0.6657894736842107, 0.6263157894736846, 0.7500000000000004, 0.5815789473684214, 0.5315789473684216, 0.836842105263158, 0.8815789473684212, 0.7552631578947371, 0.8078947368421052, 0.7657894736842104, 0.5315789473684216, 0.736842105263158, 0.7342105263157896, 0.7210526315789472, 0.7131578947368422, 0.6657894736842107, 0.8394736842105264, 0.594736842105263, 0.7078947368421056, 0.3526315789473684, 0.34210526315789513, 0.4236842105263161, 0.6947368421052631, 0.3526315789473684, 0.30000000000000027, 0.3526315789473684, 0.5473684210526315, 0.3526315789473684, 0.6078947368421055, 0.310526315789474, 0.331578947368421, 0.7447368421052629, 0.6473684210526316, 0.5157894736842108, 0.2447368421052638, 0.1657894736842107, 0.5263157894736841, 0.2131578947368422, 0.34210526315789513, 0.43947368421052646, 0.2552631578947371, 0.44473684210526354, 0.2763157894736845, 0.5315789473684216, 0.2131578947368422, 0.43157894736842106, 0.29736842105263195, 0.1631578947368424, 0.16052631578947407, 0.2763157894736845, 0.2763157894736845, 0.2552631578947371, 0.43684210526315814, 0.331578947368421, 0.155263157894737, 0.3789473684210529, 0.20526315789473726, 0.331578947368421, 0.3526315789473684, 0.331578947368421, 0.2763157894736845, 0.4131578947368424, 0.34473684210526345, 0.20789473684210558, 0.38947368421052664, 0.3657894736842109, 0.3210526315789477, 0.44473684210526354, 0.3131578947368423, 0.15263157894736867, 0.11315789473684257, 0.39210526315789496, 0.19210526315789478, 0.10000000000000053, 0.2763157894736845, 0.0, 0.20789473684210558, 0.3657894736842109, 0.45789473684210513, 0.2552631578947371, 0.1105263157894738, 0.13947368421052664, 0.3657894736842109, 0.5315789473684216, 0.2210526315789476, 0.2736842105263162, 0.3684210526315792, 0.20000000000000018, 0.3526315789473684, 0.26578947368421035, 0.4815789473684209, 0.4868421052631584, 0.4684210526315793, 0.43947368421052646, 0.38947368421052664, 0.4131578947368424, 0.3210526315789477, 0.3947368421052633, 0.6473684210526316, 0.47631578947368425, 0.5, 0.6131578947368421, 0.655263157894737, 0.6815789473684211, 0.3210526315789477, 0.560526315789474, 0.7500000000000004, 0.48421052631578965, 0.6026315789473689, 0.5394736842105265, 0.6499999999999999, 0.4631578947368422, 0.5473684210526315, 0.5789473684210531, 0.4078947368421053, 0.5631578947368423, 0.7394736842105263, 0.37368421052631584, 0.8710526315789475, 0.6447368421052633, 0.3500000000000001, 0.7000000000000002, 0.47894736842105257, 0.5078947368421058, 0.7236842105263159, 0.7105263157894739, 0.6368421052631579, 0.4710526315789476, 0.6710526315789473, 0.6236842105263158, 0.3078947368421052, 0.45789473684210513, 0.823684210526316, 0.7052631578947373, 0.6236842105263158, 0.5894736842105264, 0.5631578947368423, 0.8157894736842106]}],\n",
              "                        {\"template\": {\"data\": {\"bar\": [{\"error_x\": {\"color\": \"#2a3f5f\"}, \"error_y\": {\"color\": \"#2a3f5f\"}, \"marker\": {\"line\": {\"color\": \"#E5ECF6\", \"width\": 0.5}}, \"type\": \"bar\"}], \"barpolar\": [{\"marker\": {\"line\": {\"color\": \"#E5ECF6\", \"width\": 0.5}}, \"type\": \"barpolar\"}], \"carpet\": [{\"aaxis\": {\"endlinecolor\": \"#2a3f5f\", \"gridcolor\": \"white\", \"linecolor\": \"white\", \"minorgridcolor\": \"white\", \"startlinecolor\": \"#2a3f5f\"}, \"baxis\": {\"endlinecolor\": \"#2a3f5f\", \"gridcolor\": \"white\", \"linecolor\": \"white\", \"minorgridcolor\": \"white\", \"startlinecolor\": \"#2a3f5f\"}, \"type\": \"carpet\"}], \"choropleth\": [{\"colorbar\": {\"outlinewidth\": 0, \"ticks\": \"\"}, \"type\": \"choropleth\"}], \"contour\": [{\"colorbar\": {\"outlinewidth\": 0, \"ticks\": \"\"}, \"colorscale\": [[0.0, \"#0d0887\"], [0.1111111111111111, \"#46039f\"], [0.2222222222222222, \"#7201a8\"], [0.3333333333333333, \"#9c179e\"], [0.4444444444444444, \"#bd3786\"], [0.5555555555555556, \"#d8576b\"], [0.6666666666666666, \"#ed7953\"], [0.7777777777777778, \"#fb9f3a\"], [0.8888888888888888, \"#fdca26\"], [1.0, \"#f0f921\"]], \"type\": \"contour\"}], \"contourcarpet\": [{\"colorbar\": {\"outlinewidth\": 0, \"ticks\": \"\"}, \"type\": \"contourcarpet\"}], \"heatmap\": [{\"colorbar\": {\"outlinewidth\": 0, \"ticks\": \"\"}, \"colorscale\": [[0.0, \"#0d0887\"], [0.1111111111111111, \"#46039f\"], [0.2222222222222222, \"#7201a8\"], [0.3333333333333333, \"#9c179e\"], [0.4444444444444444, \"#bd3786\"], [0.5555555555555556, \"#d8576b\"], [0.6666666666666666, \"#ed7953\"], [0.7777777777777778, \"#fb9f3a\"], [0.8888888888888888, \"#fdca26\"], [1.0, \"#f0f921\"]], \"type\": \"heatmap\"}], \"heatmapgl\": [{\"colorbar\": {\"outlinewidth\": 0, \"ticks\": \"\"}, \"colorscale\": [[0.0, \"#0d0887\"], [0.1111111111111111, \"#46039f\"], [0.2222222222222222, \"#7201a8\"], [0.3333333333333333, \"#9c179e\"], [0.4444444444444444, \"#bd3786\"], [0.5555555555555556, \"#d8576b\"], [0.6666666666666666, \"#ed7953\"], [0.7777777777777778, \"#fb9f3a\"], [0.8888888888888888, \"#fdca26\"], [1.0, \"#f0f921\"]], \"type\": \"heatmapgl\"}], \"histogram\": [{\"marker\": {\"colorbar\": {\"outlinewidth\": 0, \"ticks\": \"\"}}, \"type\": \"histogram\"}], \"histogram2d\": [{\"colorbar\": {\"outlinewidth\": 0, \"ticks\": \"\"}, \"colorscale\": [[0.0, \"#0d0887\"], [0.1111111111111111, \"#46039f\"], [0.2222222222222222, \"#7201a8\"], [0.3333333333333333, \"#9c179e\"], [0.4444444444444444, \"#bd3786\"], [0.5555555555555556, \"#d8576b\"], [0.6666666666666666, \"#ed7953\"], [0.7777777777777778, \"#fb9f3a\"], [0.8888888888888888, \"#fdca26\"], [1.0, \"#f0f921\"]], \"type\": \"histogram2d\"}], \"histogram2dcontour\": [{\"colorbar\": {\"outlinewidth\": 0, \"ticks\": \"\"}, \"colorscale\": [[0.0, \"#0d0887\"], [0.1111111111111111, \"#46039f\"], [0.2222222222222222, \"#7201a8\"], [0.3333333333333333, \"#9c179e\"], [0.4444444444444444, \"#bd3786\"], [0.5555555555555556, \"#d8576b\"], [0.6666666666666666, \"#ed7953\"], [0.7777777777777778, \"#fb9f3a\"], [0.8888888888888888, \"#fdca26\"], [1.0, \"#f0f921\"]], \"type\": \"histogram2dcontour\"}], \"mesh3d\": [{\"colorbar\": {\"outlinewidth\": 0, \"ticks\": \"\"}, \"type\": \"mesh3d\"}], \"parcoords\": [{\"line\": {\"colorbar\": {\"outlinewidth\": 0, \"ticks\": \"\"}}, \"type\": \"parcoords\"}], \"scatter\": [{\"marker\": {\"colorbar\": {\"outlinewidth\": 0, \"ticks\": \"\"}}, \"type\": \"scatter\"}], \"scatter3d\": [{\"line\": {\"colorbar\": {\"outlinewidth\": 0, \"ticks\": \"\"}}, \"marker\": {\"colorbar\": {\"outlinewidth\": 0, \"ticks\": \"\"}}, \"type\": \"scatter3d\"}], \"scattercarpet\": [{\"marker\": {\"colorbar\": {\"outlinewidth\": 0, \"ticks\": \"\"}}, \"type\": \"scattercarpet\"}], \"scattergeo\": [{\"marker\": {\"colorbar\": {\"outlinewidth\": 0, \"ticks\": \"\"}}, \"type\": \"scattergeo\"}], \"scattergl\": [{\"marker\": {\"colorbar\": {\"outlinewidth\": 0, \"ticks\": \"\"}}, \"type\": \"scattergl\"}], \"scattermapbox\": [{\"marker\": {\"colorbar\": {\"outlinewidth\": 0, \"ticks\": \"\"}}, \"type\": \"scattermapbox\"}], \"scatterpolar\": [{\"marker\": {\"colorbar\": {\"outlinewidth\": 0, \"ticks\": \"\"}}, \"type\": \"scatterpolar\"}], \"scatterpolargl\": [{\"marker\": {\"colorbar\": {\"outlinewidth\": 0, \"ticks\": \"\"}}, \"type\": \"scatterpolargl\"}], \"scatterternary\": [{\"marker\": {\"colorbar\": {\"outlinewidth\": 0, \"ticks\": \"\"}}, \"type\": \"scatterternary\"}], \"surface\": [{\"colorbar\": {\"outlinewidth\": 0, \"ticks\": \"\"}, \"colorscale\": [[0.0, \"#0d0887\"], [0.1111111111111111, \"#46039f\"], [0.2222222222222222, \"#7201a8\"], [0.3333333333333333, \"#9c179e\"], [0.4444444444444444, \"#bd3786\"], [0.5555555555555556, \"#d8576b\"], [0.6666666666666666, \"#ed7953\"], [0.7777777777777778, \"#fb9f3a\"], [0.8888888888888888, \"#fdca26\"], [1.0, \"#f0f921\"]], \"type\": \"surface\"}], \"table\": [{\"cells\": {\"fill\": {\"color\": \"#EBF0F8\"}, \"line\": {\"color\": \"white\"}}, \"header\": {\"fill\": {\"color\": \"#C8D4E3\"}, \"line\": {\"color\": \"white\"}}, \"type\": \"table\"}]}, \"layout\": {\"annotationdefaults\": {\"arrowcolor\": \"#2a3f5f\", \"arrowhead\": 0, \"arrowwidth\": 1}, \"colorscale\": {\"diverging\": [[0, \"#8e0152\"], [0.1, \"#c51b7d\"], [0.2, \"#de77ae\"], [0.3, \"#f1b6da\"], [0.4, \"#fde0ef\"], [0.5, \"#f7f7f7\"], [0.6, \"#e6f5d0\"], [0.7, \"#b8e186\"], [0.8, \"#7fbc41\"], [0.9, \"#4d9221\"], [1, \"#276419\"]], \"sequential\": [[0.0, \"#0d0887\"], [0.1111111111111111, \"#46039f\"], [0.2222222222222222, \"#7201a8\"], [0.3333333333333333, \"#9c179e\"], [0.4444444444444444, \"#bd3786\"], [0.5555555555555556, \"#d8576b\"], [0.6666666666666666, \"#ed7953\"], [0.7777777777777778, \"#fb9f3a\"], [0.8888888888888888, \"#fdca26\"], [1.0, \"#f0f921\"]], \"sequentialminus\": [[0.0, \"#0d0887\"], [0.1111111111111111, \"#46039f\"], [0.2222222222222222, \"#7201a8\"], [0.3333333333333333, \"#9c179e\"], [0.4444444444444444, \"#bd3786\"], [0.5555555555555556, \"#d8576b\"], [0.6666666666666666, \"#ed7953\"], [0.7777777777777778, \"#fb9f3a\"], [0.8888888888888888, \"#fdca26\"], [1.0, \"#f0f921\"]]}, \"colorway\": [\"#636efa\", \"#EF553B\", \"#00cc96\", \"#ab63fa\", \"#FFA15A\", \"#19d3f3\", \"#FF6692\", \"#B6E880\", \"#FF97FF\", \"#FECB52\"], \"font\": {\"color\": \"#2a3f5f\"}, \"geo\": {\"bgcolor\": \"white\", \"lakecolor\": \"white\", \"landcolor\": \"#E5ECF6\", \"showlakes\": true, \"showland\": true, \"subunitcolor\": \"white\"}, \"hoverlabel\": {\"align\": \"left\"}, \"hovermode\": \"closest\", \"mapbox\": {\"style\": \"light\"}, \"paper_bgcolor\": \"white\", \"plot_bgcolor\": \"#E5ECF6\", \"polar\": {\"angularaxis\": {\"gridcolor\": \"white\", \"linecolor\": \"white\", \"ticks\": \"\"}, \"bgcolor\": \"#E5ECF6\", \"radialaxis\": {\"gridcolor\": \"white\", \"linecolor\": \"white\", \"ticks\": \"\"}}, \"scene\": {\"xaxis\": {\"backgroundcolor\": \"#E5ECF6\", \"gridcolor\": \"white\", \"gridwidth\": 2, \"linecolor\": \"white\", \"showbackground\": true, \"ticks\": \"\", \"zerolinecolor\": \"white\"}, \"yaxis\": {\"backgroundcolor\": \"#E5ECF6\", \"gridcolor\": \"white\", \"gridwidth\": 2, \"linecolor\": \"white\", \"showbackground\": true, \"ticks\": \"\", \"zerolinecolor\": \"white\"}, \"zaxis\": {\"backgroundcolor\": \"#E5ECF6\", \"gridcolor\": \"white\", \"gridwidth\": 2, \"linecolor\": \"white\", \"showbackground\": true, \"ticks\": \"\", \"zerolinecolor\": \"white\"}}, \"shapedefaults\": {\"line\": {\"color\": \"#2a3f5f\"}}, \"ternary\": {\"aaxis\": {\"gridcolor\": \"white\", \"linecolor\": \"white\", \"ticks\": \"\"}, \"baxis\": {\"gridcolor\": \"white\", \"linecolor\": \"white\", \"ticks\": \"\"}, \"bgcolor\": \"#E5ECF6\", \"caxis\": {\"gridcolor\": \"white\", \"linecolor\": \"white\", \"ticks\": \"\"}}, \"title\": {\"x\": 0.05}, \"xaxis\": {\"automargin\": true, \"gridcolor\": \"white\", \"linecolor\": \"white\", \"ticks\": \"\", \"zerolinecolor\": \"white\", \"zerolinewidth\": 2}, \"yaxis\": {\"automargin\": true, \"gridcolor\": \"white\", \"linecolor\": \"white\", \"ticks\": \"\", \"zerolinecolor\": \"white\", \"zerolinewidth\": 2}}}},\n",
              "                        {\"responsive\": true}\n",
              "                    ).then(function(){\n",
              "                            \n",
              "var gd = document.getElementById('563b26a3-95be-4b5e-97c4-6d700f752917');\n",
              "var x = new MutationObserver(function (mutations, observer) {{\n",
              "        var display = window.getComputedStyle(gd).display;\n",
              "        if (!display || display === 'none') {{\n",
              "            console.log([gd, 'removed!']);\n",
              "            Plotly.purge(gd);\n",
              "            observer.disconnect();\n",
              "        }}\n",
              "}});\n",
              "\n",
              "// Listen for the removal of the full notebook cells\n",
              "var notebookContainer = gd.closest('#notebook-container');\n",
              "if (notebookContainer) {{\n",
              "    x.observe(notebookContainer, {childList: true});\n",
              "}}\n",
              "\n",
              "// Listen for the clearing of the current output cell\n",
              "var outputEl = gd.closest('.output');\n",
              "if (outputEl) {{\n",
              "    x.observe(outputEl, {childList: true});\n",
              "}}\n",
              "\n",
              "                        })\n",
              "                };\n",
              "                \n",
              "            </script>\n",
              "        </div>\n",
              "</body>\n",
              "</html>"
            ]
          },
          "metadata": {}
        }
      ]
    },
    {
      "cell_type": "code",
      "metadata": {
        "colab": {
          "base_uri": "https://localhost:8080/"
        },
        "id": "zTd_LUCdPI7O",
        "outputId": "d82faede-742b-438b-a817-11ef5bfe151a"
      },
      "source": [
        "agrupador = KMeans(n_clusters=3)\n",
        "agrupador.fit(df)\n",
        "labels = agrupador.labels_\n",
        "print(labels)"
      ],
      "execution_count": 28,
      "outputs": [
        {
          "output_type": "stream",
          "name": "stdout",
          "text": [
            "[0 0 0 0 0 0 0 0 0 0 0 0 0 0 0 0 0 0 0 0 0 0 0 0 0 0 0 0 0 0 0 0 0 0 0 0 0\n",
            " 0 0 0 0 0 0 0 0 0 0 0 0 0 0 0 0 0 0 0 0 0 0 2 2 2 2 2 2 2 2 2 2 2 2 2 2 0\n",
            " 2 2 2 2 2 2 2 2 2 1 2 2 2 2 2 2 2 2 2 2 2 2 2 2 2 2 2 2 2 2 2 2 2 2 2 2 2\n",
            " 2 2 2 2 2 2 2 2 2 2 2 2 2 2 2 2 2 2 2 1 1 1 1 1 1 1 1 1 1 1 1 1 1 1 1 1 1\n",
            " 1 1 1 1 1 1 1 1 1 1 1 1 1 1 1 1 1 1 1 1 1 1 1 1 1 1 1 1 1 1]\n"
          ]
        }
      ]
    },
    {
      "cell_type": "code",
      "metadata": {
        "colab": {
          "base_uri": "https://localhost:8080/",
          "height": 542
        },
        "id": "mUjRiBsiQRE2",
        "outputId": "54abdd74-5f47-4bb1-a17b-5947dc288bd2"
      },
      "source": [
        "fig = go.Figure()\n",
        "fig.add_trace(go.Scatter(x = df['Intensidade_de_cor'],\n",
        "                         y = df['Alcool'],\n",
        "                         mode = 'markers',\n",
        "                         marker = dict(color = agrupador.labels_.astype(np.float)),\n",
        "                         text = labels))\n",
        "fig.show()"
      ],
      "execution_count": 29,
      "outputs": [
        {
          "output_type": "display_data",
          "data": {
            "text/html": [
              "<html>\n",
              "<head><meta charset=\"utf-8\" /></head>\n",
              "<body>\n",
              "    <div>\n",
              "            <script src=\"https://cdnjs.cloudflare.com/ajax/libs/mathjax/2.7.5/MathJax.js?config=TeX-AMS-MML_SVG\"></script><script type=\"text/javascript\">if (window.MathJax) {MathJax.Hub.Config({SVG: {font: \"STIX-Web\"}});}</script>\n",
              "                <script type=\"text/javascript\">window.PlotlyConfig = {MathJaxConfig: 'local'};</script>\n",
              "        <script src=\"https://cdn.plot.ly/plotly-latest.min.js\"></script>    \n",
              "            <div id=\"d6e83ecd-2e2e-4dca-a2b5-e8e22db5b11f\" class=\"plotly-graph-div\" style=\"height:525px; width:100%;\"></div>\n",
              "            <script type=\"text/javascript\">\n",
              "                \n",
              "                    window.PLOTLYENV=window.PLOTLYENV || {};\n",
              "                    \n",
              "                if (document.getElementById(\"d6e83ecd-2e2e-4dca-a2b5-e8e22db5b11f\")) {\n",
              "                    Plotly.newPlot(\n",
              "                        'd6e83ecd-2e2e-4dca-a2b5-e8e22db5b11f',\n",
              "                        [{\"marker\": {\"color\": [0.0, 0.0, 0.0, 0.0, 0.0, 0.0, 0.0, 0.0, 0.0, 0.0, 0.0, 0.0, 0.0, 0.0, 0.0, 0.0, 0.0, 0.0, 0.0, 0.0, 0.0, 0.0, 0.0, 0.0, 0.0, 0.0, 0.0, 0.0, 0.0, 0.0, 0.0, 0.0, 0.0, 0.0, 0.0, 0.0, 0.0, 0.0, 0.0, 0.0, 0.0, 0.0, 0.0, 0.0, 0.0, 0.0, 0.0, 0.0, 0.0, 0.0, 0.0, 0.0, 0.0, 0.0, 0.0, 0.0, 0.0, 0.0, 0.0, 2.0, 2.0, 2.0, 2.0, 2.0, 2.0, 2.0, 2.0, 2.0, 2.0, 2.0, 2.0, 2.0, 2.0, 0.0, 2.0, 2.0, 2.0, 2.0, 2.0, 2.0, 2.0, 2.0, 2.0, 1.0, 2.0, 2.0, 2.0, 2.0, 2.0, 2.0, 2.0, 2.0, 2.0, 2.0, 2.0, 2.0, 2.0, 2.0, 2.0, 2.0, 2.0, 2.0, 2.0, 2.0, 2.0, 2.0, 2.0, 2.0, 2.0, 2.0, 2.0, 2.0, 2.0, 2.0, 2.0, 2.0, 2.0, 2.0, 2.0, 2.0, 2.0, 2.0, 2.0, 2.0, 2.0, 2.0, 2.0, 2.0, 2.0, 2.0, 1.0, 1.0, 1.0, 1.0, 1.0, 1.0, 1.0, 1.0, 1.0, 1.0, 1.0, 1.0, 1.0, 1.0, 1.0, 1.0, 1.0, 1.0, 1.0, 1.0, 1.0, 1.0, 1.0, 1.0, 1.0, 1.0, 1.0, 1.0, 1.0, 1.0, 1.0, 1.0, 1.0, 1.0, 1.0, 1.0, 1.0, 1.0, 1.0, 1.0, 1.0, 1.0, 1.0, 1.0, 1.0, 1.0, 1.0, 1.0]}, \"mode\": \"markers\", \"text\": [0.0, 0.0, 0.0, 0.0, 0.0, 0.0, 0.0, 0.0, 0.0, 0.0, 0.0, 0.0, 0.0, 0.0, 0.0, 0.0, 0.0, 0.0, 0.0, 0.0, 0.0, 0.0, 0.0, 0.0, 0.0, 0.0, 0.0, 0.0, 0.0, 0.0, 0.0, 0.0, 0.0, 0.0, 0.0, 0.0, 0.0, 0.0, 0.0, 0.0, 0.0, 0.0, 0.0, 0.0, 0.0, 0.0, 0.0, 0.0, 0.0, 0.0, 0.0, 0.0, 0.0, 0.0, 0.0, 0.0, 0.0, 0.0, 0.0, 2.0, 2.0, 2.0, 2.0, 2.0, 2.0, 2.0, 2.0, 2.0, 2.0, 2.0, 2.0, 2.0, 2.0, 0.0, 2.0, 2.0, 2.0, 2.0, 2.0, 2.0, 2.0, 2.0, 2.0, 1.0, 2.0, 2.0, 2.0, 2.0, 2.0, 2.0, 2.0, 2.0, 2.0, 2.0, 2.0, 2.0, 2.0, 2.0, 2.0, 2.0, 2.0, 2.0, 2.0, 2.0, 2.0, 2.0, 2.0, 2.0, 2.0, 2.0, 2.0, 2.0, 2.0, 2.0, 2.0, 2.0, 2.0, 2.0, 2.0, 2.0, 2.0, 2.0, 2.0, 2.0, 2.0, 2.0, 2.0, 2.0, 2.0, 2.0, 1.0, 1.0, 1.0, 1.0, 1.0, 1.0, 1.0, 1.0, 1.0, 1.0, 1.0, 1.0, 1.0, 1.0, 1.0, 1.0, 1.0, 1.0, 1.0, 1.0, 1.0, 1.0, 1.0, 1.0, 1.0, 1.0, 1.0, 1.0, 1.0, 1.0, 1.0, 1.0, 1.0, 1.0, 1.0, 1.0, 1.0, 1.0, 1.0, 1.0, 1.0, 1.0, 1.0, 1.0, 1.0, 1.0, 1.0, 1.0], \"type\": \"scatter\", \"x\": [0.3720136518771331, 0.26450511945392485, 0.3754266211604095, 0.5563139931740614, 0.2593856655290102, 0.4667235494880546, 0.3387372013651877, 0.3216723549488054, 0.33447098976109213, 0.5068259385665529, 0.3813993174061433, 0.31740614334470985, 0.3686006825938566, 0.3515358361774744, 0.5307167235494881, 0.5136518771331058, 0.41979522184300344, 0.4539249146757679, 0.6331058020477814, 0.325938566552901, 0.37286689419795227, 0.27474402730375425, 0.21501706484641633, 0.22610921501706485, 0.1911262798634812, 0.1962457337883959, 0.30034129692832756, 0.22781569965870305, 0.27474402730375425, 0.29180887372013653, 0.37713310580204773, 0.4795221843003413, 0.21843003412969278, 0.3515358361774744, 0.2491467576791809, 0.325938566552901, 0.2832764505119454, 0.2534129692832764, 0.20648464163822525, 0.325938566552901, 0.4138225255972696, 0.2559726962457338, 0.35409556313993173, 0.2627986348122867, 0.32081911262798635, 0.33788395904436863, 0.3088737201365188, 0.4112627986348123, 0.41979522184300344, 0.6501706484641638, 0.5051194539249146, 0.3686006825938566, 0.4923208191126279, 0.42832764505119447, 0.38993174061433444, 0.424061433447099, 0.4351535836177475, 0.40273037542662116, 0.4709897610921502, 0.057167235494880536, 0.1697952218430034, 0.3813993174061433, 0.21501706484641633, 0.2704778156996587, 0.1424914675767918, 0.2832764505119454, 0.3430034129692833, 0.2901023890784983, 0.16126279863481227, 0.13395904436860068, 0.15102389078498293, 0.17918088737201363, 0.2098976109215017, 0.1766211604095563, 0.16467576791808872, 0.21501706484641633, 0.2832764505119454, 0.11689419795221842, 0.18088737201365188, 0.1100682593856655, 0.10409556313993173, 0.22354948805460748, 0.07849829351535836, 0.30034129692832756, 0.15102389078498293, 0.1143344709897611, 0.09982935153583619, 0.11262798634812288, 0.1296928327645051, 0.03924914675767918, 0.09556313993174059, 0.1979522184300341, 0.15102389078498293, 0.07423208191126279, 0.16808873720136516, 0.11262798634812288, 0.10409556313993173, 0.13822525597269622, 0.27474402730375425, 0.08703071672354948, 0.17235494880546073, 0.09982935153583619, 0.1296928327645051, 0.06655290102389078, 0.14163822525597267, 0.12116040955631399, 0.18088737201365188, 0.17235494880546073, 0.12116040955631399, 0.11689419795221842, 0.13822525597269622, 0.06143344709897611, 0.21501706484641633, 0.15358361774744025, 0.13822525597269622, 0.052901023890784965, 0.057167235494880536, 0.06655290102389078, 0.18088737201365188, 0.0, 0.16808873720136516, 0.40273037542662116, 0.06825938566552903, 0.11262798634812288, 0.1296928327645051, 0.12627986348122863, 0.22696245733788392, 0.14675767918088736, 0.07167235494880547, 0.11262798634812288, 0.2406143344709897, 0.3515358361774744, 0.37713310580204773, 0.31740614334470985, 0.35580204778157, 0.4965870307167235, 0.21928327645051196, 0.31740614334470985, 0.37713310580204773, 0.31058020477815695, 0.2832764505119454, 0.3686006825938566, 0.26194539249146753, 0.2662116040955631, 0.5912969283276451, 0.23208191126279862, 0.3088737201365188, 0.5435153583617748, 0.6092150170648464, 0.6928327645051194, 0.6245733788395904, 0.8122866894197952, 0.4965870307167235, 0.78839590443686, 0.5392491467576791, 0.5648464163822525, 0.659556313993174, 0.5307167235494881, 0.9999999999999999, 0.893344709897611, 0.5435153583617748, 0.39249146757679176, 0.36689419795221845, 0.341296928327645, 0.7081911262798635, 0.45563139931740615, 0.8020477815699658, 0.7662116040955631, 0.6296928327645052, 0.6160409556313993, 0.36006825938566556, 0.735494795221843, 0.7184300341296928, 0.5477815699658704, 0.5136518771331058, 0.7610921501706484, 0.6843003412969284, 0.6757679180887372], \"y\": [0.8421052631578951, 0.5710526315789473, 0.560526315789474, 0.8789473684210525, 0.5815789473684214, 0.8342105263157893, 0.8842105263157896, 0.797368421052632, 1.0, 0.7447368421052629, 0.8078947368421052, 0.8131578947368419, 0.7157894736842105, 0.9789473684210526, 0.8815789473684212, 0.6842105263157898, 0.8605263157894738, 0.736842105263158, 0.831578947368421, 0.6868421052631581, 0.797368421052632, 0.5, 0.7052631578947373, 0.47894736842105257, 0.6499999999999999, 0.5315789473684216, 0.6210526315789475, 0.5973684210526318, 0.7473684210526317, 0.7868421052631578, 0.7105263157894739, 0.6710526315789473, 0.6973684210526314, 0.7184210526315788, 0.6526315789473687, 0.6447368421052633, 0.5921052631578947, 0.5315789473684216, 0.5368421052631582, 0.8394736842105264, 0.6657894736842107, 0.6263157894736846, 0.7500000000000004, 0.5815789473684214, 0.5315789473684216, 0.836842105263158, 0.8815789473684212, 0.7552631578947371, 0.8078947368421052, 0.7657894736842104, 0.5315789473684216, 0.736842105263158, 0.7342105263157896, 0.7210526315789472, 0.7131578947368422, 0.6657894736842107, 0.8394736842105264, 0.594736842105263, 0.7078947368421056, 0.3526315789473684, 0.34210526315789513, 0.4236842105263161, 0.6947368421052631, 0.3526315789473684, 0.30000000000000027, 0.3526315789473684, 0.5473684210526315, 0.3526315789473684, 0.6078947368421055, 0.310526315789474, 0.331578947368421, 0.7447368421052629, 0.6473684210526316, 0.5157894736842108, 0.2447368421052638, 0.1657894736842107, 0.5263157894736841, 0.2131578947368422, 0.34210526315789513, 0.43947368421052646, 0.2552631578947371, 0.44473684210526354, 0.2763157894736845, 0.5315789473684216, 0.2131578947368422, 0.43157894736842106, 0.29736842105263195, 0.1631578947368424, 0.16052631578947407, 0.2763157894736845, 0.2763157894736845, 0.2552631578947371, 0.43684210526315814, 0.331578947368421, 0.155263157894737, 0.3789473684210529, 0.20526315789473726, 0.331578947368421, 0.3526315789473684, 0.331578947368421, 0.2763157894736845, 0.4131578947368424, 0.34473684210526345, 0.20789473684210558, 0.38947368421052664, 0.3657894736842109, 0.3210526315789477, 0.44473684210526354, 0.3131578947368423, 0.15263157894736867, 0.11315789473684257, 0.39210526315789496, 0.19210526315789478, 0.10000000000000053, 0.2763157894736845, 0.0, 0.20789473684210558, 0.3657894736842109, 0.45789473684210513, 0.2552631578947371, 0.1105263157894738, 0.13947368421052664, 0.3657894736842109, 0.5315789473684216, 0.2210526315789476, 0.2736842105263162, 0.3684210526315792, 0.20000000000000018, 0.3526315789473684, 0.26578947368421035, 0.4815789473684209, 0.4868421052631584, 0.4684210526315793, 0.43947368421052646, 0.38947368421052664, 0.4131578947368424, 0.3210526315789477, 0.3947368421052633, 0.6473684210526316, 0.47631578947368425, 0.5, 0.6131578947368421, 0.655263157894737, 0.6815789473684211, 0.3210526315789477, 0.560526315789474, 0.7500000000000004, 0.48421052631578965, 0.6026315789473689, 0.5394736842105265, 0.6499999999999999, 0.4631578947368422, 0.5473684210526315, 0.5789473684210531, 0.4078947368421053, 0.5631578947368423, 0.7394736842105263, 0.37368421052631584, 0.8710526315789475, 0.6447368421052633, 0.3500000000000001, 0.7000000000000002, 0.47894736842105257, 0.5078947368421058, 0.7236842105263159, 0.7105263157894739, 0.6368421052631579, 0.4710526315789476, 0.6710526315789473, 0.6236842105263158, 0.3078947368421052, 0.45789473684210513, 0.823684210526316, 0.7052631578947373, 0.6236842105263158, 0.5894736842105264, 0.5631578947368423, 0.8157894736842106]}],\n",
              "                        {\"template\": {\"data\": {\"bar\": [{\"error_x\": {\"color\": \"#2a3f5f\"}, \"error_y\": {\"color\": \"#2a3f5f\"}, \"marker\": {\"line\": {\"color\": \"#E5ECF6\", \"width\": 0.5}}, \"type\": \"bar\"}], \"barpolar\": [{\"marker\": {\"line\": {\"color\": \"#E5ECF6\", \"width\": 0.5}}, \"type\": \"barpolar\"}], \"carpet\": [{\"aaxis\": {\"endlinecolor\": \"#2a3f5f\", \"gridcolor\": \"white\", \"linecolor\": \"white\", \"minorgridcolor\": \"white\", \"startlinecolor\": \"#2a3f5f\"}, \"baxis\": {\"endlinecolor\": \"#2a3f5f\", \"gridcolor\": \"white\", \"linecolor\": \"white\", \"minorgridcolor\": \"white\", \"startlinecolor\": \"#2a3f5f\"}, \"type\": \"carpet\"}], \"choropleth\": [{\"colorbar\": {\"outlinewidth\": 0, \"ticks\": \"\"}, \"type\": \"choropleth\"}], \"contour\": [{\"colorbar\": {\"outlinewidth\": 0, \"ticks\": \"\"}, \"colorscale\": [[0.0, \"#0d0887\"], [0.1111111111111111, \"#46039f\"], [0.2222222222222222, \"#7201a8\"], [0.3333333333333333, \"#9c179e\"], [0.4444444444444444, \"#bd3786\"], [0.5555555555555556, \"#d8576b\"], [0.6666666666666666, \"#ed7953\"], [0.7777777777777778, \"#fb9f3a\"], [0.8888888888888888, \"#fdca26\"], [1.0, \"#f0f921\"]], \"type\": \"contour\"}], \"contourcarpet\": [{\"colorbar\": {\"outlinewidth\": 0, \"ticks\": \"\"}, \"type\": \"contourcarpet\"}], \"heatmap\": [{\"colorbar\": {\"outlinewidth\": 0, \"ticks\": \"\"}, \"colorscale\": [[0.0, \"#0d0887\"], [0.1111111111111111, \"#46039f\"], [0.2222222222222222, \"#7201a8\"], [0.3333333333333333, \"#9c179e\"], [0.4444444444444444, \"#bd3786\"], [0.5555555555555556, \"#d8576b\"], [0.6666666666666666, \"#ed7953\"], [0.7777777777777778, \"#fb9f3a\"], [0.8888888888888888, \"#fdca26\"], [1.0, \"#f0f921\"]], \"type\": \"heatmap\"}], \"heatmapgl\": [{\"colorbar\": {\"outlinewidth\": 0, \"ticks\": \"\"}, \"colorscale\": [[0.0, \"#0d0887\"], [0.1111111111111111, \"#46039f\"], [0.2222222222222222, \"#7201a8\"], [0.3333333333333333, \"#9c179e\"], [0.4444444444444444, \"#bd3786\"], [0.5555555555555556, \"#d8576b\"], [0.6666666666666666, \"#ed7953\"], [0.7777777777777778, \"#fb9f3a\"], [0.8888888888888888, \"#fdca26\"], [1.0, \"#f0f921\"]], \"type\": \"heatmapgl\"}], \"histogram\": [{\"marker\": {\"colorbar\": {\"outlinewidth\": 0, \"ticks\": \"\"}}, \"type\": \"histogram\"}], \"histogram2d\": [{\"colorbar\": {\"outlinewidth\": 0, \"ticks\": \"\"}, \"colorscale\": [[0.0, \"#0d0887\"], [0.1111111111111111, \"#46039f\"], [0.2222222222222222, \"#7201a8\"], [0.3333333333333333, \"#9c179e\"], [0.4444444444444444, \"#bd3786\"], [0.5555555555555556, \"#d8576b\"], [0.6666666666666666, \"#ed7953\"], [0.7777777777777778, \"#fb9f3a\"], [0.8888888888888888, \"#fdca26\"], [1.0, \"#f0f921\"]], \"type\": \"histogram2d\"}], \"histogram2dcontour\": [{\"colorbar\": {\"outlinewidth\": 0, \"ticks\": \"\"}, \"colorscale\": [[0.0, \"#0d0887\"], [0.1111111111111111, \"#46039f\"], [0.2222222222222222, \"#7201a8\"], [0.3333333333333333, \"#9c179e\"], [0.4444444444444444, \"#bd3786\"], [0.5555555555555556, \"#d8576b\"], [0.6666666666666666, \"#ed7953\"], [0.7777777777777778, \"#fb9f3a\"], [0.8888888888888888, \"#fdca26\"], [1.0, \"#f0f921\"]], \"type\": \"histogram2dcontour\"}], \"mesh3d\": [{\"colorbar\": {\"outlinewidth\": 0, \"ticks\": \"\"}, \"type\": \"mesh3d\"}], \"parcoords\": [{\"line\": {\"colorbar\": {\"outlinewidth\": 0, \"ticks\": \"\"}}, \"type\": \"parcoords\"}], \"scatter\": [{\"marker\": {\"colorbar\": {\"outlinewidth\": 0, \"ticks\": \"\"}}, \"type\": \"scatter\"}], \"scatter3d\": [{\"line\": {\"colorbar\": {\"outlinewidth\": 0, \"ticks\": \"\"}}, \"marker\": {\"colorbar\": {\"outlinewidth\": 0, \"ticks\": \"\"}}, \"type\": \"scatter3d\"}], \"scattercarpet\": [{\"marker\": {\"colorbar\": {\"outlinewidth\": 0, \"ticks\": \"\"}}, \"type\": \"scattercarpet\"}], \"scattergeo\": [{\"marker\": {\"colorbar\": {\"outlinewidth\": 0, \"ticks\": \"\"}}, \"type\": \"scattergeo\"}], \"scattergl\": [{\"marker\": {\"colorbar\": {\"outlinewidth\": 0, \"ticks\": \"\"}}, \"type\": \"scattergl\"}], \"scattermapbox\": [{\"marker\": {\"colorbar\": {\"outlinewidth\": 0, \"ticks\": \"\"}}, \"type\": \"scattermapbox\"}], \"scatterpolar\": [{\"marker\": {\"colorbar\": {\"outlinewidth\": 0, \"ticks\": \"\"}}, \"type\": \"scatterpolar\"}], \"scatterpolargl\": [{\"marker\": {\"colorbar\": {\"outlinewidth\": 0, \"ticks\": \"\"}}, \"type\": \"scatterpolargl\"}], \"scatterternary\": [{\"marker\": {\"colorbar\": {\"outlinewidth\": 0, \"ticks\": \"\"}}, \"type\": \"scatterternary\"}], \"surface\": [{\"colorbar\": {\"outlinewidth\": 0, \"ticks\": \"\"}, \"colorscale\": [[0.0, \"#0d0887\"], [0.1111111111111111, \"#46039f\"], [0.2222222222222222, \"#7201a8\"], [0.3333333333333333, \"#9c179e\"], [0.4444444444444444, \"#bd3786\"], [0.5555555555555556, \"#d8576b\"], [0.6666666666666666, \"#ed7953\"], [0.7777777777777778, \"#fb9f3a\"], [0.8888888888888888, \"#fdca26\"], [1.0, \"#f0f921\"]], \"type\": \"surface\"}], \"table\": [{\"cells\": {\"fill\": {\"color\": \"#EBF0F8\"}, \"line\": {\"color\": \"white\"}}, \"header\": {\"fill\": {\"color\": \"#C8D4E3\"}, \"line\": {\"color\": \"white\"}}, \"type\": \"table\"}]}, \"layout\": {\"annotationdefaults\": {\"arrowcolor\": \"#2a3f5f\", \"arrowhead\": 0, \"arrowwidth\": 1}, \"colorscale\": {\"diverging\": [[0, \"#8e0152\"], [0.1, \"#c51b7d\"], [0.2, \"#de77ae\"], [0.3, \"#f1b6da\"], [0.4, \"#fde0ef\"], [0.5, \"#f7f7f7\"], [0.6, \"#e6f5d0\"], [0.7, \"#b8e186\"], [0.8, \"#7fbc41\"], [0.9, \"#4d9221\"], [1, \"#276419\"]], \"sequential\": [[0.0, \"#0d0887\"], [0.1111111111111111, \"#46039f\"], [0.2222222222222222, \"#7201a8\"], [0.3333333333333333, \"#9c179e\"], [0.4444444444444444, \"#bd3786\"], [0.5555555555555556, \"#d8576b\"], [0.6666666666666666, \"#ed7953\"], [0.7777777777777778, \"#fb9f3a\"], [0.8888888888888888, \"#fdca26\"], [1.0, \"#f0f921\"]], \"sequentialminus\": [[0.0, \"#0d0887\"], [0.1111111111111111, \"#46039f\"], [0.2222222222222222, \"#7201a8\"], [0.3333333333333333, \"#9c179e\"], [0.4444444444444444, \"#bd3786\"], [0.5555555555555556, \"#d8576b\"], [0.6666666666666666, \"#ed7953\"], [0.7777777777777778, \"#fb9f3a\"], [0.8888888888888888, \"#fdca26\"], [1.0, \"#f0f921\"]]}, \"colorway\": [\"#636efa\", \"#EF553B\", \"#00cc96\", \"#ab63fa\", \"#FFA15A\", \"#19d3f3\", \"#FF6692\", \"#B6E880\", \"#FF97FF\", \"#FECB52\"], \"font\": {\"color\": \"#2a3f5f\"}, \"geo\": {\"bgcolor\": \"white\", \"lakecolor\": \"white\", \"landcolor\": \"#E5ECF6\", \"showlakes\": true, \"showland\": true, \"subunitcolor\": \"white\"}, \"hoverlabel\": {\"align\": \"left\"}, \"hovermode\": \"closest\", \"mapbox\": {\"style\": \"light\"}, \"paper_bgcolor\": \"white\", \"plot_bgcolor\": \"#E5ECF6\", \"polar\": {\"angularaxis\": {\"gridcolor\": \"white\", \"linecolor\": \"white\", \"ticks\": \"\"}, \"bgcolor\": \"#E5ECF6\", \"radialaxis\": {\"gridcolor\": \"white\", \"linecolor\": \"white\", \"ticks\": \"\"}}, \"scene\": {\"xaxis\": {\"backgroundcolor\": \"#E5ECF6\", \"gridcolor\": \"white\", \"gridwidth\": 2, \"linecolor\": \"white\", \"showbackground\": true, \"ticks\": \"\", \"zerolinecolor\": \"white\"}, \"yaxis\": {\"backgroundcolor\": \"#E5ECF6\", \"gridcolor\": \"white\", \"gridwidth\": 2, \"linecolor\": \"white\", \"showbackground\": true, \"ticks\": \"\", \"zerolinecolor\": \"white\"}, \"zaxis\": {\"backgroundcolor\": \"#E5ECF6\", \"gridcolor\": \"white\", \"gridwidth\": 2, \"linecolor\": \"white\", \"showbackground\": true, \"ticks\": \"\", \"zerolinecolor\": \"white\"}}, \"shapedefaults\": {\"line\": {\"color\": \"#2a3f5f\"}}, \"ternary\": {\"aaxis\": {\"gridcolor\": \"white\", \"linecolor\": \"white\", \"ticks\": \"\"}, \"baxis\": {\"gridcolor\": \"white\", \"linecolor\": \"white\", \"ticks\": \"\"}, \"bgcolor\": \"#E5ECF6\", \"caxis\": {\"gridcolor\": \"white\", \"linecolor\": \"white\", \"ticks\": \"\"}}, \"title\": {\"x\": 0.05}, \"xaxis\": {\"automargin\": true, \"gridcolor\": \"white\", \"linecolor\": \"white\", \"ticks\": \"\", \"zerolinecolor\": \"white\", \"zerolinewidth\": 2}, \"yaxis\": {\"automargin\": true, \"gridcolor\": \"white\", \"linecolor\": \"white\", \"ticks\": \"\", \"zerolinecolor\": \"white\", \"zerolinewidth\": 2}}}},\n",
              "                        {\"responsive\": true}\n",
              "                    ).then(function(){\n",
              "                            \n",
              "var gd = document.getElementById('d6e83ecd-2e2e-4dca-a2b5-e8e22db5b11f');\n",
              "var x = new MutationObserver(function (mutations, observer) {{\n",
              "        var display = window.getComputedStyle(gd).display;\n",
              "        if (!display || display === 'none') {{\n",
              "            console.log([gd, 'removed!']);\n",
              "            Plotly.purge(gd);\n",
              "            observer.disconnect();\n",
              "        }}\n",
              "}});\n",
              "\n",
              "// Listen for the removal of the full notebook cells\n",
              "var notebookContainer = gd.closest('#notebook-container');\n",
              "if (notebookContainer) {{\n",
              "    x.observe(notebookContainer, {childList: true});\n",
              "}}\n",
              "\n",
              "// Listen for the clearing of the current output cell\n",
              "var outputEl = gd.closest('.output');\n",
              "if (outputEl) {{\n",
              "    x.observe(outputEl, {childList: true});\n",
              "}}\n",
              "\n",
              "                        })\n",
              "                };\n",
              "                \n",
              "            </script>\n",
              "        </div>\n",
              "</body>\n",
              "</html>"
            ]
          },
          "metadata": {}
        }
      ]
    },
    {
      "cell_type": "code",
      "metadata": {
        "colab": {
          "base_uri": "https://localhost:8080/",
          "height": 542
        },
        "id": "2Xr_FOxzQ5QR",
        "outputId": "858aa2ff-82bf-4ac4-a7d9-9e42e5efc381"
      },
      "source": [
        "fig = go.Figure()\n",
        "fig.add_trace(go.Scatter3d(x = df['Intensidade_de_cor'],\n",
        "                           y = df['Alcool'],\n",
        "                           z = df['Proline'],\n",
        "                           mode = 'markers',\n",
        "                           marker = dict(color = labels.astype(np.float)),\n",
        "                           text = labels))\n",
        "fig.show()"
      ],
      "execution_count": 30,
      "outputs": [
        {
          "output_type": "display_data",
          "data": {
            "text/html": [
              "<html>\n",
              "<head><meta charset=\"utf-8\" /></head>\n",
              "<body>\n",
              "    <div>\n",
              "            <script src=\"https://cdnjs.cloudflare.com/ajax/libs/mathjax/2.7.5/MathJax.js?config=TeX-AMS-MML_SVG\"></script><script type=\"text/javascript\">if (window.MathJax) {MathJax.Hub.Config({SVG: {font: \"STIX-Web\"}});}</script>\n",
              "                <script type=\"text/javascript\">window.PlotlyConfig = {MathJaxConfig: 'local'};</script>\n",
              "        <script src=\"https://cdn.plot.ly/plotly-latest.min.js\"></script>    \n",
              "            <div id=\"c588c0af-2b0b-478b-a940-c101942ac4ec\" class=\"plotly-graph-div\" style=\"height:525px; width:100%;\"></div>\n",
              "            <script type=\"text/javascript\">\n",
              "                \n",
              "                    window.PLOTLYENV=window.PLOTLYENV || {};\n",
              "                    \n",
              "                if (document.getElementById(\"c588c0af-2b0b-478b-a940-c101942ac4ec\")) {\n",
              "                    Plotly.newPlot(\n",
              "                        'c588c0af-2b0b-478b-a940-c101942ac4ec',\n",
              "                        [{\"marker\": {\"color\": [0.0, 0.0, 0.0, 0.0, 0.0, 0.0, 0.0, 0.0, 0.0, 0.0, 0.0, 0.0, 0.0, 0.0, 0.0, 0.0, 0.0, 0.0, 0.0, 0.0, 0.0, 0.0, 0.0, 0.0, 0.0, 0.0, 0.0, 0.0, 0.0, 0.0, 0.0, 0.0, 0.0, 0.0, 0.0, 0.0, 0.0, 0.0, 0.0, 0.0, 0.0, 0.0, 0.0, 0.0, 0.0, 0.0, 0.0, 0.0, 0.0, 0.0, 0.0, 0.0, 0.0, 0.0, 0.0, 0.0, 0.0, 0.0, 0.0, 2.0, 2.0, 2.0, 2.0, 2.0, 2.0, 2.0, 2.0, 2.0, 2.0, 2.0, 2.0, 2.0, 2.0, 0.0, 2.0, 2.0, 2.0, 2.0, 2.0, 2.0, 2.0, 2.0, 2.0, 1.0, 2.0, 2.0, 2.0, 2.0, 2.0, 2.0, 2.0, 2.0, 2.0, 2.0, 2.0, 2.0, 2.0, 2.0, 2.0, 2.0, 2.0, 2.0, 2.0, 2.0, 2.0, 2.0, 2.0, 2.0, 2.0, 2.0, 2.0, 2.0, 2.0, 2.0, 2.0, 2.0, 2.0, 2.0, 2.0, 2.0, 2.0, 2.0, 2.0, 2.0, 2.0, 2.0, 2.0, 2.0, 2.0, 2.0, 1.0, 1.0, 1.0, 1.0, 1.0, 1.0, 1.0, 1.0, 1.0, 1.0, 1.0, 1.0, 1.0, 1.0, 1.0, 1.0, 1.0, 1.0, 1.0, 1.0, 1.0, 1.0, 1.0, 1.0, 1.0, 1.0, 1.0, 1.0, 1.0, 1.0, 1.0, 1.0, 1.0, 1.0, 1.0, 1.0, 1.0, 1.0, 1.0, 1.0, 1.0, 1.0, 1.0, 1.0, 1.0, 1.0, 1.0, 1.0]}, \"mode\": \"markers\", \"text\": [0.0, 0.0, 0.0, 0.0, 0.0, 0.0, 0.0, 0.0, 0.0, 0.0, 0.0, 0.0, 0.0, 0.0, 0.0, 0.0, 0.0, 0.0, 0.0, 0.0, 0.0, 0.0, 0.0, 0.0, 0.0, 0.0, 0.0, 0.0, 0.0, 0.0, 0.0, 0.0, 0.0, 0.0, 0.0, 0.0, 0.0, 0.0, 0.0, 0.0, 0.0, 0.0, 0.0, 0.0, 0.0, 0.0, 0.0, 0.0, 0.0, 0.0, 0.0, 0.0, 0.0, 0.0, 0.0, 0.0, 0.0, 0.0, 0.0, 2.0, 2.0, 2.0, 2.0, 2.0, 2.0, 2.0, 2.0, 2.0, 2.0, 2.0, 2.0, 2.0, 2.0, 0.0, 2.0, 2.0, 2.0, 2.0, 2.0, 2.0, 2.0, 2.0, 2.0, 1.0, 2.0, 2.0, 2.0, 2.0, 2.0, 2.0, 2.0, 2.0, 2.0, 2.0, 2.0, 2.0, 2.0, 2.0, 2.0, 2.0, 2.0, 2.0, 2.0, 2.0, 2.0, 2.0, 2.0, 2.0, 2.0, 2.0, 2.0, 2.0, 2.0, 2.0, 2.0, 2.0, 2.0, 2.0, 2.0, 2.0, 2.0, 2.0, 2.0, 2.0, 2.0, 2.0, 2.0, 2.0, 2.0, 2.0, 1.0, 1.0, 1.0, 1.0, 1.0, 1.0, 1.0, 1.0, 1.0, 1.0, 1.0, 1.0, 1.0, 1.0, 1.0, 1.0, 1.0, 1.0, 1.0, 1.0, 1.0, 1.0, 1.0, 1.0, 1.0, 1.0, 1.0, 1.0, 1.0, 1.0, 1.0, 1.0, 1.0, 1.0, 1.0, 1.0, 1.0, 1.0, 1.0, 1.0, 1.0, 1.0, 1.0, 1.0, 1.0, 1.0, 1.0, 1.0], \"type\": \"scatter3d\", \"x\": [0.3720136518771331, 0.26450511945392485, 0.3754266211604095, 0.5563139931740614, 0.2593856655290102, 0.4667235494880546, 0.3387372013651877, 0.3216723549488054, 0.33447098976109213, 0.5068259385665529, 0.3813993174061433, 0.31740614334470985, 0.3686006825938566, 0.3515358361774744, 0.5307167235494881, 0.5136518771331058, 0.41979522184300344, 0.4539249146757679, 0.6331058020477814, 0.325938566552901, 0.37286689419795227, 0.27474402730375425, 0.21501706484641633, 0.22610921501706485, 0.1911262798634812, 0.1962457337883959, 0.30034129692832756, 0.22781569965870305, 0.27474402730375425, 0.29180887372013653, 0.37713310580204773, 0.4795221843003413, 0.21843003412969278, 0.3515358361774744, 0.2491467576791809, 0.325938566552901, 0.2832764505119454, 0.2534129692832764, 0.20648464163822525, 0.325938566552901, 0.4138225255972696, 0.2559726962457338, 0.35409556313993173, 0.2627986348122867, 0.32081911262798635, 0.33788395904436863, 0.3088737201365188, 0.4112627986348123, 0.41979522184300344, 0.6501706484641638, 0.5051194539249146, 0.3686006825938566, 0.4923208191126279, 0.42832764505119447, 0.38993174061433444, 0.424061433447099, 0.4351535836177475, 0.40273037542662116, 0.4709897610921502, 0.057167235494880536, 0.1697952218430034, 0.3813993174061433, 0.21501706484641633, 0.2704778156996587, 0.1424914675767918, 0.2832764505119454, 0.3430034129692833, 0.2901023890784983, 0.16126279863481227, 0.13395904436860068, 0.15102389078498293, 0.17918088737201363, 0.2098976109215017, 0.1766211604095563, 0.16467576791808872, 0.21501706484641633, 0.2832764505119454, 0.11689419795221842, 0.18088737201365188, 0.1100682593856655, 0.10409556313993173, 0.22354948805460748, 0.07849829351535836, 0.30034129692832756, 0.15102389078498293, 0.1143344709897611, 0.09982935153583619, 0.11262798634812288, 0.1296928327645051, 0.03924914675767918, 0.09556313993174059, 0.1979522184300341, 0.15102389078498293, 0.07423208191126279, 0.16808873720136516, 0.11262798634812288, 0.10409556313993173, 0.13822525597269622, 0.27474402730375425, 0.08703071672354948, 0.17235494880546073, 0.09982935153583619, 0.1296928327645051, 0.06655290102389078, 0.14163822525597267, 0.12116040955631399, 0.18088737201365188, 0.17235494880546073, 0.12116040955631399, 0.11689419795221842, 0.13822525597269622, 0.06143344709897611, 0.21501706484641633, 0.15358361774744025, 0.13822525597269622, 0.052901023890784965, 0.057167235494880536, 0.06655290102389078, 0.18088737201365188, 0.0, 0.16808873720136516, 0.40273037542662116, 0.06825938566552903, 0.11262798634812288, 0.1296928327645051, 0.12627986348122863, 0.22696245733788392, 0.14675767918088736, 0.07167235494880547, 0.11262798634812288, 0.2406143344709897, 0.3515358361774744, 0.37713310580204773, 0.31740614334470985, 0.35580204778157, 0.4965870307167235, 0.21928327645051196, 0.31740614334470985, 0.37713310580204773, 0.31058020477815695, 0.2832764505119454, 0.3686006825938566, 0.26194539249146753, 0.2662116040955631, 0.5912969283276451, 0.23208191126279862, 0.3088737201365188, 0.5435153583617748, 0.6092150170648464, 0.6928327645051194, 0.6245733788395904, 0.8122866894197952, 0.4965870307167235, 0.78839590443686, 0.5392491467576791, 0.5648464163822525, 0.659556313993174, 0.5307167235494881, 0.9999999999999999, 0.893344709897611, 0.5435153583617748, 0.39249146757679176, 0.36689419795221845, 0.341296928327645, 0.7081911262798635, 0.45563139931740615, 0.8020477815699658, 0.7662116040955631, 0.6296928327645052, 0.6160409556313993, 0.36006825938566556, 0.735494795221843, 0.7184300341296928, 0.5477815699658704, 0.5136518771331058, 0.7610921501706484, 0.6843003412969284, 0.6757679180887372], \"y\": [0.8421052631578951, 0.5710526315789473, 0.560526315789474, 0.8789473684210525, 0.5815789473684214, 0.8342105263157893, 0.8842105263157896, 0.797368421052632, 1.0, 0.7447368421052629, 0.8078947368421052, 0.8131578947368419, 0.7157894736842105, 0.9789473684210526, 0.8815789473684212, 0.6842105263157898, 0.8605263157894738, 0.736842105263158, 0.831578947368421, 0.6868421052631581, 0.797368421052632, 0.5, 0.7052631578947373, 0.47894736842105257, 0.6499999999999999, 0.5315789473684216, 0.6210526315789475, 0.5973684210526318, 0.7473684210526317, 0.7868421052631578, 0.7105263157894739, 0.6710526315789473, 0.6973684210526314, 0.7184210526315788, 0.6526315789473687, 0.6447368421052633, 0.5921052631578947, 0.5315789473684216, 0.5368421052631582, 0.8394736842105264, 0.6657894736842107, 0.6263157894736846, 0.7500000000000004, 0.5815789473684214, 0.5315789473684216, 0.836842105263158, 0.8815789473684212, 0.7552631578947371, 0.8078947368421052, 0.7657894736842104, 0.5315789473684216, 0.736842105263158, 0.7342105263157896, 0.7210526315789472, 0.7131578947368422, 0.6657894736842107, 0.8394736842105264, 0.594736842105263, 0.7078947368421056, 0.3526315789473684, 0.34210526315789513, 0.4236842105263161, 0.6947368421052631, 0.3526315789473684, 0.30000000000000027, 0.3526315789473684, 0.5473684210526315, 0.3526315789473684, 0.6078947368421055, 0.310526315789474, 0.331578947368421, 0.7447368421052629, 0.6473684210526316, 0.5157894736842108, 0.2447368421052638, 0.1657894736842107, 0.5263157894736841, 0.2131578947368422, 0.34210526315789513, 0.43947368421052646, 0.2552631578947371, 0.44473684210526354, 0.2763157894736845, 0.5315789473684216, 0.2131578947368422, 0.43157894736842106, 0.29736842105263195, 0.1631578947368424, 0.16052631578947407, 0.2763157894736845, 0.2763157894736845, 0.2552631578947371, 0.43684210526315814, 0.331578947368421, 0.155263157894737, 0.3789473684210529, 0.20526315789473726, 0.331578947368421, 0.3526315789473684, 0.331578947368421, 0.2763157894736845, 0.4131578947368424, 0.34473684210526345, 0.20789473684210558, 0.38947368421052664, 0.3657894736842109, 0.3210526315789477, 0.44473684210526354, 0.3131578947368423, 0.15263157894736867, 0.11315789473684257, 0.39210526315789496, 0.19210526315789478, 0.10000000000000053, 0.2763157894736845, 0.0, 0.20789473684210558, 0.3657894736842109, 0.45789473684210513, 0.2552631578947371, 0.1105263157894738, 0.13947368421052664, 0.3657894736842109, 0.5315789473684216, 0.2210526315789476, 0.2736842105263162, 0.3684210526315792, 0.20000000000000018, 0.3526315789473684, 0.26578947368421035, 0.4815789473684209, 0.4868421052631584, 0.4684210526315793, 0.43947368421052646, 0.38947368421052664, 0.4131578947368424, 0.3210526315789477, 0.3947368421052633, 0.6473684210526316, 0.47631578947368425, 0.5, 0.6131578947368421, 0.655263157894737, 0.6815789473684211, 0.3210526315789477, 0.560526315789474, 0.7500000000000004, 0.48421052631578965, 0.6026315789473689, 0.5394736842105265, 0.6499999999999999, 0.4631578947368422, 0.5473684210526315, 0.5789473684210531, 0.4078947368421053, 0.5631578947368423, 0.7394736842105263, 0.37368421052631584, 0.8710526315789475, 0.6447368421052633, 0.3500000000000001, 0.7000000000000002, 0.47894736842105257, 0.5078947368421058, 0.7236842105263159, 0.7105263157894739, 0.6368421052631579, 0.4710526315789476, 0.6710526315789473, 0.6236842105263158, 0.3078947368421052, 0.45789473684210513, 0.823684210526316, 0.7052631578947373, 0.6236842105263158, 0.5894736842105264, 0.5631578947368423, 0.8157894736842106], \"z\": [0.5613409415121255, 0.5506419400855921, 0.6469329529243938, 0.8573466476462198, 0.3259629101283881, 0.8359486447931527, 0.7218259629101285, 0.725392296718973, 0.5470756062767476, 0.5470756062767476, 0.8787446504992867, 0.7146932952924394, 0.7432239657631955, 0.6219686162624822, 0.9051355206847361, 0.7360912981455064, 0.7146932952924394, 0.6077032810271041, 1.0, 0.40442225392296727, 0.35805991440798857, 0.35092724679029963, 0.5399429386590585, 0.5256776034236805, 0.40442225392296727, 0.3937232524964337, 0.6540656205420827, 0.7182596291012839, 0.4543509272467904, 0.5399429386590585, 0.7182596291012839, 0.8823109843081313, 0.5078459343794579, 0.6825962910128388, 0.5827389443651926, 0.4579172610556348, 0.4293865905848788, 0.5898716119828816, 0.529243937232525, 0.3437945791726106, 0.36875891583452214, 0.5399429386590585, 0.5827389443651926, 0.2867332382310984, 0.43295292439372324, 0.5720399429386591, 0.5613409415121255, 0.5042796005706135, 0.557774607703281, 0.7004279600570614, 0.6219686162624822, 0.7039942938659058, 0.6504992867332383, 0.782453637660485, 0.557774607703281, 0.6005706134094152, 0.4935805991440799, 0.7075606276747504, 0.7182596291012839, 0.17261055634807418, 0.2867332382310984, 0.12268188302425106, 0.2510699001426534, 0.10128388017118403, 0.054921540656205386, 0.2853067047075606, 0.15977175463623397, 0.1654778887303852, 0.33666191155492153, 0.31383737517831667, 0.4222539229671898, 0.09415121255349498, 0.13837375178316688, 0.5042796005706135, 0.4336661911554922, 0.10699001426533525, 0.08131241084165478, 0.15834522111269614, 0.33666191155492153, 0.1319543509272468, 0.0, 0.3109843081312411, 0.2510699001426534, 0.16904422253922965, 0.17261055634807418, 0.12268188302425106, 0.15477888730385161, 0.20256776034236804, 0.2867332382310984, 0.24750356633380885, 0.1440798858773181, 0.12268188302425106, 0.15477888730385161, 0.008559201141226797, 0.047788873038516394, 0.4700427960057062, 0.24750356633380885, 0.10699001426533525, 0.27246790299572043, 0.09129814550641938, 0.30813124108416545, 0.20256776034236804, 0.11412268188302424, 0.09771754636233951, 0.2810271041369472, 0.02639087018544936, 0.1654778887303852, 0.14978601997146931, 0.02425106990014264, 0.2867332382310984, 0.20256776034236804, 0.033523537803138354, 0.23466476462196864, 0.11126961483594863, 0.07631954350927247, 0.09201141226818829, 0.15477888730385161, 0.047788873038516394, 0.06704707560627673, 0.20399429386590587, 0.24750356633380885, 0.13338088445078458, 0.062054208273894434, 0.07275320970042795, 0.07275320970042795, 0.07132667617689017, 0.052781740370898694, 0.1340941512125535, 0.0456490727532097, 0.21540656205420824, 0.2510699001426534, 0.17974322396576317, 0.20114122681883026, 0.22967189728958629, 0.2653352353780314, 0.297432239657632, 0.3152639087018545, 0.16904422253922965, 0.21540656205420824, 0.2225392296718973, 0.22967189728958629, 0.35805991440798857, 0.17261055634807418, 0.1940085592011412, 0.4115549215406562, 0.3937232524964337, 0.09771754636233951, 0.24750356633380885, 0.2653352353780314, 0.1940085592011412, 0.15834522111269614, 0.1440798858773181, 0.1048502139800285, 0.2831669044222539, 0.25820256776034234, 0.318830242510699, 0.1440798858773181, 0.4293865905848788, 0.27246790299572043, 0.24393723252496433, 0.17261055634807418, 0.2867332382310984, 0.20827389443651925, 0.2831669044222539, 0.2403708987161198, 0.17261055634807418, 0.297432239657632, 0.29029957203994294, 0.33666191155492153, 0.2510699001426534, 0.1654778887303852, 0.1369472182596291, 0.27246790299572043, 0.3295292439372326, 0.33666191155492153, 0.3972895863052782, 0.40085592011412274, 0.20114122681883026]}],\n",
              "                        {\"template\": {\"data\": {\"bar\": [{\"error_x\": {\"color\": \"#2a3f5f\"}, \"error_y\": {\"color\": \"#2a3f5f\"}, \"marker\": {\"line\": {\"color\": \"#E5ECF6\", \"width\": 0.5}}, \"type\": \"bar\"}], \"barpolar\": [{\"marker\": {\"line\": {\"color\": \"#E5ECF6\", \"width\": 0.5}}, \"type\": \"barpolar\"}], \"carpet\": [{\"aaxis\": {\"endlinecolor\": \"#2a3f5f\", \"gridcolor\": \"white\", \"linecolor\": \"white\", \"minorgridcolor\": \"white\", \"startlinecolor\": \"#2a3f5f\"}, \"baxis\": {\"endlinecolor\": \"#2a3f5f\", \"gridcolor\": \"white\", \"linecolor\": \"white\", \"minorgridcolor\": \"white\", \"startlinecolor\": \"#2a3f5f\"}, \"type\": \"carpet\"}], \"choropleth\": [{\"colorbar\": {\"outlinewidth\": 0, \"ticks\": \"\"}, \"type\": \"choropleth\"}], \"contour\": [{\"colorbar\": {\"outlinewidth\": 0, \"ticks\": \"\"}, \"colorscale\": [[0.0, \"#0d0887\"], [0.1111111111111111, \"#46039f\"], [0.2222222222222222, \"#7201a8\"], [0.3333333333333333, \"#9c179e\"], [0.4444444444444444, \"#bd3786\"], [0.5555555555555556, \"#d8576b\"], [0.6666666666666666, \"#ed7953\"], [0.7777777777777778, \"#fb9f3a\"], [0.8888888888888888, \"#fdca26\"], [1.0, \"#f0f921\"]], \"type\": \"contour\"}], \"contourcarpet\": [{\"colorbar\": {\"outlinewidth\": 0, \"ticks\": \"\"}, \"type\": \"contourcarpet\"}], \"heatmap\": [{\"colorbar\": {\"outlinewidth\": 0, \"ticks\": \"\"}, \"colorscale\": [[0.0, \"#0d0887\"], [0.1111111111111111, \"#46039f\"], [0.2222222222222222, \"#7201a8\"], [0.3333333333333333, \"#9c179e\"], [0.4444444444444444, \"#bd3786\"], [0.5555555555555556, \"#d8576b\"], [0.6666666666666666, \"#ed7953\"], [0.7777777777777778, \"#fb9f3a\"], [0.8888888888888888, \"#fdca26\"], [1.0, \"#f0f921\"]], \"type\": \"heatmap\"}], \"heatmapgl\": [{\"colorbar\": {\"outlinewidth\": 0, \"ticks\": \"\"}, \"colorscale\": [[0.0, \"#0d0887\"], [0.1111111111111111, \"#46039f\"], [0.2222222222222222, \"#7201a8\"], [0.3333333333333333, \"#9c179e\"], [0.4444444444444444, \"#bd3786\"], [0.5555555555555556, \"#d8576b\"], [0.6666666666666666, \"#ed7953\"], [0.7777777777777778, \"#fb9f3a\"], [0.8888888888888888, \"#fdca26\"], [1.0, \"#f0f921\"]], \"type\": \"heatmapgl\"}], \"histogram\": [{\"marker\": {\"colorbar\": {\"outlinewidth\": 0, \"ticks\": \"\"}}, \"type\": \"histogram\"}], \"histogram2d\": [{\"colorbar\": {\"outlinewidth\": 0, \"ticks\": \"\"}, \"colorscale\": [[0.0, \"#0d0887\"], [0.1111111111111111, \"#46039f\"], [0.2222222222222222, \"#7201a8\"], [0.3333333333333333, \"#9c179e\"], [0.4444444444444444, \"#bd3786\"], [0.5555555555555556, \"#d8576b\"], [0.6666666666666666, \"#ed7953\"], [0.7777777777777778, \"#fb9f3a\"], [0.8888888888888888, \"#fdca26\"], [1.0, \"#f0f921\"]], \"type\": \"histogram2d\"}], \"histogram2dcontour\": [{\"colorbar\": {\"outlinewidth\": 0, \"ticks\": \"\"}, \"colorscale\": [[0.0, \"#0d0887\"], [0.1111111111111111, \"#46039f\"], [0.2222222222222222, \"#7201a8\"], [0.3333333333333333, \"#9c179e\"], [0.4444444444444444, \"#bd3786\"], [0.5555555555555556, \"#d8576b\"], [0.6666666666666666, \"#ed7953\"], [0.7777777777777778, \"#fb9f3a\"], [0.8888888888888888, \"#fdca26\"], [1.0, \"#f0f921\"]], \"type\": \"histogram2dcontour\"}], \"mesh3d\": [{\"colorbar\": {\"outlinewidth\": 0, \"ticks\": \"\"}, \"type\": \"mesh3d\"}], \"parcoords\": [{\"line\": {\"colorbar\": {\"outlinewidth\": 0, \"ticks\": \"\"}}, \"type\": \"parcoords\"}], \"scatter\": [{\"marker\": {\"colorbar\": {\"outlinewidth\": 0, \"ticks\": \"\"}}, \"type\": \"scatter\"}], \"scatter3d\": [{\"line\": {\"colorbar\": {\"outlinewidth\": 0, \"ticks\": \"\"}}, \"marker\": {\"colorbar\": {\"outlinewidth\": 0, \"ticks\": \"\"}}, \"type\": \"scatter3d\"}], \"scattercarpet\": [{\"marker\": {\"colorbar\": {\"outlinewidth\": 0, \"ticks\": \"\"}}, \"type\": \"scattercarpet\"}], \"scattergeo\": [{\"marker\": {\"colorbar\": {\"outlinewidth\": 0, \"ticks\": \"\"}}, \"type\": \"scattergeo\"}], \"scattergl\": [{\"marker\": {\"colorbar\": {\"outlinewidth\": 0, \"ticks\": \"\"}}, \"type\": \"scattergl\"}], \"scattermapbox\": [{\"marker\": {\"colorbar\": {\"outlinewidth\": 0, \"ticks\": \"\"}}, \"type\": \"scattermapbox\"}], \"scatterpolar\": [{\"marker\": {\"colorbar\": {\"outlinewidth\": 0, \"ticks\": \"\"}}, \"type\": \"scatterpolar\"}], \"scatterpolargl\": [{\"marker\": {\"colorbar\": {\"outlinewidth\": 0, \"ticks\": \"\"}}, \"type\": \"scatterpolargl\"}], \"scatterternary\": [{\"marker\": {\"colorbar\": {\"outlinewidth\": 0, \"ticks\": \"\"}}, \"type\": \"scatterternary\"}], \"surface\": [{\"colorbar\": {\"outlinewidth\": 0, \"ticks\": \"\"}, \"colorscale\": [[0.0, \"#0d0887\"], [0.1111111111111111, \"#46039f\"], [0.2222222222222222, \"#7201a8\"], [0.3333333333333333, \"#9c179e\"], [0.4444444444444444, \"#bd3786\"], [0.5555555555555556, \"#d8576b\"], [0.6666666666666666, \"#ed7953\"], [0.7777777777777778, \"#fb9f3a\"], [0.8888888888888888, \"#fdca26\"], [1.0, \"#f0f921\"]], \"type\": \"surface\"}], \"table\": [{\"cells\": {\"fill\": {\"color\": \"#EBF0F8\"}, \"line\": {\"color\": \"white\"}}, \"header\": {\"fill\": {\"color\": \"#C8D4E3\"}, \"line\": {\"color\": \"white\"}}, \"type\": \"table\"}]}, \"layout\": {\"annotationdefaults\": {\"arrowcolor\": \"#2a3f5f\", \"arrowhead\": 0, \"arrowwidth\": 1}, \"colorscale\": {\"diverging\": [[0, \"#8e0152\"], [0.1, \"#c51b7d\"], [0.2, \"#de77ae\"], [0.3, \"#f1b6da\"], [0.4, \"#fde0ef\"], [0.5, \"#f7f7f7\"], [0.6, \"#e6f5d0\"], [0.7, \"#b8e186\"], [0.8, \"#7fbc41\"], [0.9, \"#4d9221\"], [1, \"#276419\"]], \"sequential\": [[0.0, \"#0d0887\"], [0.1111111111111111, \"#46039f\"], [0.2222222222222222, \"#7201a8\"], [0.3333333333333333, \"#9c179e\"], [0.4444444444444444, \"#bd3786\"], [0.5555555555555556, \"#d8576b\"], [0.6666666666666666, \"#ed7953\"], [0.7777777777777778, \"#fb9f3a\"], [0.8888888888888888, \"#fdca26\"], [1.0, \"#f0f921\"]], \"sequentialminus\": [[0.0, \"#0d0887\"], [0.1111111111111111, \"#46039f\"], [0.2222222222222222, \"#7201a8\"], [0.3333333333333333, \"#9c179e\"], [0.4444444444444444, \"#bd3786\"], [0.5555555555555556, \"#d8576b\"], [0.6666666666666666, \"#ed7953\"], [0.7777777777777778, \"#fb9f3a\"], [0.8888888888888888, \"#fdca26\"], [1.0, \"#f0f921\"]]}, \"colorway\": [\"#636efa\", \"#EF553B\", \"#00cc96\", \"#ab63fa\", \"#FFA15A\", \"#19d3f3\", \"#FF6692\", \"#B6E880\", \"#FF97FF\", \"#FECB52\"], \"font\": {\"color\": \"#2a3f5f\"}, \"geo\": {\"bgcolor\": \"white\", \"lakecolor\": \"white\", \"landcolor\": \"#E5ECF6\", \"showlakes\": true, \"showland\": true, \"subunitcolor\": \"white\"}, \"hoverlabel\": {\"align\": \"left\"}, \"hovermode\": \"closest\", \"mapbox\": {\"style\": \"light\"}, \"paper_bgcolor\": \"white\", \"plot_bgcolor\": \"#E5ECF6\", \"polar\": {\"angularaxis\": {\"gridcolor\": \"white\", \"linecolor\": \"white\", \"ticks\": \"\"}, \"bgcolor\": \"#E5ECF6\", \"radialaxis\": {\"gridcolor\": \"white\", \"linecolor\": \"white\", \"ticks\": \"\"}}, \"scene\": {\"xaxis\": {\"backgroundcolor\": \"#E5ECF6\", \"gridcolor\": \"white\", \"gridwidth\": 2, \"linecolor\": \"white\", \"showbackground\": true, \"ticks\": \"\", \"zerolinecolor\": \"white\"}, \"yaxis\": {\"backgroundcolor\": \"#E5ECF6\", \"gridcolor\": \"white\", \"gridwidth\": 2, \"linecolor\": \"white\", \"showbackground\": true, \"ticks\": \"\", \"zerolinecolor\": \"white\"}, \"zaxis\": {\"backgroundcolor\": \"#E5ECF6\", \"gridcolor\": \"white\", \"gridwidth\": 2, \"linecolor\": \"white\", \"showbackground\": true, \"ticks\": \"\", \"zerolinecolor\": \"white\"}}, \"shapedefaults\": {\"line\": {\"color\": \"#2a3f5f\"}}, \"ternary\": {\"aaxis\": {\"gridcolor\": \"white\", \"linecolor\": \"white\", \"ticks\": \"\"}, \"baxis\": {\"gridcolor\": \"white\", \"linecolor\": \"white\", \"ticks\": \"\"}, \"bgcolor\": \"#E5ECF6\", \"caxis\": {\"gridcolor\": \"white\", \"linecolor\": \"white\", \"ticks\": \"\"}}, \"title\": {\"x\": 0.05}, \"xaxis\": {\"automargin\": true, \"gridcolor\": \"white\", \"linecolor\": \"white\", \"ticks\": \"\", \"zerolinecolor\": \"white\", \"zerolinewidth\": 2}, \"yaxis\": {\"automargin\": true, \"gridcolor\": \"white\", \"linecolor\": \"white\", \"ticks\": \"\", \"zerolinecolor\": \"white\", \"zerolinewidth\": 2}}}},\n",
              "                        {\"responsive\": true}\n",
              "                    ).then(function(){\n",
              "                            \n",
              "var gd = document.getElementById('c588c0af-2b0b-478b-a940-c101942ac4ec');\n",
              "var x = new MutationObserver(function (mutations, observer) {{\n",
              "        var display = window.getComputedStyle(gd).display;\n",
              "        if (!display || display === 'none') {{\n",
              "            console.log([gd, 'removed!']);\n",
              "            Plotly.purge(gd);\n",
              "            observer.disconnect();\n",
              "        }}\n",
              "}});\n",
              "\n",
              "// Listen for the removal of the full notebook cells\n",
              "var notebookContainer = gd.closest('#notebook-container');\n",
              "if (notebookContainer) {{\n",
              "    x.observe(notebookContainer, {childList: true});\n",
              "}}\n",
              "\n",
              "// Listen for the clearing of the current output cell\n",
              "var outputEl = gd.closest('.output');\n",
              "if (outputEl) {{\n",
              "    x.observe(outputEl, {childList: true});\n",
              "}}\n",
              "\n",
              "                        })\n",
              "                };\n",
              "                \n",
              "            </script>\n",
              "        </div>\n",
              "</body>\n",
              "</html>"
            ]
          },
          "metadata": {}
        }
      ]
    },
    {
      "cell_type": "code",
      "metadata": {
        "colab": {
          "base_uri": "https://localhost:8080/",
          "height": 542
        },
        "id": "auEGEQ4DR9Ra",
        "outputId": "acbba418-ddb5-48d9-e01e-a38eb34df779"
      },
      "source": [
        "# inserindo outras informações na figura\n",
        "\n",
        "fig.update_layout(scene = dict(\n",
        "    xaxis_title = 'Intensidade de cor', \n",
        "    yaxis_title = 'Álcool',\n",
        "    zaxis_title = 'Proline'\n",
        "))\n",
        "fig.show()"
      ],
      "execution_count": 31,
      "outputs": [
        {
          "output_type": "display_data",
          "data": {
            "text/html": [
              "<html>\n",
              "<head><meta charset=\"utf-8\" /></head>\n",
              "<body>\n",
              "    <div>\n",
              "            <script src=\"https://cdnjs.cloudflare.com/ajax/libs/mathjax/2.7.5/MathJax.js?config=TeX-AMS-MML_SVG\"></script><script type=\"text/javascript\">if (window.MathJax) {MathJax.Hub.Config({SVG: {font: \"STIX-Web\"}});}</script>\n",
              "                <script type=\"text/javascript\">window.PlotlyConfig = {MathJaxConfig: 'local'};</script>\n",
              "        <script src=\"https://cdn.plot.ly/plotly-latest.min.js\"></script>    \n",
              "            <div id=\"5f935e34-df7d-4fd3-8a8b-ae9ccd4719dd\" class=\"plotly-graph-div\" style=\"height:525px; width:100%;\"></div>\n",
              "            <script type=\"text/javascript\">\n",
              "                \n",
              "                    window.PLOTLYENV=window.PLOTLYENV || {};\n",
              "                    \n",
              "                if (document.getElementById(\"5f935e34-df7d-4fd3-8a8b-ae9ccd4719dd\")) {\n",
              "                    Plotly.newPlot(\n",
              "                        '5f935e34-df7d-4fd3-8a8b-ae9ccd4719dd',\n",
              "                        [{\"marker\": {\"color\": [0.0, 0.0, 0.0, 0.0, 0.0, 0.0, 0.0, 0.0, 0.0, 0.0, 0.0, 0.0, 0.0, 0.0, 0.0, 0.0, 0.0, 0.0, 0.0, 0.0, 0.0, 0.0, 0.0, 0.0, 0.0, 0.0, 0.0, 0.0, 0.0, 0.0, 0.0, 0.0, 0.0, 0.0, 0.0, 0.0, 0.0, 0.0, 0.0, 0.0, 0.0, 0.0, 0.0, 0.0, 0.0, 0.0, 0.0, 0.0, 0.0, 0.0, 0.0, 0.0, 0.0, 0.0, 0.0, 0.0, 0.0, 0.0, 0.0, 2.0, 2.0, 2.0, 2.0, 2.0, 2.0, 2.0, 2.0, 2.0, 2.0, 2.0, 2.0, 2.0, 2.0, 0.0, 2.0, 2.0, 2.0, 2.0, 2.0, 2.0, 2.0, 2.0, 2.0, 1.0, 2.0, 2.0, 2.0, 2.0, 2.0, 2.0, 2.0, 2.0, 2.0, 2.0, 2.0, 2.0, 2.0, 2.0, 2.0, 2.0, 2.0, 2.0, 2.0, 2.0, 2.0, 2.0, 2.0, 2.0, 2.0, 2.0, 2.0, 2.0, 2.0, 2.0, 2.0, 2.0, 2.0, 2.0, 2.0, 2.0, 2.0, 2.0, 2.0, 2.0, 2.0, 2.0, 2.0, 2.0, 2.0, 2.0, 1.0, 1.0, 1.0, 1.0, 1.0, 1.0, 1.0, 1.0, 1.0, 1.0, 1.0, 1.0, 1.0, 1.0, 1.0, 1.0, 1.0, 1.0, 1.0, 1.0, 1.0, 1.0, 1.0, 1.0, 1.0, 1.0, 1.0, 1.0, 1.0, 1.0, 1.0, 1.0, 1.0, 1.0, 1.0, 1.0, 1.0, 1.0, 1.0, 1.0, 1.0, 1.0, 1.0, 1.0, 1.0, 1.0, 1.0, 1.0]}, \"mode\": \"markers\", \"text\": [0.0, 0.0, 0.0, 0.0, 0.0, 0.0, 0.0, 0.0, 0.0, 0.0, 0.0, 0.0, 0.0, 0.0, 0.0, 0.0, 0.0, 0.0, 0.0, 0.0, 0.0, 0.0, 0.0, 0.0, 0.0, 0.0, 0.0, 0.0, 0.0, 0.0, 0.0, 0.0, 0.0, 0.0, 0.0, 0.0, 0.0, 0.0, 0.0, 0.0, 0.0, 0.0, 0.0, 0.0, 0.0, 0.0, 0.0, 0.0, 0.0, 0.0, 0.0, 0.0, 0.0, 0.0, 0.0, 0.0, 0.0, 0.0, 0.0, 2.0, 2.0, 2.0, 2.0, 2.0, 2.0, 2.0, 2.0, 2.0, 2.0, 2.0, 2.0, 2.0, 2.0, 0.0, 2.0, 2.0, 2.0, 2.0, 2.0, 2.0, 2.0, 2.0, 2.0, 1.0, 2.0, 2.0, 2.0, 2.0, 2.0, 2.0, 2.0, 2.0, 2.0, 2.0, 2.0, 2.0, 2.0, 2.0, 2.0, 2.0, 2.0, 2.0, 2.0, 2.0, 2.0, 2.0, 2.0, 2.0, 2.0, 2.0, 2.0, 2.0, 2.0, 2.0, 2.0, 2.0, 2.0, 2.0, 2.0, 2.0, 2.0, 2.0, 2.0, 2.0, 2.0, 2.0, 2.0, 2.0, 2.0, 2.0, 1.0, 1.0, 1.0, 1.0, 1.0, 1.0, 1.0, 1.0, 1.0, 1.0, 1.0, 1.0, 1.0, 1.0, 1.0, 1.0, 1.0, 1.0, 1.0, 1.0, 1.0, 1.0, 1.0, 1.0, 1.0, 1.0, 1.0, 1.0, 1.0, 1.0, 1.0, 1.0, 1.0, 1.0, 1.0, 1.0, 1.0, 1.0, 1.0, 1.0, 1.0, 1.0, 1.0, 1.0, 1.0, 1.0, 1.0, 1.0], \"type\": \"scatter3d\", \"x\": [0.3720136518771331, 0.26450511945392485, 0.3754266211604095, 0.5563139931740614, 0.2593856655290102, 0.4667235494880546, 0.3387372013651877, 0.3216723549488054, 0.33447098976109213, 0.5068259385665529, 0.3813993174061433, 0.31740614334470985, 0.3686006825938566, 0.3515358361774744, 0.5307167235494881, 0.5136518771331058, 0.41979522184300344, 0.4539249146757679, 0.6331058020477814, 0.325938566552901, 0.37286689419795227, 0.27474402730375425, 0.21501706484641633, 0.22610921501706485, 0.1911262798634812, 0.1962457337883959, 0.30034129692832756, 0.22781569965870305, 0.27474402730375425, 0.29180887372013653, 0.37713310580204773, 0.4795221843003413, 0.21843003412969278, 0.3515358361774744, 0.2491467576791809, 0.325938566552901, 0.2832764505119454, 0.2534129692832764, 0.20648464163822525, 0.325938566552901, 0.4138225255972696, 0.2559726962457338, 0.35409556313993173, 0.2627986348122867, 0.32081911262798635, 0.33788395904436863, 0.3088737201365188, 0.4112627986348123, 0.41979522184300344, 0.6501706484641638, 0.5051194539249146, 0.3686006825938566, 0.4923208191126279, 0.42832764505119447, 0.38993174061433444, 0.424061433447099, 0.4351535836177475, 0.40273037542662116, 0.4709897610921502, 0.057167235494880536, 0.1697952218430034, 0.3813993174061433, 0.21501706484641633, 0.2704778156996587, 0.1424914675767918, 0.2832764505119454, 0.3430034129692833, 0.2901023890784983, 0.16126279863481227, 0.13395904436860068, 0.15102389078498293, 0.17918088737201363, 0.2098976109215017, 0.1766211604095563, 0.16467576791808872, 0.21501706484641633, 0.2832764505119454, 0.11689419795221842, 0.18088737201365188, 0.1100682593856655, 0.10409556313993173, 0.22354948805460748, 0.07849829351535836, 0.30034129692832756, 0.15102389078498293, 0.1143344709897611, 0.09982935153583619, 0.11262798634812288, 0.1296928327645051, 0.03924914675767918, 0.09556313993174059, 0.1979522184300341, 0.15102389078498293, 0.07423208191126279, 0.16808873720136516, 0.11262798634812288, 0.10409556313993173, 0.13822525597269622, 0.27474402730375425, 0.08703071672354948, 0.17235494880546073, 0.09982935153583619, 0.1296928327645051, 0.06655290102389078, 0.14163822525597267, 0.12116040955631399, 0.18088737201365188, 0.17235494880546073, 0.12116040955631399, 0.11689419795221842, 0.13822525597269622, 0.06143344709897611, 0.21501706484641633, 0.15358361774744025, 0.13822525597269622, 0.052901023890784965, 0.057167235494880536, 0.06655290102389078, 0.18088737201365188, 0.0, 0.16808873720136516, 0.40273037542662116, 0.06825938566552903, 0.11262798634812288, 0.1296928327645051, 0.12627986348122863, 0.22696245733788392, 0.14675767918088736, 0.07167235494880547, 0.11262798634812288, 0.2406143344709897, 0.3515358361774744, 0.37713310580204773, 0.31740614334470985, 0.35580204778157, 0.4965870307167235, 0.21928327645051196, 0.31740614334470985, 0.37713310580204773, 0.31058020477815695, 0.2832764505119454, 0.3686006825938566, 0.26194539249146753, 0.2662116040955631, 0.5912969283276451, 0.23208191126279862, 0.3088737201365188, 0.5435153583617748, 0.6092150170648464, 0.6928327645051194, 0.6245733788395904, 0.8122866894197952, 0.4965870307167235, 0.78839590443686, 0.5392491467576791, 0.5648464163822525, 0.659556313993174, 0.5307167235494881, 0.9999999999999999, 0.893344709897611, 0.5435153583617748, 0.39249146757679176, 0.36689419795221845, 0.341296928327645, 0.7081911262798635, 0.45563139931740615, 0.8020477815699658, 0.7662116040955631, 0.6296928327645052, 0.6160409556313993, 0.36006825938566556, 0.735494795221843, 0.7184300341296928, 0.5477815699658704, 0.5136518771331058, 0.7610921501706484, 0.6843003412969284, 0.6757679180887372], \"y\": [0.8421052631578951, 0.5710526315789473, 0.560526315789474, 0.8789473684210525, 0.5815789473684214, 0.8342105263157893, 0.8842105263157896, 0.797368421052632, 1.0, 0.7447368421052629, 0.8078947368421052, 0.8131578947368419, 0.7157894736842105, 0.9789473684210526, 0.8815789473684212, 0.6842105263157898, 0.8605263157894738, 0.736842105263158, 0.831578947368421, 0.6868421052631581, 0.797368421052632, 0.5, 0.7052631578947373, 0.47894736842105257, 0.6499999999999999, 0.5315789473684216, 0.6210526315789475, 0.5973684210526318, 0.7473684210526317, 0.7868421052631578, 0.7105263157894739, 0.6710526315789473, 0.6973684210526314, 0.7184210526315788, 0.6526315789473687, 0.6447368421052633, 0.5921052631578947, 0.5315789473684216, 0.5368421052631582, 0.8394736842105264, 0.6657894736842107, 0.6263157894736846, 0.7500000000000004, 0.5815789473684214, 0.5315789473684216, 0.836842105263158, 0.8815789473684212, 0.7552631578947371, 0.8078947368421052, 0.7657894736842104, 0.5315789473684216, 0.736842105263158, 0.7342105263157896, 0.7210526315789472, 0.7131578947368422, 0.6657894736842107, 0.8394736842105264, 0.594736842105263, 0.7078947368421056, 0.3526315789473684, 0.34210526315789513, 0.4236842105263161, 0.6947368421052631, 0.3526315789473684, 0.30000000000000027, 0.3526315789473684, 0.5473684210526315, 0.3526315789473684, 0.6078947368421055, 0.310526315789474, 0.331578947368421, 0.7447368421052629, 0.6473684210526316, 0.5157894736842108, 0.2447368421052638, 0.1657894736842107, 0.5263157894736841, 0.2131578947368422, 0.34210526315789513, 0.43947368421052646, 0.2552631578947371, 0.44473684210526354, 0.2763157894736845, 0.5315789473684216, 0.2131578947368422, 0.43157894736842106, 0.29736842105263195, 0.1631578947368424, 0.16052631578947407, 0.2763157894736845, 0.2763157894736845, 0.2552631578947371, 0.43684210526315814, 0.331578947368421, 0.155263157894737, 0.3789473684210529, 0.20526315789473726, 0.331578947368421, 0.3526315789473684, 0.331578947368421, 0.2763157894736845, 0.4131578947368424, 0.34473684210526345, 0.20789473684210558, 0.38947368421052664, 0.3657894736842109, 0.3210526315789477, 0.44473684210526354, 0.3131578947368423, 0.15263157894736867, 0.11315789473684257, 0.39210526315789496, 0.19210526315789478, 0.10000000000000053, 0.2763157894736845, 0.0, 0.20789473684210558, 0.3657894736842109, 0.45789473684210513, 0.2552631578947371, 0.1105263157894738, 0.13947368421052664, 0.3657894736842109, 0.5315789473684216, 0.2210526315789476, 0.2736842105263162, 0.3684210526315792, 0.20000000000000018, 0.3526315789473684, 0.26578947368421035, 0.4815789473684209, 0.4868421052631584, 0.4684210526315793, 0.43947368421052646, 0.38947368421052664, 0.4131578947368424, 0.3210526315789477, 0.3947368421052633, 0.6473684210526316, 0.47631578947368425, 0.5, 0.6131578947368421, 0.655263157894737, 0.6815789473684211, 0.3210526315789477, 0.560526315789474, 0.7500000000000004, 0.48421052631578965, 0.6026315789473689, 0.5394736842105265, 0.6499999999999999, 0.4631578947368422, 0.5473684210526315, 0.5789473684210531, 0.4078947368421053, 0.5631578947368423, 0.7394736842105263, 0.37368421052631584, 0.8710526315789475, 0.6447368421052633, 0.3500000000000001, 0.7000000000000002, 0.47894736842105257, 0.5078947368421058, 0.7236842105263159, 0.7105263157894739, 0.6368421052631579, 0.4710526315789476, 0.6710526315789473, 0.6236842105263158, 0.3078947368421052, 0.45789473684210513, 0.823684210526316, 0.7052631578947373, 0.6236842105263158, 0.5894736842105264, 0.5631578947368423, 0.8157894736842106], \"z\": [0.5613409415121255, 0.5506419400855921, 0.6469329529243938, 0.8573466476462198, 0.3259629101283881, 0.8359486447931527, 0.7218259629101285, 0.725392296718973, 0.5470756062767476, 0.5470756062767476, 0.8787446504992867, 0.7146932952924394, 0.7432239657631955, 0.6219686162624822, 0.9051355206847361, 0.7360912981455064, 0.7146932952924394, 0.6077032810271041, 1.0, 0.40442225392296727, 0.35805991440798857, 0.35092724679029963, 0.5399429386590585, 0.5256776034236805, 0.40442225392296727, 0.3937232524964337, 0.6540656205420827, 0.7182596291012839, 0.4543509272467904, 0.5399429386590585, 0.7182596291012839, 0.8823109843081313, 0.5078459343794579, 0.6825962910128388, 0.5827389443651926, 0.4579172610556348, 0.4293865905848788, 0.5898716119828816, 0.529243937232525, 0.3437945791726106, 0.36875891583452214, 0.5399429386590585, 0.5827389443651926, 0.2867332382310984, 0.43295292439372324, 0.5720399429386591, 0.5613409415121255, 0.5042796005706135, 0.557774607703281, 0.7004279600570614, 0.6219686162624822, 0.7039942938659058, 0.6504992867332383, 0.782453637660485, 0.557774607703281, 0.6005706134094152, 0.4935805991440799, 0.7075606276747504, 0.7182596291012839, 0.17261055634807418, 0.2867332382310984, 0.12268188302425106, 0.2510699001426534, 0.10128388017118403, 0.054921540656205386, 0.2853067047075606, 0.15977175463623397, 0.1654778887303852, 0.33666191155492153, 0.31383737517831667, 0.4222539229671898, 0.09415121255349498, 0.13837375178316688, 0.5042796005706135, 0.4336661911554922, 0.10699001426533525, 0.08131241084165478, 0.15834522111269614, 0.33666191155492153, 0.1319543509272468, 0.0, 0.3109843081312411, 0.2510699001426534, 0.16904422253922965, 0.17261055634807418, 0.12268188302425106, 0.15477888730385161, 0.20256776034236804, 0.2867332382310984, 0.24750356633380885, 0.1440798858773181, 0.12268188302425106, 0.15477888730385161, 0.008559201141226797, 0.047788873038516394, 0.4700427960057062, 0.24750356633380885, 0.10699001426533525, 0.27246790299572043, 0.09129814550641938, 0.30813124108416545, 0.20256776034236804, 0.11412268188302424, 0.09771754636233951, 0.2810271041369472, 0.02639087018544936, 0.1654778887303852, 0.14978601997146931, 0.02425106990014264, 0.2867332382310984, 0.20256776034236804, 0.033523537803138354, 0.23466476462196864, 0.11126961483594863, 0.07631954350927247, 0.09201141226818829, 0.15477888730385161, 0.047788873038516394, 0.06704707560627673, 0.20399429386590587, 0.24750356633380885, 0.13338088445078458, 0.062054208273894434, 0.07275320970042795, 0.07275320970042795, 0.07132667617689017, 0.052781740370898694, 0.1340941512125535, 0.0456490727532097, 0.21540656205420824, 0.2510699001426534, 0.17974322396576317, 0.20114122681883026, 0.22967189728958629, 0.2653352353780314, 0.297432239657632, 0.3152639087018545, 0.16904422253922965, 0.21540656205420824, 0.2225392296718973, 0.22967189728958629, 0.35805991440798857, 0.17261055634807418, 0.1940085592011412, 0.4115549215406562, 0.3937232524964337, 0.09771754636233951, 0.24750356633380885, 0.2653352353780314, 0.1940085592011412, 0.15834522111269614, 0.1440798858773181, 0.1048502139800285, 0.2831669044222539, 0.25820256776034234, 0.318830242510699, 0.1440798858773181, 0.4293865905848788, 0.27246790299572043, 0.24393723252496433, 0.17261055634807418, 0.2867332382310984, 0.20827389443651925, 0.2831669044222539, 0.2403708987161198, 0.17261055634807418, 0.297432239657632, 0.29029957203994294, 0.33666191155492153, 0.2510699001426534, 0.1654778887303852, 0.1369472182596291, 0.27246790299572043, 0.3295292439372326, 0.33666191155492153, 0.3972895863052782, 0.40085592011412274, 0.20114122681883026]}],\n",
              "                        {\"scene\": {\"xaxis\": {\"title\": {\"text\": \"Intensidade de cor\"}}, \"yaxis\": {\"title\": {\"text\": \"\\u00c1lcool\"}}, \"zaxis\": {\"title\": {\"text\": \"Proline\"}}}, \"template\": {\"data\": {\"bar\": [{\"error_x\": {\"color\": \"#2a3f5f\"}, \"error_y\": {\"color\": \"#2a3f5f\"}, \"marker\": {\"line\": {\"color\": \"#E5ECF6\", \"width\": 0.5}}, \"type\": \"bar\"}], \"barpolar\": [{\"marker\": {\"line\": {\"color\": \"#E5ECF6\", \"width\": 0.5}}, \"type\": \"barpolar\"}], \"carpet\": [{\"aaxis\": {\"endlinecolor\": \"#2a3f5f\", \"gridcolor\": \"white\", \"linecolor\": \"white\", \"minorgridcolor\": \"white\", \"startlinecolor\": \"#2a3f5f\"}, \"baxis\": {\"endlinecolor\": \"#2a3f5f\", \"gridcolor\": \"white\", \"linecolor\": \"white\", \"minorgridcolor\": \"white\", \"startlinecolor\": \"#2a3f5f\"}, \"type\": \"carpet\"}], \"choropleth\": [{\"colorbar\": {\"outlinewidth\": 0, \"ticks\": \"\"}, \"type\": \"choropleth\"}], \"contour\": [{\"colorbar\": {\"outlinewidth\": 0, \"ticks\": \"\"}, \"colorscale\": [[0.0, \"#0d0887\"], [0.1111111111111111, \"#46039f\"], [0.2222222222222222, \"#7201a8\"], [0.3333333333333333, \"#9c179e\"], [0.4444444444444444, \"#bd3786\"], [0.5555555555555556, \"#d8576b\"], [0.6666666666666666, \"#ed7953\"], [0.7777777777777778, \"#fb9f3a\"], [0.8888888888888888, \"#fdca26\"], [1.0, \"#f0f921\"]], \"type\": \"contour\"}], \"contourcarpet\": [{\"colorbar\": {\"outlinewidth\": 0, \"ticks\": \"\"}, \"type\": \"contourcarpet\"}], \"heatmap\": [{\"colorbar\": {\"outlinewidth\": 0, \"ticks\": \"\"}, \"colorscale\": [[0.0, \"#0d0887\"], [0.1111111111111111, \"#46039f\"], [0.2222222222222222, \"#7201a8\"], [0.3333333333333333, \"#9c179e\"], [0.4444444444444444, \"#bd3786\"], [0.5555555555555556, \"#d8576b\"], [0.6666666666666666, \"#ed7953\"], [0.7777777777777778, \"#fb9f3a\"], [0.8888888888888888, \"#fdca26\"], [1.0, \"#f0f921\"]], \"type\": \"heatmap\"}], \"heatmapgl\": [{\"colorbar\": {\"outlinewidth\": 0, \"ticks\": \"\"}, \"colorscale\": [[0.0, \"#0d0887\"], [0.1111111111111111, \"#46039f\"], [0.2222222222222222, \"#7201a8\"], [0.3333333333333333, \"#9c179e\"], [0.4444444444444444, \"#bd3786\"], [0.5555555555555556, \"#d8576b\"], [0.6666666666666666, \"#ed7953\"], [0.7777777777777778, \"#fb9f3a\"], [0.8888888888888888, \"#fdca26\"], [1.0, \"#f0f921\"]], \"type\": \"heatmapgl\"}], \"histogram\": [{\"marker\": {\"colorbar\": {\"outlinewidth\": 0, \"ticks\": \"\"}}, \"type\": \"histogram\"}], \"histogram2d\": [{\"colorbar\": {\"outlinewidth\": 0, \"ticks\": \"\"}, \"colorscale\": [[0.0, \"#0d0887\"], [0.1111111111111111, \"#46039f\"], [0.2222222222222222, \"#7201a8\"], [0.3333333333333333, \"#9c179e\"], [0.4444444444444444, \"#bd3786\"], [0.5555555555555556, \"#d8576b\"], [0.6666666666666666, \"#ed7953\"], [0.7777777777777778, \"#fb9f3a\"], [0.8888888888888888, \"#fdca26\"], [1.0, \"#f0f921\"]], \"type\": \"histogram2d\"}], \"histogram2dcontour\": [{\"colorbar\": {\"outlinewidth\": 0, \"ticks\": \"\"}, \"colorscale\": [[0.0, \"#0d0887\"], [0.1111111111111111, \"#46039f\"], [0.2222222222222222, \"#7201a8\"], [0.3333333333333333, \"#9c179e\"], [0.4444444444444444, \"#bd3786\"], [0.5555555555555556, \"#d8576b\"], [0.6666666666666666, \"#ed7953\"], [0.7777777777777778, \"#fb9f3a\"], [0.8888888888888888, \"#fdca26\"], [1.0, \"#f0f921\"]], \"type\": \"histogram2dcontour\"}], \"mesh3d\": [{\"colorbar\": {\"outlinewidth\": 0, \"ticks\": \"\"}, \"type\": \"mesh3d\"}], \"parcoords\": [{\"line\": {\"colorbar\": {\"outlinewidth\": 0, \"ticks\": \"\"}}, \"type\": \"parcoords\"}], \"scatter\": [{\"marker\": {\"colorbar\": {\"outlinewidth\": 0, \"ticks\": \"\"}}, \"type\": \"scatter\"}], \"scatter3d\": [{\"line\": {\"colorbar\": {\"outlinewidth\": 0, \"ticks\": \"\"}}, \"marker\": {\"colorbar\": {\"outlinewidth\": 0, \"ticks\": \"\"}}, \"type\": \"scatter3d\"}], \"scattercarpet\": [{\"marker\": {\"colorbar\": {\"outlinewidth\": 0, \"ticks\": \"\"}}, \"type\": \"scattercarpet\"}], \"scattergeo\": [{\"marker\": {\"colorbar\": {\"outlinewidth\": 0, \"ticks\": \"\"}}, \"type\": \"scattergeo\"}], \"scattergl\": [{\"marker\": {\"colorbar\": {\"outlinewidth\": 0, \"ticks\": \"\"}}, \"type\": \"scattergl\"}], \"scattermapbox\": [{\"marker\": {\"colorbar\": {\"outlinewidth\": 0, \"ticks\": \"\"}}, \"type\": \"scattermapbox\"}], \"scatterpolar\": [{\"marker\": {\"colorbar\": {\"outlinewidth\": 0, \"ticks\": \"\"}}, \"type\": \"scatterpolar\"}], \"scatterpolargl\": [{\"marker\": {\"colorbar\": {\"outlinewidth\": 0, \"ticks\": \"\"}}, \"type\": \"scatterpolargl\"}], \"scatterternary\": [{\"marker\": {\"colorbar\": {\"outlinewidth\": 0, \"ticks\": \"\"}}, \"type\": \"scatterternary\"}], \"surface\": [{\"colorbar\": {\"outlinewidth\": 0, \"ticks\": \"\"}, \"colorscale\": [[0.0, \"#0d0887\"], [0.1111111111111111, \"#46039f\"], [0.2222222222222222, \"#7201a8\"], [0.3333333333333333, \"#9c179e\"], [0.4444444444444444, \"#bd3786\"], [0.5555555555555556, \"#d8576b\"], [0.6666666666666666, \"#ed7953\"], [0.7777777777777778, \"#fb9f3a\"], [0.8888888888888888, \"#fdca26\"], [1.0, \"#f0f921\"]], \"type\": \"surface\"}], \"table\": [{\"cells\": {\"fill\": {\"color\": \"#EBF0F8\"}, \"line\": {\"color\": \"white\"}}, \"header\": {\"fill\": {\"color\": \"#C8D4E3\"}, \"line\": {\"color\": \"white\"}}, \"type\": \"table\"}]}, \"layout\": {\"annotationdefaults\": {\"arrowcolor\": \"#2a3f5f\", \"arrowhead\": 0, \"arrowwidth\": 1}, \"colorscale\": {\"diverging\": [[0, \"#8e0152\"], [0.1, \"#c51b7d\"], [0.2, \"#de77ae\"], [0.3, \"#f1b6da\"], [0.4, \"#fde0ef\"], [0.5, \"#f7f7f7\"], [0.6, \"#e6f5d0\"], [0.7, \"#b8e186\"], [0.8, \"#7fbc41\"], [0.9, \"#4d9221\"], [1, \"#276419\"]], \"sequential\": [[0.0, \"#0d0887\"], [0.1111111111111111, \"#46039f\"], [0.2222222222222222, \"#7201a8\"], [0.3333333333333333, \"#9c179e\"], [0.4444444444444444, \"#bd3786\"], [0.5555555555555556, \"#d8576b\"], [0.6666666666666666, \"#ed7953\"], [0.7777777777777778, \"#fb9f3a\"], [0.8888888888888888, \"#fdca26\"], [1.0, \"#f0f921\"]], \"sequentialminus\": [[0.0, \"#0d0887\"], [0.1111111111111111, \"#46039f\"], [0.2222222222222222, \"#7201a8\"], [0.3333333333333333, \"#9c179e\"], [0.4444444444444444, \"#bd3786\"], [0.5555555555555556, \"#d8576b\"], [0.6666666666666666, \"#ed7953\"], [0.7777777777777778, \"#fb9f3a\"], [0.8888888888888888, \"#fdca26\"], [1.0, \"#f0f921\"]]}, \"colorway\": [\"#636efa\", \"#EF553B\", \"#00cc96\", \"#ab63fa\", \"#FFA15A\", \"#19d3f3\", \"#FF6692\", \"#B6E880\", \"#FF97FF\", \"#FECB52\"], \"font\": {\"color\": \"#2a3f5f\"}, \"geo\": {\"bgcolor\": \"white\", \"lakecolor\": \"white\", \"landcolor\": \"#E5ECF6\", \"showlakes\": true, \"showland\": true, \"subunitcolor\": \"white\"}, \"hoverlabel\": {\"align\": \"left\"}, \"hovermode\": \"closest\", \"mapbox\": {\"style\": \"light\"}, \"paper_bgcolor\": \"white\", \"plot_bgcolor\": \"#E5ECF6\", \"polar\": {\"angularaxis\": {\"gridcolor\": \"white\", \"linecolor\": \"white\", \"ticks\": \"\"}, \"bgcolor\": \"#E5ECF6\", \"radialaxis\": {\"gridcolor\": \"white\", \"linecolor\": \"white\", \"ticks\": \"\"}}, \"scene\": {\"xaxis\": {\"backgroundcolor\": \"#E5ECF6\", \"gridcolor\": \"white\", \"gridwidth\": 2, \"linecolor\": \"white\", \"showbackground\": true, \"ticks\": \"\", \"zerolinecolor\": \"white\"}, \"yaxis\": {\"backgroundcolor\": \"#E5ECF6\", \"gridcolor\": \"white\", \"gridwidth\": 2, \"linecolor\": \"white\", \"showbackground\": true, \"ticks\": \"\", \"zerolinecolor\": \"white\"}, \"zaxis\": {\"backgroundcolor\": \"#E5ECF6\", \"gridcolor\": \"white\", \"gridwidth\": 2, \"linecolor\": \"white\", \"showbackground\": true, \"ticks\": \"\", \"zerolinecolor\": \"white\"}}, \"shapedefaults\": {\"line\": {\"color\": \"#2a3f5f\"}}, \"ternary\": {\"aaxis\": {\"gridcolor\": \"white\", \"linecolor\": \"white\", \"ticks\": \"\"}, \"baxis\": {\"gridcolor\": \"white\", \"linecolor\": \"white\", \"ticks\": \"\"}, \"bgcolor\": \"#E5ECF6\", \"caxis\": {\"gridcolor\": \"white\", \"linecolor\": \"white\", \"ticks\": \"\"}}, \"title\": {\"x\": 0.05}, \"xaxis\": {\"automargin\": true, \"gridcolor\": \"white\", \"linecolor\": \"white\", \"ticks\": \"\", \"zerolinecolor\": \"white\", \"zerolinewidth\": 2}, \"yaxis\": {\"automargin\": true, \"gridcolor\": \"white\", \"linecolor\": \"white\", \"ticks\": \"\", \"zerolinecolor\": \"white\", \"zerolinewidth\": 2}}}},\n",
              "                        {\"responsive\": true}\n",
              "                    ).then(function(){\n",
              "                            \n",
              "var gd = document.getElementById('5f935e34-df7d-4fd3-8a8b-ae9ccd4719dd');\n",
              "var x = new MutationObserver(function (mutations, observer) {{\n",
              "        var display = window.getComputedStyle(gd).display;\n",
              "        if (!display || display === 'none') {{\n",
              "            console.log([gd, 'removed!']);\n",
              "            Plotly.purge(gd);\n",
              "            observer.disconnect();\n",
              "        }}\n",
              "}});\n",
              "\n",
              "// Listen for the removal of the full notebook cells\n",
              "var notebookContainer = gd.closest('#notebook-container');\n",
              "if (notebookContainer) {{\n",
              "    x.observe(notebookContainer, {childList: true});\n",
              "}}\n",
              "\n",
              "// Listen for the clearing of the current output cell\n",
              "var outputEl = gd.closest('.output');\n",
              "if (outputEl) {{\n",
              "    x.observe(outputEl, {childList: true});\n",
              "}}\n",
              "\n",
              "                        })\n",
              "                };\n",
              "                \n",
              "            </script>\n",
              "        </div>\n",
              "</body>\n",
              "</html>"
            ]
          },
          "metadata": {}
        }
      ]
    },
    {
      "cell_type": "code",
      "metadata": {
        "colab": {
          "base_uri": "https://localhost:8080/",
          "height": 142
        },
        "id": "lL1MMRTgTx2z",
        "outputId": "c666ebdb-a46c-4cc7-800a-260bd0337220"
      },
      "source": [
        "# inserindo centro dos clusteres\n",
        "\n",
        "centros = pd.DataFrame(agrupador.cluster_centers_)\n",
        "centros.columns = colunas\n",
        "centros.head()"
      ],
      "execution_count": 32,
      "outputs": [
        {
          "output_type": "execute_result",
          "data": {
            "text/html": [
              "<div>\n",
              "<style scoped>\n",
              "    .dataframe tbody tr th:only-of-type {\n",
              "        vertical-align: middle;\n",
              "    }\n",
              "\n",
              "    .dataframe tbody tr th {\n",
              "        vertical-align: top;\n",
              "    }\n",
              "\n",
              "    .dataframe thead th {\n",
              "        text-align: right;\n",
              "    }\n",
              "</style>\n",
              "<table border=\"1\" class=\"dataframe\">\n",
              "  <thead>\n",
              "    <tr style=\"text-align: right;\">\n",
              "      <th></th>\n",
              "      <th>Alcool</th>\n",
              "      <th>Malic_Acid</th>\n",
              "      <th>Po</th>\n",
              "      <th>Alcalinidade_po</th>\n",
              "      <th>Magnesio</th>\n",
              "      <th>Total_Phenols</th>\n",
              "      <th>Flavanoids</th>\n",
              "      <th>Nonflavanoid_Phenols</th>\n",
              "      <th>Proanthocyanins</th>\n",
              "      <th>Intensidade_de_cor</th>\n",
              "      <th>Hue</th>\n",
              "      <th>OD280</th>\n",
              "      <th>Proline</th>\n",
              "      <th>Customer_Segment</th>\n",
              "    </tr>\n",
              "  </thead>\n",
              "  <tbody>\n",
              "    <tr>\n",
              "      <th>0</th>\n",
              "      <td>0.711096</td>\n",
              "      <td>0.250000</td>\n",
              "      <td>0.587166</td>\n",
              "      <td>0.342955</td>\n",
              "      <td>0.400906</td>\n",
              "      <td>0.644080</td>\n",
              "      <td>0.557138</td>\n",
              "      <td>0.299371</td>\n",
              "      <td>0.470137</td>\n",
              "      <td>0.359386</td>\n",
              "      <td>0.476558</td>\n",
              "      <td>0.693590</td>\n",
              "      <td>0.595958</td>\n",
              "      <td>0.008333</td>\n",
              "    </tr>\n",
              "    <tr>\n",
              "      <th>1</th>\n",
              "      <td>0.558324</td>\n",
              "      <td>0.514721</td>\n",
              "      <td>0.574703</td>\n",
              "      <td>0.558700</td>\n",
              "      <td>0.315439</td>\n",
              "      <td>0.240746</td>\n",
              "      <td>0.096616</td>\n",
              "      <td>0.605314</td>\n",
              "      <td>0.237559</td>\n",
              "      <td>0.517343</td>\n",
              "      <td>0.167413</td>\n",
              "      <td>0.153921</td>\n",
              "      <td>0.249323</td>\n",
              "      <td>0.989796</td>\n",
              "    </tr>\n",
              "    <tr>\n",
              "      <th>2</th>\n",
              "      <td>0.322960</td>\n",
              "      <td>0.230939</td>\n",
              "      <td>0.469813</td>\n",
              "      <td>0.487823</td>\n",
              "      <td>0.261342</td>\n",
              "      <td>0.438831</td>\n",
              "      <td>0.366294</td>\n",
              "      <td>0.438337</td>\n",
              "      <td>0.383486</td>\n",
              "      <td>0.151704</td>\n",
              "      <td>0.468081</td>\n",
              "      <td>0.555396</td>\n",
              "      <td>0.167494</td>\n",
              "      <td>0.500000</td>\n",
              "    </tr>\n",
              "  </tbody>\n",
              "</table>\n",
              "</div>"
            ],
            "text/plain": [
              "     Alcool  Malic_Acid        Po  ...     OD280   Proline  Customer_Segment\n",
              "0  0.711096    0.250000  0.587166  ...  0.693590  0.595958          0.008333\n",
              "1  0.558324    0.514721  0.574703  ...  0.153921  0.249323          0.989796\n",
              "2  0.322960    0.230939  0.469813  ...  0.555396  0.167494          0.500000\n",
              "\n",
              "[3 rows x 14 columns]"
            ]
          },
          "metadata": {},
          "execution_count": 32
        }
      ]
    },
    {
      "cell_type": "code",
      "metadata": {
        "colab": {
          "base_uri": "https://localhost:8080/",
          "height": 542
        },
        "id": "cQg3XGjoUH-x",
        "outputId": "c3c02d3c-9772-4550-c46c-32ca46359c0e"
      },
      "source": [
        "fig.add_trace(go.Scatter3d(x = centros['Intensidade_de_cor'],\n",
        "                           y = centros['Alcool'],\n",
        "                           z = centros['Proline'],\n",
        "                           mode = 'markers',\n",
        "                           marker = dict(color = 'red'),\n",
        "                           text = [0, 1, 2]))\n",
        "fig.show()"
      ],
      "execution_count": 33,
      "outputs": [
        {
          "output_type": "display_data",
          "data": {
            "text/html": [
              "<html>\n",
              "<head><meta charset=\"utf-8\" /></head>\n",
              "<body>\n",
              "    <div>\n",
              "            <script src=\"https://cdnjs.cloudflare.com/ajax/libs/mathjax/2.7.5/MathJax.js?config=TeX-AMS-MML_SVG\"></script><script type=\"text/javascript\">if (window.MathJax) {MathJax.Hub.Config({SVG: {font: \"STIX-Web\"}});}</script>\n",
              "                <script type=\"text/javascript\">window.PlotlyConfig = {MathJaxConfig: 'local'};</script>\n",
              "        <script src=\"https://cdn.plot.ly/plotly-latest.min.js\"></script>    \n",
              "            <div id=\"6145987d-12d7-421f-9bcf-076a1fd657f5\" class=\"plotly-graph-div\" style=\"height:525px; width:100%;\"></div>\n",
              "            <script type=\"text/javascript\">\n",
              "                \n",
              "                    window.PLOTLYENV=window.PLOTLYENV || {};\n",
              "                    \n",
              "                if (document.getElementById(\"6145987d-12d7-421f-9bcf-076a1fd657f5\")) {\n",
              "                    Plotly.newPlot(\n",
              "                        '6145987d-12d7-421f-9bcf-076a1fd657f5',\n",
              "                        [{\"marker\": {\"color\": [0.0, 0.0, 0.0, 0.0, 0.0, 0.0, 0.0, 0.0, 0.0, 0.0, 0.0, 0.0, 0.0, 0.0, 0.0, 0.0, 0.0, 0.0, 0.0, 0.0, 0.0, 0.0, 0.0, 0.0, 0.0, 0.0, 0.0, 0.0, 0.0, 0.0, 0.0, 0.0, 0.0, 0.0, 0.0, 0.0, 0.0, 0.0, 0.0, 0.0, 0.0, 0.0, 0.0, 0.0, 0.0, 0.0, 0.0, 0.0, 0.0, 0.0, 0.0, 0.0, 0.0, 0.0, 0.0, 0.0, 0.0, 0.0, 0.0, 2.0, 2.0, 2.0, 2.0, 2.0, 2.0, 2.0, 2.0, 2.0, 2.0, 2.0, 2.0, 2.0, 2.0, 0.0, 2.0, 2.0, 2.0, 2.0, 2.0, 2.0, 2.0, 2.0, 2.0, 1.0, 2.0, 2.0, 2.0, 2.0, 2.0, 2.0, 2.0, 2.0, 2.0, 2.0, 2.0, 2.0, 2.0, 2.0, 2.0, 2.0, 2.0, 2.0, 2.0, 2.0, 2.0, 2.0, 2.0, 2.0, 2.0, 2.0, 2.0, 2.0, 2.0, 2.0, 2.0, 2.0, 2.0, 2.0, 2.0, 2.0, 2.0, 2.0, 2.0, 2.0, 2.0, 2.0, 2.0, 2.0, 2.0, 2.0, 1.0, 1.0, 1.0, 1.0, 1.0, 1.0, 1.0, 1.0, 1.0, 1.0, 1.0, 1.0, 1.0, 1.0, 1.0, 1.0, 1.0, 1.0, 1.0, 1.0, 1.0, 1.0, 1.0, 1.0, 1.0, 1.0, 1.0, 1.0, 1.0, 1.0, 1.0, 1.0, 1.0, 1.0, 1.0, 1.0, 1.0, 1.0, 1.0, 1.0, 1.0, 1.0, 1.0, 1.0, 1.0, 1.0, 1.0, 1.0]}, \"mode\": \"markers\", \"text\": [0.0, 0.0, 0.0, 0.0, 0.0, 0.0, 0.0, 0.0, 0.0, 0.0, 0.0, 0.0, 0.0, 0.0, 0.0, 0.0, 0.0, 0.0, 0.0, 0.0, 0.0, 0.0, 0.0, 0.0, 0.0, 0.0, 0.0, 0.0, 0.0, 0.0, 0.0, 0.0, 0.0, 0.0, 0.0, 0.0, 0.0, 0.0, 0.0, 0.0, 0.0, 0.0, 0.0, 0.0, 0.0, 0.0, 0.0, 0.0, 0.0, 0.0, 0.0, 0.0, 0.0, 0.0, 0.0, 0.0, 0.0, 0.0, 0.0, 2.0, 2.0, 2.0, 2.0, 2.0, 2.0, 2.0, 2.0, 2.0, 2.0, 2.0, 2.0, 2.0, 2.0, 0.0, 2.0, 2.0, 2.0, 2.0, 2.0, 2.0, 2.0, 2.0, 2.0, 1.0, 2.0, 2.0, 2.0, 2.0, 2.0, 2.0, 2.0, 2.0, 2.0, 2.0, 2.0, 2.0, 2.0, 2.0, 2.0, 2.0, 2.0, 2.0, 2.0, 2.0, 2.0, 2.0, 2.0, 2.0, 2.0, 2.0, 2.0, 2.0, 2.0, 2.0, 2.0, 2.0, 2.0, 2.0, 2.0, 2.0, 2.0, 2.0, 2.0, 2.0, 2.0, 2.0, 2.0, 2.0, 2.0, 2.0, 1.0, 1.0, 1.0, 1.0, 1.0, 1.0, 1.0, 1.0, 1.0, 1.0, 1.0, 1.0, 1.0, 1.0, 1.0, 1.0, 1.0, 1.0, 1.0, 1.0, 1.0, 1.0, 1.0, 1.0, 1.0, 1.0, 1.0, 1.0, 1.0, 1.0, 1.0, 1.0, 1.0, 1.0, 1.0, 1.0, 1.0, 1.0, 1.0, 1.0, 1.0, 1.0, 1.0, 1.0, 1.0, 1.0, 1.0, 1.0], \"type\": \"scatter3d\", \"x\": [0.3720136518771331, 0.26450511945392485, 0.3754266211604095, 0.5563139931740614, 0.2593856655290102, 0.4667235494880546, 0.3387372013651877, 0.3216723549488054, 0.33447098976109213, 0.5068259385665529, 0.3813993174061433, 0.31740614334470985, 0.3686006825938566, 0.3515358361774744, 0.5307167235494881, 0.5136518771331058, 0.41979522184300344, 0.4539249146757679, 0.6331058020477814, 0.325938566552901, 0.37286689419795227, 0.27474402730375425, 0.21501706484641633, 0.22610921501706485, 0.1911262798634812, 0.1962457337883959, 0.30034129692832756, 0.22781569965870305, 0.27474402730375425, 0.29180887372013653, 0.37713310580204773, 0.4795221843003413, 0.21843003412969278, 0.3515358361774744, 0.2491467576791809, 0.325938566552901, 0.2832764505119454, 0.2534129692832764, 0.20648464163822525, 0.325938566552901, 0.4138225255972696, 0.2559726962457338, 0.35409556313993173, 0.2627986348122867, 0.32081911262798635, 0.33788395904436863, 0.3088737201365188, 0.4112627986348123, 0.41979522184300344, 0.6501706484641638, 0.5051194539249146, 0.3686006825938566, 0.4923208191126279, 0.42832764505119447, 0.38993174061433444, 0.424061433447099, 0.4351535836177475, 0.40273037542662116, 0.4709897610921502, 0.057167235494880536, 0.1697952218430034, 0.3813993174061433, 0.21501706484641633, 0.2704778156996587, 0.1424914675767918, 0.2832764505119454, 0.3430034129692833, 0.2901023890784983, 0.16126279863481227, 0.13395904436860068, 0.15102389078498293, 0.17918088737201363, 0.2098976109215017, 0.1766211604095563, 0.16467576791808872, 0.21501706484641633, 0.2832764505119454, 0.11689419795221842, 0.18088737201365188, 0.1100682593856655, 0.10409556313993173, 0.22354948805460748, 0.07849829351535836, 0.30034129692832756, 0.15102389078498293, 0.1143344709897611, 0.09982935153583619, 0.11262798634812288, 0.1296928327645051, 0.03924914675767918, 0.09556313993174059, 0.1979522184300341, 0.15102389078498293, 0.07423208191126279, 0.16808873720136516, 0.11262798634812288, 0.10409556313993173, 0.13822525597269622, 0.27474402730375425, 0.08703071672354948, 0.17235494880546073, 0.09982935153583619, 0.1296928327645051, 0.06655290102389078, 0.14163822525597267, 0.12116040955631399, 0.18088737201365188, 0.17235494880546073, 0.12116040955631399, 0.11689419795221842, 0.13822525597269622, 0.06143344709897611, 0.21501706484641633, 0.15358361774744025, 0.13822525597269622, 0.052901023890784965, 0.057167235494880536, 0.06655290102389078, 0.18088737201365188, 0.0, 0.16808873720136516, 0.40273037542662116, 0.06825938566552903, 0.11262798634812288, 0.1296928327645051, 0.12627986348122863, 0.22696245733788392, 0.14675767918088736, 0.07167235494880547, 0.11262798634812288, 0.2406143344709897, 0.3515358361774744, 0.37713310580204773, 0.31740614334470985, 0.35580204778157, 0.4965870307167235, 0.21928327645051196, 0.31740614334470985, 0.37713310580204773, 0.31058020477815695, 0.2832764505119454, 0.3686006825938566, 0.26194539249146753, 0.2662116040955631, 0.5912969283276451, 0.23208191126279862, 0.3088737201365188, 0.5435153583617748, 0.6092150170648464, 0.6928327645051194, 0.6245733788395904, 0.8122866894197952, 0.4965870307167235, 0.78839590443686, 0.5392491467576791, 0.5648464163822525, 0.659556313993174, 0.5307167235494881, 0.9999999999999999, 0.893344709897611, 0.5435153583617748, 0.39249146757679176, 0.36689419795221845, 0.341296928327645, 0.7081911262798635, 0.45563139931740615, 0.8020477815699658, 0.7662116040955631, 0.6296928327645052, 0.6160409556313993, 0.36006825938566556, 0.735494795221843, 0.7184300341296928, 0.5477815699658704, 0.5136518771331058, 0.7610921501706484, 0.6843003412969284, 0.6757679180887372], \"y\": [0.8421052631578951, 0.5710526315789473, 0.560526315789474, 0.8789473684210525, 0.5815789473684214, 0.8342105263157893, 0.8842105263157896, 0.797368421052632, 1.0, 0.7447368421052629, 0.8078947368421052, 0.8131578947368419, 0.7157894736842105, 0.9789473684210526, 0.8815789473684212, 0.6842105263157898, 0.8605263157894738, 0.736842105263158, 0.831578947368421, 0.6868421052631581, 0.797368421052632, 0.5, 0.7052631578947373, 0.47894736842105257, 0.6499999999999999, 0.5315789473684216, 0.6210526315789475, 0.5973684210526318, 0.7473684210526317, 0.7868421052631578, 0.7105263157894739, 0.6710526315789473, 0.6973684210526314, 0.7184210526315788, 0.6526315789473687, 0.6447368421052633, 0.5921052631578947, 0.5315789473684216, 0.5368421052631582, 0.8394736842105264, 0.6657894736842107, 0.6263157894736846, 0.7500000000000004, 0.5815789473684214, 0.5315789473684216, 0.836842105263158, 0.8815789473684212, 0.7552631578947371, 0.8078947368421052, 0.7657894736842104, 0.5315789473684216, 0.736842105263158, 0.7342105263157896, 0.7210526315789472, 0.7131578947368422, 0.6657894736842107, 0.8394736842105264, 0.594736842105263, 0.7078947368421056, 0.3526315789473684, 0.34210526315789513, 0.4236842105263161, 0.6947368421052631, 0.3526315789473684, 0.30000000000000027, 0.3526315789473684, 0.5473684210526315, 0.3526315789473684, 0.6078947368421055, 0.310526315789474, 0.331578947368421, 0.7447368421052629, 0.6473684210526316, 0.5157894736842108, 0.2447368421052638, 0.1657894736842107, 0.5263157894736841, 0.2131578947368422, 0.34210526315789513, 0.43947368421052646, 0.2552631578947371, 0.44473684210526354, 0.2763157894736845, 0.5315789473684216, 0.2131578947368422, 0.43157894736842106, 0.29736842105263195, 0.1631578947368424, 0.16052631578947407, 0.2763157894736845, 0.2763157894736845, 0.2552631578947371, 0.43684210526315814, 0.331578947368421, 0.155263157894737, 0.3789473684210529, 0.20526315789473726, 0.331578947368421, 0.3526315789473684, 0.331578947368421, 0.2763157894736845, 0.4131578947368424, 0.34473684210526345, 0.20789473684210558, 0.38947368421052664, 0.3657894736842109, 0.3210526315789477, 0.44473684210526354, 0.3131578947368423, 0.15263157894736867, 0.11315789473684257, 0.39210526315789496, 0.19210526315789478, 0.10000000000000053, 0.2763157894736845, 0.0, 0.20789473684210558, 0.3657894736842109, 0.45789473684210513, 0.2552631578947371, 0.1105263157894738, 0.13947368421052664, 0.3657894736842109, 0.5315789473684216, 0.2210526315789476, 0.2736842105263162, 0.3684210526315792, 0.20000000000000018, 0.3526315789473684, 0.26578947368421035, 0.4815789473684209, 0.4868421052631584, 0.4684210526315793, 0.43947368421052646, 0.38947368421052664, 0.4131578947368424, 0.3210526315789477, 0.3947368421052633, 0.6473684210526316, 0.47631578947368425, 0.5, 0.6131578947368421, 0.655263157894737, 0.6815789473684211, 0.3210526315789477, 0.560526315789474, 0.7500000000000004, 0.48421052631578965, 0.6026315789473689, 0.5394736842105265, 0.6499999999999999, 0.4631578947368422, 0.5473684210526315, 0.5789473684210531, 0.4078947368421053, 0.5631578947368423, 0.7394736842105263, 0.37368421052631584, 0.8710526315789475, 0.6447368421052633, 0.3500000000000001, 0.7000000000000002, 0.47894736842105257, 0.5078947368421058, 0.7236842105263159, 0.7105263157894739, 0.6368421052631579, 0.4710526315789476, 0.6710526315789473, 0.6236842105263158, 0.3078947368421052, 0.45789473684210513, 0.823684210526316, 0.7052631578947373, 0.6236842105263158, 0.5894736842105264, 0.5631578947368423, 0.8157894736842106], \"z\": [0.5613409415121255, 0.5506419400855921, 0.6469329529243938, 0.8573466476462198, 0.3259629101283881, 0.8359486447931527, 0.7218259629101285, 0.725392296718973, 0.5470756062767476, 0.5470756062767476, 0.8787446504992867, 0.7146932952924394, 0.7432239657631955, 0.6219686162624822, 0.9051355206847361, 0.7360912981455064, 0.7146932952924394, 0.6077032810271041, 1.0, 0.40442225392296727, 0.35805991440798857, 0.35092724679029963, 0.5399429386590585, 0.5256776034236805, 0.40442225392296727, 0.3937232524964337, 0.6540656205420827, 0.7182596291012839, 0.4543509272467904, 0.5399429386590585, 0.7182596291012839, 0.8823109843081313, 0.5078459343794579, 0.6825962910128388, 0.5827389443651926, 0.4579172610556348, 0.4293865905848788, 0.5898716119828816, 0.529243937232525, 0.3437945791726106, 0.36875891583452214, 0.5399429386590585, 0.5827389443651926, 0.2867332382310984, 0.43295292439372324, 0.5720399429386591, 0.5613409415121255, 0.5042796005706135, 0.557774607703281, 0.7004279600570614, 0.6219686162624822, 0.7039942938659058, 0.6504992867332383, 0.782453637660485, 0.557774607703281, 0.6005706134094152, 0.4935805991440799, 0.7075606276747504, 0.7182596291012839, 0.17261055634807418, 0.2867332382310984, 0.12268188302425106, 0.2510699001426534, 0.10128388017118403, 0.054921540656205386, 0.2853067047075606, 0.15977175463623397, 0.1654778887303852, 0.33666191155492153, 0.31383737517831667, 0.4222539229671898, 0.09415121255349498, 0.13837375178316688, 0.5042796005706135, 0.4336661911554922, 0.10699001426533525, 0.08131241084165478, 0.15834522111269614, 0.33666191155492153, 0.1319543509272468, 0.0, 0.3109843081312411, 0.2510699001426534, 0.16904422253922965, 0.17261055634807418, 0.12268188302425106, 0.15477888730385161, 0.20256776034236804, 0.2867332382310984, 0.24750356633380885, 0.1440798858773181, 0.12268188302425106, 0.15477888730385161, 0.008559201141226797, 0.047788873038516394, 0.4700427960057062, 0.24750356633380885, 0.10699001426533525, 0.27246790299572043, 0.09129814550641938, 0.30813124108416545, 0.20256776034236804, 0.11412268188302424, 0.09771754636233951, 0.2810271041369472, 0.02639087018544936, 0.1654778887303852, 0.14978601997146931, 0.02425106990014264, 0.2867332382310984, 0.20256776034236804, 0.033523537803138354, 0.23466476462196864, 0.11126961483594863, 0.07631954350927247, 0.09201141226818829, 0.15477888730385161, 0.047788873038516394, 0.06704707560627673, 0.20399429386590587, 0.24750356633380885, 0.13338088445078458, 0.062054208273894434, 0.07275320970042795, 0.07275320970042795, 0.07132667617689017, 0.052781740370898694, 0.1340941512125535, 0.0456490727532097, 0.21540656205420824, 0.2510699001426534, 0.17974322396576317, 0.20114122681883026, 0.22967189728958629, 0.2653352353780314, 0.297432239657632, 0.3152639087018545, 0.16904422253922965, 0.21540656205420824, 0.2225392296718973, 0.22967189728958629, 0.35805991440798857, 0.17261055634807418, 0.1940085592011412, 0.4115549215406562, 0.3937232524964337, 0.09771754636233951, 0.24750356633380885, 0.2653352353780314, 0.1940085592011412, 0.15834522111269614, 0.1440798858773181, 0.1048502139800285, 0.2831669044222539, 0.25820256776034234, 0.318830242510699, 0.1440798858773181, 0.4293865905848788, 0.27246790299572043, 0.24393723252496433, 0.17261055634807418, 0.2867332382310984, 0.20827389443651925, 0.2831669044222539, 0.2403708987161198, 0.17261055634807418, 0.297432239657632, 0.29029957203994294, 0.33666191155492153, 0.2510699001426534, 0.1654778887303852, 0.1369472182596291, 0.27246790299572043, 0.3295292439372326, 0.33666191155492153, 0.3972895863052782, 0.40085592011412274, 0.20114122681883026]}, {\"marker\": {\"color\": \"red\"}, \"mode\": \"markers\", \"text\": [\"0\", \"1\", \"2\"], \"type\": \"scatter3d\", \"x\": [0.3593856655290102, 0.5173434544124818, 0.15170401147549095], \"y\": [0.7110964912280704, 0.5583243823845329, 0.32295957284515664], \"z\": [0.5959581550166431, 0.24932312439954585, 0.1674936426223408]}],\n",
              "                        {\"scene\": {\"xaxis\": {\"title\": {\"text\": \"Intensidade de cor\"}}, \"yaxis\": {\"title\": {\"text\": \"\\u00c1lcool\"}}, \"zaxis\": {\"title\": {\"text\": \"Proline\"}}}, \"template\": {\"data\": {\"bar\": [{\"error_x\": {\"color\": \"#2a3f5f\"}, \"error_y\": {\"color\": \"#2a3f5f\"}, \"marker\": {\"line\": {\"color\": \"#E5ECF6\", \"width\": 0.5}}, \"type\": \"bar\"}], \"barpolar\": [{\"marker\": {\"line\": {\"color\": \"#E5ECF6\", \"width\": 0.5}}, \"type\": \"barpolar\"}], \"carpet\": [{\"aaxis\": {\"endlinecolor\": \"#2a3f5f\", \"gridcolor\": \"white\", \"linecolor\": \"white\", \"minorgridcolor\": \"white\", \"startlinecolor\": \"#2a3f5f\"}, \"baxis\": {\"endlinecolor\": \"#2a3f5f\", \"gridcolor\": \"white\", \"linecolor\": \"white\", \"minorgridcolor\": \"white\", \"startlinecolor\": \"#2a3f5f\"}, \"type\": \"carpet\"}], \"choropleth\": [{\"colorbar\": {\"outlinewidth\": 0, \"ticks\": \"\"}, \"type\": \"choropleth\"}], \"contour\": [{\"colorbar\": {\"outlinewidth\": 0, \"ticks\": \"\"}, \"colorscale\": [[0.0, \"#0d0887\"], [0.1111111111111111, \"#46039f\"], [0.2222222222222222, \"#7201a8\"], [0.3333333333333333, \"#9c179e\"], [0.4444444444444444, \"#bd3786\"], [0.5555555555555556, \"#d8576b\"], [0.6666666666666666, \"#ed7953\"], [0.7777777777777778, \"#fb9f3a\"], [0.8888888888888888, \"#fdca26\"], [1.0, \"#f0f921\"]], \"type\": \"contour\"}], \"contourcarpet\": [{\"colorbar\": {\"outlinewidth\": 0, \"ticks\": \"\"}, \"type\": \"contourcarpet\"}], \"heatmap\": [{\"colorbar\": {\"outlinewidth\": 0, \"ticks\": \"\"}, \"colorscale\": [[0.0, \"#0d0887\"], [0.1111111111111111, \"#46039f\"], [0.2222222222222222, \"#7201a8\"], [0.3333333333333333, \"#9c179e\"], [0.4444444444444444, \"#bd3786\"], [0.5555555555555556, \"#d8576b\"], [0.6666666666666666, \"#ed7953\"], [0.7777777777777778, \"#fb9f3a\"], [0.8888888888888888, \"#fdca26\"], [1.0, \"#f0f921\"]], \"type\": \"heatmap\"}], \"heatmapgl\": [{\"colorbar\": {\"outlinewidth\": 0, \"ticks\": \"\"}, \"colorscale\": [[0.0, \"#0d0887\"], [0.1111111111111111, \"#46039f\"], [0.2222222222222222, \"#7201a8\"], [0.3333333333333333, \"#9c179e\"], [0.4444444444444444, \"#bd3786\"], [0.5555555555555556, \"#d8576b\"], [0.6666666666666666, \"#ed7953\"], [0.7777777777777778, \"#fb9f3a\"], [0.8888888888888888, \"#fdca26\"], [1.0, \"#f0f921\"]], \"type\": \"heatmapgl\"}], \"histogram\": [{\"marker\": {\"colorbar\": {\"outlinewidth\": 0, \"ticks\": \"\"}}, \"type\": \"histogram\"}], \"histogram2d\": [{\"colorbar\": {\"outlinewidth\": 0, \"ticks\": \"\"}, \"colorscale\": [[0.0, \"#0d0887\"], [0.1111111111111111, \"#46039f\"], [0.2222222222222222, \"#7201a8\"], [0.3333333333333333, \"#9c179e\"], [0.4444444444444444, \"#bd3786\"], [0.5555555555555556, \"#d8576b\"], [0.6666666666666666, \"#ed7953\"], [0.7777777777777778, \"#fb9f3a\"], [0.8888888888888888, \"#fdca26\"], [1.0, \"#f0f921\"]], \"type\": \"histogram2d\"}], \"histogram2dcontour\": [{\"colorbar\": {\"outlinewidth\": 0, \"ticks\": \"\"}, \"colorscale\": [[0.0, \"#0d0887\"], [0.1111111111111111, \"#46039f\"], [0.2222222222222222, \"#7201a8\"], [0.3333333333333333, \"#9c179e\"], [0.4444444444444444, \"#bd3786\"], [0.5555555555555556, \"#d8576b\"], [0.6666666666666666, \"#ed7953\"], [0.7777777777777778, \"#fb9f3a\"], [0.8888888888888888, \"#fdca26\"], [1.0, \"#f0f921\"]], \"type\": \"histogram2dcontour\"}], \"mesh3d\": [{\"colorbar\": {\"outlinewidth\": 0, \"ticks\": \"\"}, \"type\": \"mesh3d\"}], \"parcoords\": [{\"line\": {\"colorbar\": {\"outlinewidth\": 0, \"ticks\": \"\"}}, \"type\": \"parcoords\"}], \"scatter\": [{\"marker\": {\"colorbar\": {\"outlinewidth\": 0, \"ticks\": \"\"}}, \"type\": \"scatter\"}], \"scatter3d\": [{\"line\": {\"colorbar\": {\"outlinewidth\": 0, \"ticks\": \"\"}}, \"marker\": {\"colorbar\": {\"outlinewidth\": 0, \"ticks\": \"\"}}, \"type\": \"scatter3d\"}], \"scattercarpet\": [{\"marker\": {\"colorbar\": {\"outlinewidth\": 0, \"ticks\": \"\"}}, \"type\": \"scattercarpet\"}], \"scattergeo\": [{\"marker\": {\"colorbar\": {\"outlinewidth\": 0, \"ticks\": \"\"}}, \"type\": \"scattergeo\"}], \"scattergl\": [{\"marker\": {\"colorbar\": {\"outlinewidth\": 0, \"ticks\": \"\"}}, \"type\": \"scattergl\"}], \"scattermapbox\": [{\"marker\": {\"colorbar\": {\"outlinewidth\": 0, \"ticks\": \"\"}}, \"type\": \"scattermapbox\"}], \"scatterpolar\": [{\"marker\": {\"colorbar\": {\"outlinewidth\": 0, \"ticks\": \"\"}}, \"type\": \"scatterpolar\"}], \"scatterpolargl\": [{\"marker\": {\"colorbar\": {\"outlinewidth\": 0, \"ticks\": \"\"}}, \"type\": \"scatterpolargl\"}], \"scatterternary\": [{\"marker\": {\"colorbar\": {\"outlinewidth\": 0, \"ticks\": \"\"}}, \"type\": \"scatterternary\"}], \"surface\": [{\"colorbar\": {\"outlinewidth\": 0, \"ticks\": \"\"}, \"colorscale\": [[0.0, \"#0d0887\"], [0.1111111111111111, \"#46039f\"], [0.2222222222222222, \"#7201a8\"], [0.3333333333333333, \"#9c179e\"], [0.4444444444444444, \"#bd3786\"], [0.5555555555555556, \"#d8576b\"], [0.6666666666666666, \"#ed7953\"], [0.7777777777777778, \"#fb9f3a\"], [0.8888888888888888, \"#fdca26\"], [1.0, \"#f0f921\"]], \"type\": \"surface\"}], \"table\": [{\"cells\": {\"fill\": {\"color\": \"#EBF0F8\"}, \"line\": {\"color\": \"white\"}}, \"header\": {\"fill\": {\"color\": \"#C8D4E3\"}, \"line\": {\"color\": \"white\"}}, \"type\": \"table\"}]}, \"layout\": {\"annotationdefaults\": {\"arrowcolor\": \"#2a3f5f\", \"arrowhead\": 0, \"arrowwidth\": 1}, \"colorscale\": {\"diverging\": [[0, \"#8e0152\"], [0.1, \"#c51b7d\"], [0.2, \"#de77ae\"], [0.3, \"#f1b6da\"], [0.4, \"#fde0ef\"], [0.5, \"#f7f7f7\"], [0.6, \"#e6f5d0\"], [0.7, \"#b8e186\"], [0.8, \"#7fbc41\"], [0.9, \"#4d9221\"], [1, \"#276419\"]], \"sequential\": [[0.0, \"#0d0887\"], [0.1111111111111111, \"#46039f\"], [0.2222222222222222, \"#7201a8\"], [0.3333333333333333, \"#9c179e\"], [0.4444444444444444, \"#bd3786\"], [0.5555555555555556, \"#d8576b\"], [0.6666666666666666, \"#ed7953\"], [0.7777777777777778, \"#fb9f3a\"], [0.8888888888888888, \"#fdca26\"], [1.0, \"#f0f921\"]], \"sequentialminus\": [[0.0, \"#0d0887\"], [0.1111111111111111, \"#46039f\"], [0.2222222222222222, \"#7201a8\"], [0.3333333333333333, \"#9c179e\"], [0.4444444444444444, \"#bd3786\"], [0.5555555555555556, \"#d8576b\"], [0.6666666666666666, \"#ed7953\"], [0.7777777777777778, \"#fb9f3a\"], [0.8888888888888888, \"#fdca26\"], [1.0, \"#f0f921\"]]}, \"colorway\": [\"#636efa\", \"#EF553B\", \"#00cc96\", \"#ab63fa\", \"#FFA15A\", \"#19d3f3\", \"#FF6692\", \"#B6E880\", \"#FF97FF\", \"#FECB52\"], \"font\": {\"color\": \"#2a3f5f\"}, \"geo\": {\"bgcolor\": \"white\", \"lakecolor\": \"white\", \"landcolor\": \"#E5ECF6\", \"showlakes\": true, \"showland\": true, \"subunitcolor\": \"white\"}, \"hoverlabel\": {\"align\": \"left\"}, \"hovermode\": \"closest\", \"mapbox\": {\"style\": \"light\"}, \"paper_bgcolor\": \"white\", \"plot_bgcolor\": \"#E5ECF6\", \"polar\": {\"angularaxis\": {\"gridcolor\": \"white\", \"linecolor\": \"white\", \"ticks\": \"\"}, \"bgcolor\": \"#E5ECF6\", \"radialaxis\": {\"gridcolor\": \"white\", \"linecolor\": \"white\", \"ticks\": \"\"}}, \"scene\": {\"xaxis\": {\"backgroundcolor\": \"#E5ECF6\", \"gridcolor\": \"white\", \"gridwidth\": 2, \"linecolor\": \"white\", \"showbackground\": true, \"ticks\": \"\", \"zerolinecolor\": \"white\"}, \"yaxis\": {\"backgroundcolor\": \"#E5ECF6\", \"gridcolor\": \"white\", \"gridwidth\": 2, \"linecolor\": \"white\", \"showbackground\": true, \"ticks\": \"\", \"zerolinecolor\": \"white\"}, \"zaxis\": {\"backgroundcolor\": \"#E5ECF6\", \"gridcolor\": \"white\", \"gridwidth\": 2, \"linecolor\": \"white\", \"showbackground\": true, \"ticks\": \"\", \"zerolinecolor\": \"white\"}}, \"shapedefaults\": {\"line\": {\"color\": \"#2a3f5f\"}}, \"ternary\": {\"aaxis\": {\"gridcolor\": \"white\", \"linecolor\": \"white\", \"ticks\": \"\"}, \"baxis\": {\"gridcolor\": \"white\", \"linecolor\": \"white\", \"ticks\": \"\"}, \"bgcolor\": \"#E5ECF6\", \"caxis\": {\"gridcolor\": \"white\", \"linecolor\": \"white\", \"ticks\": \"\"}}, \"title\": {\"x\": 0.05}, \"xaxis\": {\"automargin\": true, \"gridcolor\": \"white\", \"linecolor\": \"white\", \"ticks\": \"\", \"zerolinecolor\": \"white\", \"zerolinewidth\": 2}, \"yaxis\": {\"automargin\": true, \"gridcolor\": \"white\", \"linecolor\": \"white\", \"ticks\": \"\", \"zerolinecolor\": \"white\", \"zerolinewidth\": 2}}}},\n",
              "                        {\"responsive\": true}\n",
              "                    ).then(function(){\n",
              "                            \n",
              "var gd = document.getElementById('6145987d-12d7-421f-9bcf-076a1fd657f5');\n",
              "var x = new MutationObserver(function (mutations, observer) {{\n",
              "        var display = window.getComputedStyle(gd).display;\n",
              "        if (!display || display === 'none') {{\n",
              "            console.log([gd, 'removed!']);\n",
              "            Plotly.purge(gd);\n",
              "            observer.disconnect();\n",
              "        }}\n",
              "}});\n",
              "\n",
              "// Listen for the removal of the full notebook cells\n",
              "var notebookContainer = gd.closest('#notebook-container');\n",
              "if (notebookContainer) {{\n",
              "    x.observe(notebookContainer, {childList: true});\n",
              "}}\n",
              "\n",
              "// Listen for the clearing of the current output cell\n",
              "var outputEl = gd.closest('.output');\n",
              "if (outputEl) {{\n",
              "    x.observe(outputEl, {childList: true});\n",
              "}}\n",
              "\n",
              "                        })\n",
              "                };\n",
              "                \n",
              "            </script>\n",
              "        </div>\n",
              "</body>\n",
              "</html>"
            ]
          },
          "metadata": {}
        }
      ]
    },
    {
      "cell_type": "code",
      "metadata": {
        "id": "Jdh2hkSsUyyL"
      },
      "source": [
        ""
      ],
      "execution_count": 33,
      "outputs": []
    },
    {
      "cell_type": "markdown",
      "metadata": {
        "id": "7WvziCouaCJC"
      },
      "source": [
        "DBSCAN"
      ]
    },
    {
      "cell_type": "code",
      "metadata": {
        "colab": {
          "base_uri": "https://localhost:8080/"
        },
        "id": "hvH_fL1AaDzo",
        "outputId": "8021a3f6-6d9d-4e02-9506-9004ab6cd68c"
      },
      "source": [
        "from sklearn.cluster import DBSCAN\n",
        "\n",
        "agrupador = DBSCAN(eps = 1.31, min_samples = 15,\n",
        "                   metric = 'manhattan')\n",
        "agrupador.fit(df)\n",
        "\n",
        "DBSCAN(algorithm = 'auto', eps = 1.31, leaf_size = 30,\n",
        "       metric = 'manhattan', metric_params = None, min_samples =15,\n",
        "       n_jobs = None, p = None)"
      ],
      "execution_count": 34,
      "outputs": [
        {
          "output_type": "execute_result",
          "data": {
            "text/plain": [
              "DBSCAN(algorithm='auto', eps=1.31, leaf_size=30, metric='manhattan',\n",
              "       metric_params=None, min_samples=15, n_jobs=None, p=None)"
            ]
          },
          "metadata": {},
          "execution_count": 34
        }
      ]
    },
    {
      "cell_type": "code",
      "metadata": {
        "colab": {
          "base_uri": "https://localhost:8080/"
        },
        "id": "zRJr7PjIamrp",
        "outputId": "0f59ca32-50da-4b92-9182-167aa3fa891f"
      },
      "source": [
        "agrupador.labels_"
      ],
      "execution_count": 35,
      "outputs": [
        {
          "output_type": "execute_result",
          "data": {
            "text/plain": [
              "array([ 0,  0,  0,  0, -1,  0,  0,  0,  0,  0,  0,  0,  0, -1,  0,  0,  0,\n",
              "        0,  0,  0,  0,  0,  0,  0,  0, -1,  0,  0,  0,  0,  0,  0,  0,  0,\n",
              "        0,  0,  0,  0,  0, -1,  0, -1,  0, -1,  0, -1,  0,  0,  0,  0, -1,\n",
              "        0,  0,  0,  0,  0,  0,  0,  0, -1, -1, -1, -1, -1, -1, -1, -1,  1,\n",
              "       -1, -1, -1, -1, -1, -1, -1, -1, -1, -1, -1, -1, -1,  1, -1, -1, -1,\n",
              "        1, -1, -1, -1, -1,  1,  1, -1, -1, -1, -1, -1, -1, -1, -1, -1,  1,\n",
              "       -1,  1,  1, -1,  1,  1,  1, -1, -1, -1, -1, -1, -1, -1,  1,  1, -1,\n",
              "        1, -1, -1, -1, -1, -1,  1, -1, -1, -1, -1, -1,  2, -1,  2, -1,  2,\n",
              "       -1, -1,  2, -1, -1,  2, -1, -1,  2,  2, -1,  2,  2,  2, -1, -1, -1,\n",
              "        2, -1,  2,  2, -1, -1, -1,  2,  2,  2,  2,  2, -1,  2,  2,  2, -1,\n",
              "        2,  2,  2,  2,  2,  2,  2,  2])"
            ]
          },
          "metadata": {},
          "execution_count": 35
        }
      ]
    },
    {
      "cell_type": "code",
      "metadata": {
        "colab": {
          "base_uri": "https://localhost:8080/"
        },
        "id": "iAC95--vasi-",
        "outputId": "b82232b5-72ef-4a15-c1c4-8d8202dfb07a"
      },
      "source": [
        "np.unique(agrupador.labels_)"
      ],
      "execution_count": 36,
      "outputs": [
        {
          "output_type": "execute_result",
          "data": {
            "text/plain": [
              "array([-1,  0,  1,  2])"
            ]
          },
          "metadata": {},
          "execution_count": 36
        }
      ]
    },
    {
      "cell_type": "code",
      "metadata": {
        "colab": {
          "base_uri": "https://localhost:8080/"
        },
        "id": "q4veVGukb3wZ",
        "outputId": "cc5efd33-4841-402a-e81c-001b35d1e70c"
      },
      "source": [
        "# variando os parâmetros do DBSCAN\n",
        "\n",
        "agrupador = DBSCAN(eps = 0.01, min_samples = 15,\n",
        "                   metric = 'manhattan')\n",
        "agrupador.fit(df)\n",
        "agrupador.labels_"
      ],
      "execution_count": 37,
      "outputs": [
        {
          "output_type": "execute_result",
          "data": {
            "text/plain": [
              "array([-1, -1, -1, -1, -1, -1, -1, -1, -1, -1, -1, -1, -1, -1, -1, -1, -1,\n",
              "       -1, -1, -1, -1, -1, -1, -1, -1, -1, -1, -1, -1, -1, -1, -1, -1, -1,\n",
              "       -1, -1, -1, -1, -1, -1, -1, -1, -1, -1, -1, -1, -1, -1, -1, -1, -1,\n",
              "       -1, -1, -1, -1, -1, -1, -1, -1, -1, -1, -1, -1, -1, -1, -1, -1, -1,\n",
              "       -1, -1, -1, -1, -1, -1, -1, -1, -1, -1, -1, -1, -1, -1, -1, -1, -1,\n",
              "       -1, -1, -1, -1, -1, -1, -1, -1, -1, -1, -1, -1, -1, -1, -1, -1, -1,\n",
              "       -1, -1, -1, -1, -1, -1, -1, -1, -1, -1, -1, -1, -1, -1, -1, -1, -1,\n",
              "       -1, -1, -1, -1, -1, -1, -1, -1, -1, -1, -1, -1, -1, -1, -1, -1, -1,\n",
              "       -1, -1, -1, -1, -1, -1, -1, -1, -1, -1, -1, -1, -1, -1, -1, -1, -1,\n",
              "       -1, -1, -1, -1, -1, -1, -1, -1, -1, -1, -1, -1, -1, -1, -1, -1, -1,\n",
              "       -1, -1, -1, -1, -1, -1, -1, -1])"
            ]
          },
          "metadata": {},
          "execution_count": 37
        }
      ]
    },
    {
      "cell_type": "markdown",
      "metadata": {
        "id": "kXcpi_tJeIvk"
      },
      "source": [
        "Todas as amostras foram consideradas como ruído. Pois o eps é pequeno demais (raio para formação dos clusters)."
      ]
    },
    {
      "cell_type": "code",
      "metadata": {
        "colab": {
          "base_uri": "https://localhost:8080/"
        },
        "id": "UZEgAvIld1Iv",
        "outputId": "95e86d3d-7496-41c0-e587-3c519ff911bb"
      },
      "source": [
        "agrupador = DBSCAN(eps = 10, min_samples = 15,\n",
        "                   metric = 'manhattan')\n",
        "agrupador.fit(df)\n",
        "agrupador.labels_"
      ],
      "execution_count": 38,
      "outputs": [
        {
          "output_type": "execute_result",
          "data": {
            "text/plain": [
              "array([0, 0, 0, 0, 0, 0, 0, 0, 0, 0, 0, 0, 0, 0, 0, 0, 0, 0, 0, 0, 0, 0,\n",
              "       0, 0, 0, 0, 0, 0, 0, 0, 0, 0, 0, 0, 0, 0, 0, 0, 0, 0, 0, 0, 0, 0,\n",
              "       0, 0, 0, 0, 0, 0, 0, 0, 0, 0, 0, 0, 0, 0, 0, 0, 0, 0, 0, 0, 0, 0,\n",
              "       0, 0, 0, 0, 0, 0, 0, 0, 0, 0, 0, 0, 0, 0, 0, 0, 0, 0, 0, 0, 0, 0,\n",
              "       0, 0, 0, 0, 0, 0, 0, 0, 0, 0, 0, 0, 0, 0, 0, 0, 0, 0, 0, 0, 0, 0,\n",
              "       0, 0, 0, 0, 0, 0, 0, 0, 0, 0, 0, 0, 0, 0, 0, 0, 0, 0, 0, 0, 0, 0,\n",
              "       0, 0, 0, 0, 0, 0, 0, 0, 0, 0, 0, 0, 0, 0, 0, 0, 0, 0, 0, 0, 0, 0,\n",
              "       0, 0, 0, 0, 0, 0, 0, 0, 0, 0, 0, 0, 0, 0, 0, 0, 0, 0, 0, 0, 0, 0,\n",
              "       0, 0])"
            ]
          },
          "metadata": {},
          "execution_count": 38
        }
      ]
    },
    {
      "cell_type": "markdown",
      "metadata": {
        "id": "UmE3LxI3es2S"
      },
      "source": [
        "Todas as amostras foram consideradas como um único cluster. Pois o eps é muito grande (raio de formação do cluster)."
      ]
    },
    {
      "cell_type": "code",
      "metadata": {
        "colab": {
          "base_uri": "https://localhost:8080/"
        },
        "id": "76lsQAREd-Z3",
        "outputId": "9829ddd1-e33a-457f-9c79-9f7511ddd0cd"
      },
      "source": [
        "agrupador = DBSCAN(eps = 1.5, min_samples = 30,\n",
        "                   metric = 'manhattan')\n",
        "agrupador.fit(df)\n",
        "agrupador.labels_"
      ],
      "execution_count": 39,
      "outputs": [
        {
          "output_type": "execute_result",
          "data": {
            "text/plain": [
              "array([ 0,  0,  0, -1,  0,  0,  0,  0,  0,  0,  0,  0,  0, -1, -1,  0,  0,\n",
              "        0,  0,  0,  0,  0,  0,  0,  0, -1,  0,  0,  0,  0,  0,  0,  0,  0,\n",
              "        0,  0,  0,  0,  0, -1,  0,  0,  0, -1,  0,  0,  0,  0,  0,  0, -1,\n",
              "        0,  0,  0,  0,  0,  0,  0,  0, -1, -1, -1, -1, -1, -1, -1, -1, -1,\n",
              "       -1, -1, -1, -1, -1, -1, -1, -1, -1, -1, -1, -1, -1, -1, -1, -1, -1,\n",
              "       -1, -1, -1, -1, -1, -1, -1, -1, -1, -1, -1, -1, -1, -1, -1, -1, -1,\n",
              "       -1, -1, -1, -1, -1, -1, -1, -1, -1, -1, -1, -1, -1, -1, -1, -1, -1,\n",
              "       -1, -1, -1, -1, -1, -1, -1, -1, -1, -1, -1, -1, -1, -1, -1, -1, -1,\n",
              "       -1, -1, -1, -1, -1, -1, -1, -1, -1, -1, -1, -1, -1, -1, -1, -1, -1,\n",
              "       -1, -1, -1, -1, -1, -1, -1, -1, -1, -1, -1, -1, -1, -1, -1, -1, -1,\n",
              "       -1, -1, -1, -1, -1, -1, -1, -1])"
            ]
          },
          "metadata": {},
          "execution_count": 39
        }
      ]
    },
    {
      "cell_type": "markdown",
      "metadata": {
        "id": "C-PUeXxFfIQd"
      },
      "source": [
        "As amostras foram consideradas como um único cluster ou ruído. Pois o número mínimo de formação de clusters é grande."
      ]
    },
    {
      "cell_type": "code",
      "metadata": {
        "colab": {
          "base_uri": "https://localhost:8080/"
        },
        "id": "da7PxC-KfJiM",
        "outputId": "f5ad9e06-0166-46e3-caea-2dfe799d135b"
      },
      "source": [
        "agrupador = DBSCAN(eps = 1.5, min_samples = 80,\n",
        "                   metric = 'manhattan')\n",
        "agrupador.fit(df)\n",
        "agrupador.labels_"
      ],
      "execution_count": 40,
      "outputs": [
        {
          "output_type": "execute_result",
          "data": {
            "text/plain": [
              "array([-1, -1, -1, -1, -1, -1, -1, -1, -1, -1, -1, -1, -1, -1, -1, -1, -1,\n",
              "       -1, -1, -1, -1, -1, -1, -1, -1, -1, -1, -1, -1, -1, -1, -1, -1, -1,\n",
              "       -1, -1, -1, -1, -1, -1, -1, -1, -1, -1, -1, -1, -1, -1, -1, -1, -1,\n",
              "       -1, -1, -1, -1, -1, -1, -1, -1, -1, -1, -1, -1, -1, -1, -1, -1, -1,\n",
              "       -1, -1, -1, -1, -1, -1, -1, -1, -1, -1, -1, -1, -1, -1, -1, -1, -1,\n",
              "       -1, -1, -1, -1, -1, -1, -1, -1, -1, -1, -1, -1, -1, -1, -1, -1, -1,\n",
              "       -1, -1, -1, -1, -1, -1, -1, -1, -1, -1, -1, -1, -1, -1, -1, -1, -1,\n",
              "       -1, -1, -1, -1, -1, -1, -1, -1, -1, -1, -1, -1, -1, -1, -1, -1, -1,\n",
              "       -1, -1, -1, -1, -1, -1, -1, -1, -1, -1, -1, -1, -1, -1, -1, -1, -1,\n",
              "       -1, -1, -1, -1, -1, -1, -1, -1, -1, -1, -1, -1, -1, -1, -1, -1, -1,\n",
              "       -1, -1, -1, -1, -1, -1, -1, -1])"
            ]
          },
          "metadata": {},
          "execution_count": 40
        }
      ]
    },
    {
      "cell_type": "markdown",
      "metadata": {
        "id": "leU3SoSBf0jU"
      },
      "source": [
        "As amostras foram consideradas como ruído. Pois o número mínimo de formação de clusters é muito grande."
      ]
    },
    {
      "cell_type": "code",
      "metadata": {
        "colab": {
          "base_uri": "https://localhost:8080/"
        },
        "id": "ExAphrPsfJfm",
        "outputId": "40d057e5-d181-4891-c55f-86e6963125dd"
      },
      "source": [
        "agrupador = DBSCAN(eps = 1.5, min_samples = 1,\n",
        "                   metric = 'manhattan')\n",
        "agrupador.fit(df)\n",
        "agrupador.labels_"
      ],
      "execution_count": 41,
      "outputs": [
        {
          "output_type": "execute_result",
          "data": {
            "text/plain": [
              "array([ 0,  0,  0,  0,  0,  0,  0,  0,  0,  0,  0,  0,  0,  0,  0,  0,  0,\n",
              "        0,  0,  0,  0,  0,  0,  0,  0,  0,  0,  0,  0,  0,  0,  0,  0,  0,\n",
              "        0,  0,  0,  0,  0,  0,  0,  0,  0,  0,  0,  0,  0,  0,  0,  0,  1,\n",
              "        0,  0,  0,  0,  0,  0,  0,  0,  2,  3,  3,  4,  4,  4,  4,  5,  4,\n",
              "        3,  6,  4,  7,  4,  8,  4,  4,  4,  4,  9,  4,  4,  4,  4,  4,  4,\n",
              "        4,  4,  4,  4,  4,  4,  4,  4,  4,  4, 10, 11,  4,  4,  4,  4,  4,\n",
              "        4,  4,  4,  4,  4,  4,  4,  4, 12,  4, 13,  4,  4, 14,  4,  4, 15,\n",
              "        4,  4, 16,  4, 17, 18,  4,  4,  4,  4,  4, 19, 19, 19, 19, 19, 19,\n",
              "       19, 19, 19, 19, 19, 19, 19, 19, 19, 19, 19, 19, 19, 19, 19, 19, 19,\n",
              "       19, 19, 19, 19, 19, 20, 20, 19, 19, 19, 19, 19, 19, 19, 19, 19, 19,\n",
              "       19, 19, 19, 19, 19, 19, 19, 19])"
            ]
          },
          "metadata": {},
          "execution_count": 41
        }
      ]
    },
    {
      "cell_type": "markdown",
      "metadata": {
        "id": "IWmh9tPOf01c"
      },
      "source": [
        "As amostras foram consideradas em um número exagerado de clusteres. Pois o número mínimo de formação de clusters é muito pequeno. Interessante perceber que não foram considerados ruídos: pois sem conexão com outros dados, a amostra por sí é um clusters quando o número mínimo é 1."
      ]
    },
    {
      "cell_type": "code",
      "metadata": {
        "colab": {
          "base_uri": "https://localhost:8080/"
        },
        "id": "MSNudT-dwiD_",
        "outputId": "665f1c15-0c75-4375-b74e-3bca8721e073"
      },
      "source": [
        "agrupador = DBSCAN(eps = 1.5, min_samples = 15,\n",
        "                   metric = 'manhattan')\n",
        "agrupador.fit(df)\n",
        "agrupador.labels_"
      ],
      "execution_count": 42,
      "outputs": [
        {
          "output_type": "execute_result",
          "data": {
            "text/plain": [
              "array([ 0,  0,  0,  0,  0,  0,  0,  0,  0,  0,  0,  0,  0,  0,  0,  0,  0,\n",
              "        0,  0,  0,  0,  0,  0,  0,  0, -1,  0,  0,  0,  0,  0,  0,  0,  0,\n",
              "        0,  0,  0,  0,  0,  0,  0,  0,  0,  0,  0,  0,  0,  0,  0,  0, -1,\n",
              "        0,  0,  0,  0,  0,  0,  0,  0, -1, -1, -1,  1,  1,  1,  1, -1,  1,\n",
              "       -1, -1, -1, -1,  1, -1, -1,  1,  1,  1, -1, -1,  1,  1,  1, -1,  1,\n",
              "        1,  1,  1,  1,  1,  1,  1,  1,  1,  1, -1, -1,  1,  1, -1,  1,  1,\n",
              "        1,  1,  1,  1,  1,  1,  1, -1, -1,  1, -1,  1,  1, -1,  1,  1, -1,\n",
              "        1,  1, -1,  1, -1, -1,  1,  1,  1,  1,  1, -1,  2,  2,  2,  2,  2,\n",
              "        2,  2,  2, -1,  2,  2,  2,  2,  2,  2,  2,  2,  2,  2,  2,  2, -1,\n",
              "        2,  2,  2,  2,  2, -1, -1,  2,  2,  2,  2,  2,  2,  2,  2,  2,  2,\n",
              "        2,  2,  2,  2,  2,  2,  2,  2])"
            ]
          },
          "metadata": {},
          "execution_count": 42
        }
      ]
    },
    {
      "cell_type": "code",
      "metadata": {
        "colab": {
          "base_uri": "https://localhost:8080/"
        },
        "id": "deM8zM6NfJdV",
        "outputId": "4be20d1d-1a59-4f82-9c9a-e257ae0fad66"
      },
      "source": [
        "agrupador = DBSCAN(eps = 1.5, min_samples = 15,\n",
        "                   metric = 'euclidean')\n",
        "agrupador.fit(df)\n",
        "agrupador.labels_"
      ],
      "execution_count": 43,
      "outputs": [
        {
          "output_type": "execute_result",
          "data": {
            "text/plain": [
              "array([0, 0, 0, 0, 0, 0, 0, 0, 0, 0, 0, 0, 0, 0, 0, 0, 0, 0, 0, 0, 0, 0,\n",
              "       0, 0, 0, 0, 0, 0, 0, 0, 0, 0, 0, 0, 0, 0, 0, 0, 0, 0, 0, 0, 0, 0,\n",
              "       0, 0, 0, 0, 0, 0, 0, 0, 0, 0, 0, 0, 0, 0, 0, 0, 0, 0, 0, 0, 0, 0,\n",
              "       0, 0, 0, 0, 0, 0, 0, 0, 0, 0, 0, 0, 0, 0, 0, 0, 0, 0, 0, 0, 0, 0,\n",
              "       0, 0, 0, 0, 0, 0, 0, 0, 0, 0, 0, 0, 0, 0, 0, 0, 0, 0, 0, 0, 0, 0,\n",
              "       0, 0, 0, 0, 0, 0, 0, 0, 0, 0, 0, 0, 0, 0, 0, 0, 0, 0, 0, 0, 0, 0,\n",
              "       0, 0, 0, 0, 0, 0, 0, 0, 0, 0, 0, 0, 0, 0, 0, 0, 0, 0, 0, 0, 0, 0,\n",
              "       0, 0, 0, 0, 0, 0, 0, 0, 0, 0, 0, 0, 0, 0, 0, 0, 0, 0, 0, 0, 0, 0,\n",
              "       0, 0])"
            ]
          },
          "metadata": {},
          "execution_count": 43
        }
      ]
    },
    {
      "cell_type": "markdown",
      "metadata": {
        "id": "OT9hfTHQwleX"
      },
      "source": [
        "A métrica de distância também é um fator de grande influência na formação dos clusteres."
      ]
    },
    {
      "cell_type": "markdown",
      "metadata": {
        "id": "UDHPlxNCsfJM"
      },
      "source": [
        "# Mean-Shift"
      ]
    },
    {
      "cell_type": "code",
      "metadata": {
        "id": "pR2Ie9KVfJZn"
      },
      "source": [
        "from sklearn.cluster import MeanShift"
      ],
      "execution_count": 44,
      "outputs": []
    },
    {
      "cell_type": "code",
      "metadata": {
        "id": "mBzNk0wEfJW8",
        "colab": {
          "base_uri": "https://localhost:8080/"
        },
        "outputId": "2272c2b7-eef2-4595-c730-ba4616625fd7"
      },
      "source": [
        "agrupador = MeanShift(bandwidth=0.8)\n",
        "agrupador.fit(df)\n",
        "agrupador.labels_"
      ],
      "execution_count": 45,
      "outputs": [
        {
          "output_type": "execute_result",
          "data": {
            "text/plain": [
              "array([0, 0, 0, 0, 0, 0, 0, 0, 0, 0, 0, 0, 0, 0, 0, 0, 0, 0, 0, 0, 0, 0,\n",
              "       0, 0, 0, 0, 0, 0, 0, 0, 0, 0, 0, 0, 0, 0, 0, 0, 0, 0, 0, 0, 0, 0,\n",
              "       0, 0, 0, 0, 0, 0, 0, 0, 0, 0, 0, 0, 0, 0, 0, 1, 1, 1, 0, 0, 1, 0,\n",
              "       0, 0, 1, 0, 1, 0, 0, 2, 0, 1, 0, 1, 0, 0, 0, 0, 0, 1, 0, 0, 1, 0,\n",
              "       1, 0, 1, 1, 1, 0, 0, 2, 1, 0, 0, 0, 0, 0, 0, 1, 0, 1, 0, 1, 0, 0,\n",
              "       0, 0, 1, 1, 0, 0, 0, 0, 1, 0, 0, 3, 1, 0, 0, 0, 0, 1, 0, 1, 1, 1,\n",
              "       1, 1, 1, 1, 1, 1, 1, 1, 1, 1, 1, 1, 1, 1, 1, 1, 1, 1, 1, 1, 1, 1,\n",
              "       1, 1, 1, 1, 1, 1, 1, 1, 1, 1, 1, 1, 1, 1, 1, 1, 1, 1, 1, 1, 1, 1,\n",
              "       1, 1])"
            ]
          },
          "metadata": {},
          "execution_count": 45
        }
      ]
    },
    {
      "cell_type": "code",
      "metadata": {
        "id": "VnUMyFMv16d-"
      },
      "source": [
        "from sklearn.cluster import estimate_bandwidth"
      ],
      "execution_count": 46,
      "outputs": []
    },
    {
      "cell_type": "code",
      "metadata": {
        "colab": {
          "base_uri": "https://localhost:8080/"
        },
        "id": "GTchIyvu16aq",
        "outputId": "7c1f7a6b-db0e-4fa9-a1a3-00a3056b8ae2"
      },
      "source": [
        "BW = estimate_bandwidth(df, quantile = 0.25)\n",
        "agrupador = MeanShift(BW)\n",
        "agrupador.fit(df)\n",
        "agrupador.labels_"
      ],
      "execution_count": 47,
      "outputs": [
        {
          "output_type": "execute_result",
          "data": {
            "text/plain": [
              "array([0, 0, 0, 0, 0, 0, 0, 0, 0, 0, 0, 0, 0, 0, 0, 0, 0, 0, 0, 0, 0, 0,\n",
              "       0, 0, 0, 0, 0, 0, 0, 0, 0, 0, 0, 0, 0, 0, 0, 0, 0, 0, 0, 0, 0, 0,\n",
              "       0, 0, 0, 0, 0, 0, 0, 0, 0, 0, 0, 0, 0, 0, 0, 0, 1, 1, 0, 0, 0, 0,\n",
              "       0, 0, 1, 0, 1, 0, 0, 2, 0, 0, 0, 1, 0, 0, 0, 0, 0, 1, 0, 0, 0, 0,\n",
              "       0, 0, 1, 1, 1, 0, 0, 2, 0, 0, 0, 0, 0, 0, 0, 0, 0, 1, 0, 1, 0, 0,\n",
              "       0, 0, 1, 0, 0, 0, 0, 0, 1, 0, 0, 3, 0, 0, 0, 0, 0, 3, 0, 1, 1, 1,\n",
              "       1, 1, 1, 1, 1, 1, 1, 1, 1, 1, 1, 1, 1, 1, 1, 1, 1, 1, 1, 1, 1, 1,\n",
              "       1, 1, 1, 1, 1, 1, 1, 1, 1, 1, 1, 1, 1, 1, 1, 1, 1, 1, 1, 1, 1, 1,\n",
              "       1, 1])"
            ]
          },
          "metadata": {},
          "execution_count": 47
        }
      ]
    },
    {
      "cell_type": "code",
      "metadata": {
        "id": "WHz0YG9r16YL",
        "colab": {
          "base_uri": "https://localhost:8080/"
        },
        "outputId": "4196b59c-b6ad-4ec7-8b37-75efffa0df01"
      },
      "source": [
        "agrupador = KMeans(n_clusters = 5)\n",
        "agrupador.fit(df)\n",
        "labels = agrupador.labels_\n",
        "labels"
      ],
      "execution_count": 48,
      "outputs": [
        {
          "output_type": "execute_result",
          "data": {
            "text/plain": [
              "array([1, 1, 1, 1, 1, 1, 1, 1, 1, 1, 1, 1, 1, 1, 1, 1, 1, 1, 1, 1, 1, 1,\n",
              "       1, 1, 1, 1, 1, 1, 1, 1, 1, 1, 1, 1, 1, 1, 1, 1, 1, 1, 1, 1, 1, 1,\n",
              "       1, 1, 1, 1, 1, 1, 1, 1, 1, 1, 1, 1, 1, 1, 1, 4, 0, 0, 4, 4, 0, 4,\n",
              "       4, 4, 0, 4, 0, 3, 4, 3, 4, 4, 4, 0, 4, 3, 4, 4, 0, 0, 4, 4, 0, 0,\n",
              "       0, 0, 0, 0, 0, 3, 4, 4, 4, 4, 3, 3, 4, 4, 3, 4, 4, 0, 4, 0, 4, 3,\n",
              "       3, 4, 0, 0, 0, 0, 4, 4, 0, 4, 3, 3, 3, 3, 3, 3, 3, 0, 0, 0, 2, 2,\n",
              "       2, 2, 2, 2, 2, 2, 2, 2, 2, 2, 2, 2, 2, 2, 2, 2, 2, 2, 2, 2, 2, 2,\n",
              "       2, 2, 2, 2, 2, 2, 2, 2, 2, 2, 2, 2, 2, 2, 2, 2, 2, 2, 2, 2, 2, 2,\n",
              "       2, 2], dtype=int32)"
            ]
          },
          "metadata": {},
          "execution_count": 48
        }
      ]
    },
    {
      "cell_type": "code",
      "metadata": {
        "colab": {
          "base_uri": "https://localhost:8080/",
          "height": 542
        },
        "id": "4gob4-6LvgyK",
        "outputId": "ffe4731d-def8-4f3e-a162-0c207c48c499"
      },
      "source": [
        "fig = go.Figure()\n",
        "fig.add_trace(go.Scatter3d(x = df['Intensidade_de_cor'],\n",
        "                           y = df['Alcool'],\n",
        "                           z = df['Proline'],\n",
        "                           mode = 'markers',\n",
        "                           marker = dict(color = labels.astype(np.float)),\n",
        "                           text = labels))\n",
        "fig.show()"
      ],
      "execution_count": 49,
      "outputs": [
        {
          "output_type": "display_data",
          "data": {
            "text/html": [
              "<html>\n",
              "<head><meta charset=\"utf-8\" /></head>\n",
              "<body>\n",
              "    <div>\n",
              "            <script src=\"https://cdnjs.cloudflare.com/ajax/libs/mathjax/2.7.5/MathJax.js?config=TeX-AMS-MML_SVG\"></script><script type=\"text/javascript\">if (window.MathJax) {MathJax.Hub.Config({SVG: {font: \"STIX-Web\"}});}</script>\n",
              "                <script type=\"text/javascript\">window.PlotlyConfig = {MathJaxConfig: 'local'};</script>\n",
              "        <script src=\"https://cdn.plot.ly/plotly-latest.min.js\"></script>    \n",
              "            <div id=\"d773294d-4b83-4781-a13b-b0744b1d5627\" class=\"plotly-graph-div\" style=\"height:525px; width:100%;\"></div>\n",
              "            <script type=\"text/javascript\">\n",
              "                \n",
              "                    window.PLOTLYENV=window.PLOTLYENV || {};\n",
              "                    \n",
              "                if (document.getElementById(\"d773294d-4b83-4781-a13b-b0744b1d5627\")) {\n",
              "                    Plotly.newPlot(\n",
              "                        'd773294d-4b83-4781-a13b-b0744b1d5627',\n",
              "                        [{\"marker\": {\"color\": [1.0, 1.0, 1.0, 1.0, 1.0, 1.0, 1.0, 1.0, 1.0, 1.0, 1.0, 1.0, 1.0, 1.0, 1.0, 1.0, 1.0, 1.0, 1.0, 1.0, 1.0, 1.0, 1.0, 1.0, 1.0, 1.0, 1.0, 1.0, 1.0, 1.0, 1.0, 1.0, 1.0, 1.0, 1.0, 1.0, 1.0, 1.0, 1.0, 1.0, 1.0, 1.0, 1.0, 1.0, 1.0, 1.0, 1.0, 1.0, 1.0, 1.0, 1.0, 1.0, 1.0, 1.0, 1.0, 1.0, 1.0, 1.0, 1.0, 4.0, 0.0, 0.0, 4.0, 4.0, 0.0, 4.0, 4.0, 4.0, 0.0, 4.0, 0.0, 3.0, 4.0, 3.0, 4.0, 4.0, 4.0, 0.0, 4.0, 3.0, 4.0, 4.0, 0.0, 0.0, 4.0, 4.0, 0.0, 0.0, 0.0, 0.0, 0.0, 0.0, 0.0, 3.0, 4.0, 4.0, 4.0, 4.0, 3.0, 3.0, 4.0, 4.0, 3.0, 4.0, 4.0, 0.0, 4.0, 0.0, 4.0, 3.0, 3.0, 4.0, 0.0, 0.0, 0.0, 0.0, 4.0, 4.0, 0.0, 4.0, 3.0, 3.0, 3.0, 3.0, 3.0, 3.0, 3.0, 0.0, 0.0, 0.0, 2.0, 2.0, 2.0, 2.0, 2.0, 2.0, 2.0, 2.0, 2.0, 2.0, 2.0, 2.0, 2.0, 2.0, 2.0, 2.0, 2.0, 2.0, 2.0, 2.0, 2.0, 2.0, 2.0, 2.0, 2.0, 2.0, 2.0, 2.0, 2.0, 2.0, 2.0, 2.0, 2.0, 2.0, 2.0, 2.0, 2.0, 2.0, 2.0, 2.0, 2.0, 2.0, 2.0, 2.0, 2.0, 2.0, 2.0, 2.0]}, \"mode\": \"markers\", \"text\": [1.0, 1.0, 1.0, 1.0, 1.0, 1.0, 1.0, 1.0, 1.0, 1.0, 1.0, 1.0, 1.0, 1.0, 1.0, 1.0, 1.0, 1.0, 1.0, 1.0, 1.0, 1.0, 1.0, 1.0, 1.0, 1.0, 1.0, 1.0, 1.0, 1.0, 1.0, 1.0, 1.0, 1.0, 1.0, 1.0, 1.0, 1.0, 1.0, 1.0, 1.0, 1.0, 1.0, 1.0, 1.0, 1.0, 1.0, 1.0, 1.0, 1.0, 1.0, 1.0, 1.0, 1.0, 1.0, 1.0, 1.0, 1.0, 1.0, 4.0, 0.0, 0.0, 4.0, 4.0, 0.0, 4.0, 4.0, 4.0, 0.0, 4.0, 0.0, 3.0, 4.0, 3.0, 4.0, 4.0, 4.0, 0.0, 4.0, 3.0, 4.0, 4.0, 0.0, 0.0, 4.0, 4.0, 0.0, 0.0, 0.0, 0.0, 0.0, 0.0, 0.0, 3.0, 4.0, 4.0, 4.0, 4.0, 3.0, 3.0, 4.0, 4.0, 3.0, 4.0, 4.0, 0.0, 4.0, 0.0, 4.0, 3.0, 3.0, 4.0, 0.0, 0.0, 0.0, 0.0, 4.0, 4.0, 0.0, 4.0, 3.0, 3.0, 3.0, 3.0, 3.0, 3.0, 3.0, 0.0, 0.0, 0.0, 2.0, 2.0, 2.0, 2.0, 2.0, 2.0, 2.0, 2.0, 2.0, 2.0, 2.0, 2.0, 2.0, 2.0, 2.0, 2.0, 2.0, 2.0, 2.0, 2.0, 2.0, 2.0, 2.0, 2.0, 2.0, 2.0, 2.0, 2.0, 2.0, 2.0, 2.0, 2.0, 2.0, 2.0, 2.0, 2.0, 2.0, 2.0, 2.0, 2.0, 2.0, 2.0, 2.0, 2.0, 2.0, 2.0, 2.0, 2.0], \"type\": \"scatter3d\", \"x\": [0.3720136518771331, 0.26450511945392485, 0.3754266211604095, 0.5563139931740614, 0.2593856655290102, 0.4667235494880546, 0.3387372013651877, 0.3216723549488054, 0.33447098976109213, 0.5068259385665529, 0.3813993174061433, 0.31740614334470985, 0.3686006825938566, 0.3515358361774744, 0.5307167235494881, 0.5136518771331058, 0.41979522184300344, 0.4539249146757679, 0.6331058020477814, 0.325938566552901, 0.37286689419795227, 0.27474402730375425, 0.21501706484641633, 0.22610921501706485, 0.1911262798634812, 0.1962457337883959, 0.30034129692832756, 0.22781569965870305, 0.27474402730375425, 0.29180887372013653, 0.37713310580204773, 0.4795221843003413, 0.21843003412969278, 0.3515358361774744, 0.2491467576791809, 0.325938566552901, 0.2832764505119454, 0.2534129692832764, 0.20648464163822525, 0.325938566552901, 0.4138225255972696, 0.2559726962457338, 0.35409556313993173, 0.2627986348122867, 0.32081911262798635, 0.33788395904436863, 0.3088737201365188, 0.4112627986348123, 0.41979522184300344, 0.6501706484641638, 0.5051194539249146, 0.3686006825938566, 0.4923208191126279, 0.42832764505119447, 0.38993174061433444, 0.424061433447099, 0.4351535836177475, 0.40273037542662116, 0.4709897610921502, 0.057167235494880536, 0.1697952218430034, 0.3813993174061433, 0.21501706484641633, 0.2704778156996587, 0.1424914675767918, 0.2832764505119454, 0.3430034129692833, 0.2901023890784983, 0.16126279863481227, 0.13395904436860068, 0.15102389078498293, 0.17918088737201363, 0.2098976109215017, 0.1766211604095563, 0.16467576791808872, 0.21501706484641633, 0.2832764505119454, 0.11689419795221842, 0.18088737201365188, 0.1100682593856655, 0.10409556313993173, 0.22354948805460748, 0.07849829351535836, 0.30034129692832756, 0.15102389078498293, 0.1143344709897611, 0.09982935153583619, 0.11262798634812288, 0.1296928327645051, 0.03924914675767918, 0.09556313993174059, 0.1979522184300341, 0.15102389078498293, 0.07423208191126279, 0.16808873720136516, 0.11262798634812288, 0.10409556313993173, 0.13822525597269622, 0.27474402730375425, 0.08703071672354948, 0.17235494880546073, 0.09982935153583619, 0.1296928327645051, 0.06655290102389078, 0.14163822525597267, 0.12116040955631399, 0.18088737201365188, 0.17235494880546073, 0.12116040955631399, 0.11689419795221842, 0.13822525597269622, 0.06143344709897611, 0.21501706484641633, 0.15358361774744025, 0.13822525597269622, 0.052901023890784965, 0.057167235494880536, 0.06655290102389078, 0.18088737201365188, 0.0, 0.16808873720136516, 0.40273037542662116, 0.06825938566552903, 0.11262798634812288, 0.1296928327645051, 0.12627986348122863, 0.22696245733788392, 0.14675767918088736, 0.07167235494880547, 0.11262798634812288, 0.2406143344709897, 0.3515358361774744, 0.37713310580204773, 0.31740614334470985, 0.35580204778157, 0.4965870307167235, 0.21928327645051196, 0.31740614334470985, 0.37713310580204773, 0.31058020477815695, 0.2832764505119454, 0.3686006825938566, 0.26194539249146753, 0.2662116040955631, 0.5912969283276451, 0.23208191126279862, 0.3088737201365188, 0.5435153583617748, 0.6092150170648464, 0.6928327645051194, 0.6245733788395904, 0.8122866894197952, 0.4965870307167235, 0.78839590443686, 0.5392491467576791, 0.5648464163822525, 0.659556313993174, 0.5307167235494881, 0.9999999999999999, 0.893344709897611, 0.5435153583617748, 0.39249146757679176, 0.36689419795221845, 0.341296928327645, 0.7081911262798635, 0.45563139931740615, 0.8020477815699658, 0.7662116040955631, 0.6296928327645052, 0.6160409556313993, 0.36006825938566556, 0.735494795221843, 0.7184300341296928, 0.5477815699658704, 0.5136518771331058, 0.7610921501706484, 0.6843003412969284, 0.6757679180887372], \"y\": [0.8421052631578951, 0.5710526315789473, 0.560526315789474, 0.8789473684210525, 0.5815789473684214, 0.8342105263157893, 0.8842105263157896, 0.797368421052632, 1.0, 0.7447368421052629, 0.8078947368421052, 0.8131578947368419, 0.7157894736842105, 0.9789473684210526, 0.8815789473684212, 0.6842105263157898, 0.8605263157894738, 0.736842105263158, 0.831578947368421, 0.6868421052631581, 0.797368421052632, 0.5, 0.7052631578947373, 0.47894736842105257, 0.6499999999999999, 0.5315789473684216, 0.6210526315789475, 0.5973684210526318, 0.7473684210526317, 0.7868421052631578, 0.7105263157894739, 0.6710526315789473, 0.6973684210526314, 0.7184210526315788, 0.6526315789473687, 0.6447368421052633, 0.5921052631578947, 0.5315789473684216, 0.5368421052631582, 0.8394736842105264, 0.6657894736842107, 0.6263157894736846, 0.7500000000000004, 0.5815789473684214, 0.5315789473684216, 0.836842105263158, 0.8815789473684212, 0.7552631578947371, 0.8078947368421052, 0.7657894736842104, 0.5315789473684216, 0.736842105263158, 0.7342105263157896, 0.7210526315789472, 0.7131578947368422, 0.6657894736842107, 0.8394736842105264, 0.594736842105263, 0.7078947368421056, 0.3526315789473684, 0.34210526315789513, 0.4236842105263161, 0.6947368421052631, 0.3526315789473684, 0.30000000000000027, 0.3526315789473684, 0.5473684210526315, 0.3526315789473684, 0.6078947368421055, 0.310526315789474, 0.331578947368421, 0.7447368421052629, 0.6473684210526316, 0.5157894736842108, 0.2447368421052638, 0.1657894736842107, 0.5263157894736841, 0.2131578947368422, 0.34210526315789513, 0.43947368421052646, 0.2552631578947371, 0.44473684210526354, 0.2763157894736845, 0.5315789473684216, 0.2131578947368422, 0.43157894736842106, 0.29736842105263195, 0.1631578947368424, 0.16052631578947407, 0.2763157894736845, 0.2763157894736845, 0.2552631578947371, 0.43684210526315814, 0.331578947368421, 0.155263157894737, 0.3789473684210529, 0.20526315789473726, 0.331578947368421, 0.3526315789473684, 0.331578947368421, 0.2763157894736845, 0.4131578947368424, 0.34473684210526345, 0.20789473684210558, 0.38947368421052664, 0.3657894736842109, 0.3210526315789477, 0.44473684210526354, 0.3131578947368423, 0.15263157894736867, 0.11315789473684257, 0.39210526315789496, 0.19210526315789478, 0.10000000000000053, 0.2763157894736845, 0.0, 0.20789473684210558, 0.3657894736842109, 0.45789473684210513, 0.2552631578947371, 0.1105263157894738, 0.13947368421052664, 0.3657894736842109, 0.5315789473684216, 0.2210526315789476, 0.2736842105263162, 0.3684210526315792, 0.20000000000000018, 0.3526315789473684, 0.26578947368421035, 0.4815789473684209, 0.4868421052631584, 0.4684210526315793, 0.43947368421052646, 0.38947368421052664, 0.4131578947368424, 0.3210526315789477, 0.3947368421052633, 0.6473684210526316, 0.47631578947368425, 0.5, 0.6131578947368421, 0.655263157894737, 0.6815789473684211, 0.3210526315789477, 0.560526315789474, 0.7500000000000004, 0.48421052631578965, 0.6026315789473689, 0.5394736842105265, 0.6499999999999999, 0.4631578947368422, 0.5473684210526315, 0.5789473684210531, 0.4078947368421053, 0.5631578947368423, 0.7394736842105263, 0.37368421052631584, 0.8710526315789475, 0.6447368421052633, 0.3500000000000001, 0.7000000000000002, 0.47894736842105257, 0.5078947368421058, 0.7236842105263159, 0.7105263157894739, 0.6368421052631579, 0.4710526315789476, 0.6710526315789473, 0.6236842105263158, 0.3078947368421052, 0.45789473684210513, 0.823684210526316, 0.7052631578947373, 0.6236842105263158, 0.5894736842105264, 0.5631578947368423, 0.8157894736842106], \"z\": [0.5613409415121255, 0.5506419400855921, 0.6469329529243938, 0.8573466476462198, 0.3259629101283881, 0.8359486447931527, 0.7218259629101285, 0.725392296718973, 0.5470756062767476, 0.5470756062767476, 0.8787446504992867, 0.7146932952924394, 0.7432239657631955, 0.6219686162624822, 0.9051355206847361, 0.7360912981455064, 0.7146932952924394, 0.6077032810271041, 1.0, 0.40442225392296727, 0.35805991440798857, 0.35092724679029963, 0.5399429386590585, 0.5256776034236805, 0.40442225392296727, 0.3937232524964337, 0.6540656205420827, 0.7182596291012839, 0.4543509272467904, 0.5399429386590585, 0.7182596291012839, 0.8823109843081313, 0.5078459343794579, 0.6825962910128388, 0.5827389443651926, 0.4579172610556348, 0.4293865905848788, 0.5898716119828816, 0.529243937232525, 0.3437945791726106, 0.36875891583452214, 0.5399429386590585, 0.5827389443651926, 0.2867332382310984, 0.43295292439372324, 0.5720399429386591, 0.5613409415121255, 0.5042796005706135, 0.557774607703281, 0.7004279600570614, 0.6219686162624822, 0.7039942938659058, 0.6504992867332383, 0.782453637660485, 0.557774607703281, 0.6005706134094152, 0.4935805991440799, 0.7075606276747504, 0.7182596291012839, 0.17261055634807418, 0.2867332382310984, 0.12268188302425106, 0.2510699001426534, 0.10128388017118403, 0.054921540656205386, 0.2853067047075606, 0.15977175463623397, 0.1654778887303852, 0.33666191155492153, 0.31383737517831667, 0.4222539229671898, 0.09415121255349498, 0.13837375178316688, 0.5042796005706135, 0.4336661911554922, 0.10699001426533525, 0.08131241084165478, 0.15834522111269614, 0.33666191155492153, 0.1319543509272468, 0.0, 0.3109843081312411, 0.2510699001426534, 0.16904422253922965, 0.17261055634807418, 0.12268188302425106, 0.15477888730385161, 0.20256776034236804, 0.2867332382310984, 0.24750356633380885, 0.1440798858773181, 0.12268188302425106, 0.15477888730385161, 0.008559201141226797, 0.047788873038516394, 0.4700427960057062, 0.24750356633380885, 0.10699001426533525, 0.27246790299572043, 0.09129814550641938, 0.30813124108416545, 0.20256776034236804, 0.11412268188302424, 0.09771754636233951, 0.2810271041369472, 0.02639087018544936, 0.1654778887303852, 0.14978601997146931, 0.02425106990014264, 0.2867332382310984, 0.20256776034236804, 0.033523537803138354, 0.23466476462196864, 0.11126961483594863, 0.07631954350927247, 0.09201141226818829, 0.15477888730385161, 0.047788873038516394, 0.06704707560627673, 0.20399429386590587, 0.24750356633380885, 0.13338088445078458, 0.062054208273894434, 0.07275320970042795, 0.07275320970042795, 0.07132667617689017, 0.052781740370898694, 0.1340941512125535, 0.0456490727532097, 0.21540656205420824, 0.2510699001426534, 0.17974322396576317, 0.20114122681883026, 0.22967189728958629, 0.2653352353780314, 0.297432239657632, 0.3152639087018545, 0.16904422253922965, 0.21540656205420824, 0.2225392296718973, 0.22967189728958629, 0.35805991440798857, 0.17261055634807418, 0.1940085592011412, 0.4115549215406562, 0.3937232524964337, 0.09771754636233951, 0.24750356633380885, 0.2653352353780314, 0.1940085592011412, 0.15834522111269614, 0.1440798858773181, 0.1048502139800285, 0.2831669044222539, 0.25820256776034234, 0.318830242510699, 0.1440798858773181, 0.4293865905848788, 0.27246790299572043, 0.24393723252496433, 0.17261055634807418, 0.2867332382310984, 0.20827389443651925, 0.2831669044222539, 0.2403708987161198, 0.17261055634807418, 0.297432239657632, 0.29029957203994294, 0.33666191155492153, 0.2510699001426534, 0.1654778887303852, 0.1369472182596291, 0.27246790299572043, 0.3295292439372326, 0.33666191155492153, 0.3972895863052782, 0.40085592011412274, 0.20114122681883026]}],\n",
              "                        {\"template\": {\"data\": {\"bar\": [{\"error_x\": {\"color\": \"#2a3f5f\"}, \"error_y\": {\"color\": \"#2a3f5f\"}, \"marker\": {\"line\": {\"color\": \"#E5ECF6\", \"width\": 0.5}}, \"type\": \"bar\"}], \"barpolar\": [{\"marker\": {\"line\": {\"color\": \"#E5ECF6\", \"width\": 0.5}}, \"type\": \"barpolar\"}], \"carpet\": [{\"aaxis\": {\"endlinecolor\": \"#2a3f5f\", \"gridcolor\": \"white\", \"linecolor\": \"white\", \"minorgridcolor\": \"white\", \"startlinecolor\": \"#2a3f5f\"}, \"baxis\": {\"endlinecolor\": \"#2a3f5f\", \"gridcolor\": \"white\", \"linecolor\": \"white\", \"minorgridcolor\": \"white\", \"startlinecolor\": \"#2a3f5f\"}, \"type\": \"carpet\"}], \"choropleth\": [{\"colorbar\": {\"outlinewidth\": 0, \"ticks\": \"\"}, \"type\": \"choropleth\"}], \"contour\": [{\"colorbar\": {\"outlinewidth\": 0, \"ticks\": \"\"}, \"colorscale\": [[0.0, \"#0d0887\"], [0.1111111111111111, \"#46039f\"], [0.2222222222222222, \"#7201a8\"], [0.3333333333333333, \"#9c179e\"], [0.4444444444444444, \"#bd3786\"], [0.5555555555555556, \"#d8576b\"], [0.6666666666666666, \"#ed7953\"], [0.7777777777777778, \"#fb9f3a\"], [0.8888888888888888, \"#fdca26\"], [1.0, \"#f0f921\"]], \"type\": \"contour\"}], \"contourcarpet\": [{\"colorbar\": {\"outlinewidth\": 0, \"ticks\": \"\"}, \"type\": \"contourcarpet\"}], \"heatmap\": [{\"colorbar\": {\"outlinewidth\": 0, \"ticks\": \"\"}, \"colorscale\": [[0.0, \"#0d0887\"], [0.1111111111111111, \"#46039f\"], [0.2222222222222222, \"#7201a8\"], [0.3333333333333333, \"#9c179e\"], [0.4444444444444444, \"#bd3786\"], [0.5555555555555556, \"#d8576b\"], [0.6666666666666666, \"#ed7953\"], [0.7777777777777778, \"#fb9f3a\"], [0.8888888888888888, \"#fdca26\"], [1.0, \"#f0f921\"]], \"type\": \"heatmap\"}], \"heatmapgl\": [{\"colorbar\": {\"outlinewidth\": 0, \"ticks\": \"\"}, \"colorscale\": [[0.0, \"#0d0887\"], [0.1111111111111111, \"#46039f\"], [0.2222222222222222, \"#7201a8\"], [0.3333333333333333, \"#9c179e\"], [0.4444444444444444, \"#bd3786\"], [0.5555555555555556, \"#d8576b\"], [0.6666666666666666, \"#ed7953\"], [0.7777777777777778, \"#fb9f3a\"], [0.8888888888888888, \"#fdca26\"], [1.0, \"#f0f921\"]], \"type\": \"heatmapgl\"}], \"histogram\": [{\"marker\": {\"colorbar\": {\"outlinewidth\": 0, \"ticks\": \"\"}}, \"type\": \"histogram\"}], \"histogram2d\": [{\"colorbar\": {\"outlinewidth\": 0, \"ticks\": \"\"}, \"colorscale\": [[0.0, \"#0d0887\"], [0.1111111111111111, \"#46039f\"], [0.2222222222222222, \"#7201a8\"], [0.3333333333333333, \"#9c179e\"], [0.4444444444444444, \"#bd3786\"], [0.5555555555555556, \"#d8576b\"], [0.6666666666666666, \"#ed7953\"], [0.7777777777777778, \"#fb9f3a\"], [0.8888888888888888, \"#fdca26\"], [1.0, \"#f0f921\"]], \"type\": \"histogram2d\"}], \"histogram2dcontour\": [{\"colorbar\": {\"outlinewidth\": 0, \"ticks\": \"\"}, \"colorscale\": [[0.0, \"#0d0887\"], [0.1111111111111111, \"#46039f\"], [0.2222222222222222, \"#7201a8\"], [0.3333333333333333, \"#9c179e\"], [0.4444444444444444, \"#bd3786\"], [0.5555555555555556, \"#d8576b\"], [0.6666666666666666, \"#ed7953\"], [0.7777777777777778, \"#fb9f3a\"], [0.8888888888888888, \"#fdca26\"], [1.0, \"#f0f921\"]], \"type\": \"histogram2dcontour\"}], \"mesh3d\": [{\"colorbar\": {\"outlinewidth\": 0, \"ticks\": \"\"}, \"type\": \"mesh3d\"}], \"parcoords\": [{\"line\": {\"colorbar\": {\"outlinewidth\": 0, \"ticks\": \"\"}}, \"type\": \"parcoords\"}], \"scatter\": [{\"marker\": {\"colorbar\": {\"outlinewidth\": 0, \"ticks\": \"\"}}, \"type\": \"scatter\"}], \"scatter3d\": [{\"line\": {\"colorbar\": {\"outlinewidth\": 0, \"ticks\": \"\"}}, \"marker\": {\"colorbar\": {\"outlinewidth\": 0, \"ticks\": \"\"}}, \"type\": \"scatter3d\"}], \"scattercarpet\": [{\"marker\": {\"colorbar\": {\"outlinewidth\": 0, \"ticks\": \"\"}}, \"type\": \"scattercarpet\"}], \"scattergeo\": [{\"marker\": {\"colorbar\": {\"outlinewidth\": 0, \"ticks\": \"\"}}, \"type\": \"scattergeo\"}], \"scattergl\": [{\"marker\": {\"colorbar\": {\"outlinewidth\": 0, \"ticks\": \"\"}}, \"type\": \"scattergl\"}], \"scattermapbox\": [{\"marker\": {\"colorbar\": {\"outlinewidth\": 0, \"ticks\": \"\"}}, \"type\": \"scattermapbox\"}], \"scatterpolar\": [{\"marker\": {\"colorbar\": {\"outlinewidth\": 0, \"ticks\": \"\"}}, \"type\": \"scatterpolar\"}], \"scatterpolargl\": [{\"marker\": {\"colorbar\": {\"outlinewidth\": 0, \"ticks\": \"\"}}, \"type\": \"scatterpolargl\"}], \"scatterternary\": [{\"marker\": {\"colorbar\": {\"outlinewidth\": 0, \"ticks\": \"\"}}, \"type\": \"scatterternary\"}], \"surface\": [{\"colorbar\": {\"outlinewidth\": 0, \"ticks\": \"\"}, \"colorscale\": [[0.0, \"#0d0887\"], [0.1111111111111111, \"#46039f\"], [0.2222222222222222, \"#7201a8\"], [0.3333333333333333, \"#9c179e\"], [0.4444444444444444, \"#bd3786\"], [0.5555555555555556, \"#d8576b\"], [0.6666666666666666, \"#ed7953\"], [0.7777777777777778, \"#fb9f3a\"], [0.8888888888888888, \"#fdca26\"], [1.0, \"#f0f921\"]], \"type\": \"surface\"}], \"table\": [{\"cells\": {\"fill\": {\"color\": \"#EBF0F8\"}, \"line\": {\"color\": \"white\"}}, \"header\": {\"fill\": {\"color\": \"#C8D4E3\"}, \"line\": {\"color\": \"white\"}}, \"type\": \"table\"}]}, \"layout\": {\"annotationdefaults\": {\"arrowcolor\": \"#2a3f5f\", \"arrowhead\": 0, \"arrowwidth\": 1}, \"colorscale\": {\"diverging\": [[0, \"#8e0152\"], [0.1, \"#c51b7d\"], [0.2, \"#de77ae\"], [0.3, \"#f1b6da\"], [0.4, \"#fde0ef\"], [0.5, \"#f7f7f7\"], [0.6, \"#e6f5d0\"], [0.7, \"#b8e186\"], [0.8, \"#7fbc41\"], [0.9, \"#4d9221\"], [1, \"#276419\"]], \"sequential\": [[0.0, \"#0d0887\"], [0.1111111111111111, \"#46039f\"], [0.2222222222222222, \"#7201a8\"], [0.3333333333333333, \"#9c179e\"], [0.4444444444444444, \"#bd3786\"], [0.5555555555555556, \"#d8576b\"], [0.6666666666666666, \"#ed7953\"], [0.7777777777777778, \"#fb9f3a\"], [0.8888888888888888, \"#fdca26\"], [1.0, \"#f0f921\"]], \"sequentialminus\": [[0.0, \"#0d0887\"], [0.1111111111111111, \"#46039f\"], [0.2222222222222222, \"#7201a8\"], [0.3333333333333333, \"#9c179e\"], [0.4444444444444444, \"#bd3786\"], [0.5555555555555556, \"#d8576b\"], [0.6666666666666666, \"#ed7953\"], [0.7777777777777778, \"#fb9f3a\"], [0.8888888888888888, \"#fdca26\"], [1.0, \"#f0f921\"]]}, \"colorway\": [\"#636efa\", \"#EF553B\", \"#00cc96\", \"#ab63fa\", \"#FFA15A\", \"#19d3f3\", \"#FF6692\", \"#B6E880\", \"#FF97FF\", \"#FECB52\"], \"font\": {\"color\": \"#2a3f5f\"}, \"geo\": {\"bgcolor\": \"white\", \"lakecolor\": \"white\", \"landcolor\": \"#E5ECF6\", \"showlakes\": true, \"showland\": true, \"subunitcolor\": \"white\"}, \"hoverlabel\": {\"align\": \"left\"}, \"hovermode\": \"closest\", \"mapbox\": {\"style\": \"light\"}, \"paper_bgcolor\": \"white\", \"plot_bgcolor\": \"#E5ECF6\", \"polar\": {\"angularaxis\": {\"gridcolor\": \"white\", \"linecolor\": \"white\", \"ticks\": \"\"}, \"bgcolor\": \"#E5ECF6\", \"radialaxis\": {\"gridcolor\": \"white\", \"linecolor\": \"white\", \"ticks\": \"\"}}, \"scene\": {\"xaxis\": {\"backgroundcolor\": \"#E5ECF6\", \"gridcolor\": \"white\", \"gridwidth\": 2, \"linecolor\": \"white\", \"showbackground\": true, \"ticks\": \"\", \"zerolinecolor\": \"white\"}, \"yaxis\": {\"backgroundcolor\": \"#E5ECF6\", \"gridcolor\": \"white\", \"gridwidth\": 2, \"linecolor\": \"white\", \"showbackground\": true, \"ticks\": \"\", \"zerolinecolor\": \"white\"}, \"zaxis\": {\"backgroundcolor\": \"#E5ECF6\", \"gridcolor\": \"white\", \"gridwidth\": 2, \"linecolor\": \"white\", \"showbackground\": true, \"ticks\": \"\", \"zerolinecolor\": \"white\"}}, \"shapedefaults\": {\"line\": {\"color\": \"#2a3f5f\"}}, \"ternary\": {\"aaxis\": {\"gridcolor\": \"white\", \"linecolor\": \"white\", \"ticks\": \"\"}, \"baxis\": {\"gridcolor\": \"white\", \"linecolor\": \"white\", \"ticks\": \"\"}, \"bgcolor\": \"#E5ECF6\", \"caxis\": {\"gridcolor\": \"white\", \"linecolor\": \"white\", \"ticks\": \"\"}}, \"title\": {\"x\": 0.05}, \"xaxis\": {\"automargin\": true, \"gridcolor\": \"white\", \"linecolor\": \"white\", \"ticks\": \"\", \"zerolinecolor\": \"white\", \"zerolinewidth\": 2}, \"yaxis\": {\"automargin\": true, \"gridcolor\": \"white\", \"linecolor\": \"white\", \"ticks\": \"\", \"zerolinecolor\": \"white\", \"zerolinewidth\": 2}}}},\n",
              "                        {\"responsive\": true}\n",
              "                    ).then(function(){\n",
              "                            \n",
              "var gd = document.getElementById('d773294d-4b83-4781-a13b-b0744b1d5627');\n",
              "var x = new MutationObserver(function (mutations, observer) {{\n",
              "        var display = window.getComputedStyle(gd).display;\n",
              "        if (!display || display === 'none') {{\n",
              "            console.log([gd, 'removed!']);\n",
              "            Plotly.purge(gd);\n",
              "            observer.disconnect();\n",
              "        }}\n",
              "}});\n",
              "\n",
              "// Listen for the removal of the full notebook cells\n",
              "var notebookContainer = gd.closest('#notebook-container');\n",
              "if (notebookContainer) {{\n",
              "    x.observe(notebookContainer, {childList: true});\n",
              "}}\n",
              "\n",
              "// Listen for the clearing of the current output cell\n",
              "var outputEl = gd.closest('.output');\n",
              "if (outputEl) {{\n",
              "    x.observe(outputEl, {childList: true});\n",
              "}}\n",
              "\n",
              "                        })\n",
              "                };\n",
              "                \n",
              "            </script>\n",
              "        </div>\n",
              "</body>\n",
              "</html>"
            ]
          },
          "metadata": {}
        }
      ]
    },
    {
      "cell_type": "markdown",
      "metadata": {
        "id": "GgqPzpmlwo-w"
      },
      "source": [
        "## Coeficiente de Silhueta"
      ]
    },
    {
      "cell_type": "code",
      "metadata": {
        "id": "Lq9DODeMvgkh"
      },
      "source": [
        "# análise do quanto dos pontos estão próximos do centro e afastados do vizinho\n",
        "\n",
        "# coeficiente de silhueta avalia a coesão e dissimilaridade.\n",
        "# quanto maior esses índices, melhor a clusterização"
      ],
      "execution_count": 50,
      "outputs": []
    },
    {
      "cell_type": "markdown",
      "metadata": {
        "id": "JBb7hOCD6Ed2"
      },
      "source": [
        "Coeficiente de silhueta em K-Means"
      ]
    },
    {
      "cell_type": "code",
      "metadata": {
        "id": "fS4fJ9vqfJUe"
      },
      "source": [
        "from sklearn.metrics import silhouette_score"
      ],
      "execution_count": 51,
      "outputs": []
    },
    {
      "cell_type": "code",
      "metadata": {
        "colab": {
          "base_uri": "https://localhost:8080/"
        },
        "id": "317CxRKa17X4",
        "outputId": "5c5cc4dd-1b80-405d-99d4-3cd22e3c9359"
      },
      "source": [
        "faixa_n_clusters = [i for i in range(2,10)]\n",
        "print(faixa_n_clusters)"
      ],
      "execution_count": 52,
      "outputs": [
        {
          "output_type": "stream",
          "name": "stdout",
          "text": [
            "[2, 3, 4, 5, 6, 7, 8, 9]\n"
          ]
        }
      ]
    },
    {
      "cell_type": "code",
      "metadata": {
        "id": "q4qglZ2t2GJA"
      },
      "source": [
        "from sklearn.cluster import KMeans\n",
        "\n",
        "valores_silhueta = []\n",
        "for k in faixa_n_clusters:\n",
        "  agrupador = KMeans(n_clusters= k)\n",
        "  labels = agrupador.fit_predict(df)\n",
        "  media_silhueta = silhouette_score(df, labels)\n",
        "  valores_silhueta.append(media_silhueta)"
      ],
      "execution_count": 53,
      "outputs": []
    },
    {
      "cell_type": "code",
      "metadata": {
        "colab": {
          "base_uri": "https://localhost:8080/",
          "height": 542
        },
        "id": "IgplABIX2H4K",
        "outputId": "c5a51923-8c71-4271-c327-71063d3ee117"
      },
      "source": [
        "fig = go.Figure()\n",
        "fig.add_trace(go.Scatter(x = faixa_n_clusters, y  = valores_silhueta))\n",
        "fig.update_layout(\n",
        "    title = \"Valores de silhueta médios\",\n",
        "    xaxis_title = \"Número de clústeres\",\n",
        "    yaxis_title = \"Valor médio de silhueta\"\n",
        ")\n"
      ],
      "execution_count": 54,
      "outputs": [
        {
          "output_type": "display_data",
          "data": {
            "text/html": [
              "<html>\n",
              "<head><meta charset=\"utf-8\" /></head>\n",
              "<body>\n",
              "    <div>\n",
              "            <script src=\"https://cdnjs.cloudflare.com/ajax/libs/mathjax/2.7.5/MathJax.js?config=TeX-AMS-MML_SVG\"></script><script type=\"text/javascript\">if (window.MathJax) {MathJax.Hub.Config({SVG: {font: \"STIX-Web\"}});}</script>\n",
              "                <script type=\"text/javascript\">window.PlotlyConfig = {MathJaxConfig: 'local'};</script>\n",
              "        <script src=\"https://cdn.plot.ly/plotly-latest.min.js\"></script>    \n",
              "            <div id=\"67d7ff57-44ff-4581-a14e-03c80dbed258\" class=\"plotly-graph-div\" style=\"height:525px; width:100%;\"></div>\n",
              "            <script type=\"text/javascript\">\n",
              "                \n",
              "                    window.PLOTLYENV=window.PLOTLYENV || {};\n",
              "                    \n",
              "                if (document.getElementById(\"67d7ff57-44ff-4581-a14e-03c80dbed258\")) {\n",
              "                    Plotly.newPlot(\n",
              "                        '67d7ff57-44ff-4581-a14e-03c80dbed258',\n",
              "                        [{\"type\": \"scatter\", \"x\": [2, 3, 4, 5, 6, 7, 8, 9], \"y\": [0.3450438553643068, 0.36950618492736303, 0.30439089933299773, 0.23908445719459426, 0.24000974031488773, 0.1442607556930919, 0.13397944715511628, 0.12319882322246738]}],\n",
              "                        {\"template\": {\"data\": {\"bar\": [{\"error_x\": {\"color\": \"#2a3f5f\"}, \"error_y\": {\"color\": \"#2a3f5f\"}, \"marker\": {\"line\": {\"color\": \"#E5ECF6\", \"width\": 0.5}}, \"type\": \"bar\"}], \"barpolar\": [{\"marker\": {\"line\": {\"color\": \"#E5ECF6\", \"width\": 0.5}}, \"type\": \"barpolar\"}], \"carpet\": [{\"aaxis\": {\"endlinecolor\": \"#2a3f5f\", \"gridcolor\": \"white\", \"linecolor\": \"white\", \"minorgridcolor\": \"white\", \"startlinecolor\": \"#2a3f5f\"}, \"baxis\": {\"endlinecolor\": \"#2a3f5f\", \"gridcolor\": \"white\", \"linecolor\": \"white\", \"minorgridcolor\": \"white\", \"startlinecolor\": \"#2a3f5f\"}, \"type\": \"carpet\"}], \"choropleth\": [{\"colorbar\": {\"outlinewidth\": 0, \"ticks\": \"\"}, \"type\": \"choropleth\"}], \"contour\": [{\"colorbar\": {\"outlinewidth\": 0, \"ticks\": \"\"}, \"colorscale\": [[0.0, \"#0d0887\"], [0.1111111111111111, \"#46039f\"], [0.2222222222222222, \"#7201a8\"], [0.3333333333333333, \"#9c179e\"], [0.4444444444444444, \"#bd3786\"], [0.5555555555555556, \"#d8576b\"], [0.6666666666666666, \"#ed7953\"], [0.7777777777777778, \"#fb9f3a\"], [0.8888888888888888, \"#fdca26\"], [1.0, \"#f0f921\"]], \"type\": \"contour\"}], \"contourcarpet\": [{\"colorbar\": {\"outlinewidth\": 0, \"ticks\": \"\"}, \"type\": \"contourcarpet\"}], \"heatmap\": [{\"colorbar\": {\"outlinewidth\": 0, \"ticks\": \"\"}, \"colorscale\": [[0.0, \"#0d0887\"], [0.1111111111111111, \"#46039f\"], [0.2222222222222222, \"#7201a8\"], [0.3333333333333333, \"#9c179e\"], [0.4444444444444444, \"#bd3786\"], [0.5555555555555556, \"#d8576b\"], [0.6666666666666666, \"#ed7953\"], [0.7777777777777778, \"#fb9f3a\"], [0.8888888888888888, \"#fdca26\"], [1.0, \"#f0f921\"]], \"type\": \"heatmap\"}], \"heatmapgl\": [{\"colorbar\": {\"outlinewidth\": 0, \"ticks\": \"\"}, \"colorscale\": [[0.0, \"#0d0887\"], [0.1111111111111111, \"#46039f\"], [0.2222222222222222, \"#7201a8\"], [0.3333333333333333, \"#9c179e\"], [0.4444444444444444, \"#bd3786\"], [0.5555555555555556, \"#d8576b\"], [0.6666666666666666, \"#ed7953\"], [0.7777777777777778, \"#fb9f3a\"], [0.8888888888888888, \"#fdca26\"], [1.0, \"#f0f921\"]], \"type\": \"heatmapgl\"}], \"histogram\": [{\"marker\": {\"colorbar\": {\"outlinewidth\": 0, \"ticks\": \"\"}}, \"type\": \"histogram\"}], \"histogram2d\": [{\"colorbar\": {\"outlinewidth\": 0, \"ticks\": \"\"}, \"colorscale\": [[0.0, \"#0d0887\"], [0.1111111111111111, \"#46039f\"], [0.2222222222222222, \"#7201a8\"], [0.3333333333333333, \"#9c179e\"], [0.4444444444444444, \"#bd3786\"], [0.5555555555555556, \"#d8576b\"], [0.6666666666666666, \"#ed7953\"], [0.7777777777777778, \"#fb9f3a\"], [0.8888888888888888, \"#fdca26\"], [1.0, \"#f0f921\"]], \"type\": \"histogram2d\"}], \"histogram2dcontour\": [{\"colorbar\": {\"outlinewidth\": 0, \"ticks\": \"\"}, \"colorscale\": [[0.0, \"#0d0887\"], [0.1111111111111111, \"#46039f\"], [0.2222222222222222, \"#7201a8\"], [0.3333333333333333, \"#9c179e\"], [0.4444444444444444, \"#bd3786\"], [0.5555555555555556, \"#d8576b\"], [0.6666666666666666, \"#ed7953\"], [0.7777777777777778, \"#fb9f3a\"], [0.8888888888888888, \"#fdca26\"], [1.0, \"#f0f921\"]], \"type\": \"histogram2dcontour\"}], \"mesh3d\": [{\"colorbar\": {\"outlinewidth\": 0, \"ticks\": \"\"}, \"type\": \"mesh3d\"}], \"parcoords\": [{\"line\": {\"colorbar\": {\"outlinewidth\": 0, \"ticks\": \"\"}}, \"type\": \"parcoords\"}], \"scatter\": [{\"marker\": {\"colorbar\": {\"outlinewidth\": 0, \"ticks\": \"\"}}, \"type\": \"scatter\"}], \"scatter3d\": [{\"line\": {\"colorbar\": {\"outlinewidth\": 0, \"ticks\": \"\"}}, \"marker\": {\"colorbar\": {\"outlinewidth\": 0, \"ticks\": \"\"}}, \"type\": \"scatter3d\"}], \"scattercarpet\": [{\"marker\": {\"colorbar\": {\"outlinewidth\": 0, \"ticks\": \"\"}}, \"type\": \"scattercarpet\"}], \"scattergeo\": [{\"marker\": {\"colorbar\": {\"outlinewidth\": 0, \"ticks\": \"\"}}, \"type\": \"scattergeo\"}], \"scattergl\": [{\"marker\": {\"colorbar\": {\"outlinewidth\": 0, \"ticks\": \"\"}}, \"type\": \"scattergl\"}], \"scattermapbox\": [{\"marker\": {\"colorbar\": {\"outlinewidth\": 0, \"ticks\": \"\"}}, \"type\": \"scattermapbox\"}], \"scatterpolar\": [{\"marker\": {\"colorbar\": {\"outlinewidth\": 0, \"ticks\": \"\"}}, \"type\": \"scatterpolar\"}], \"scatterpolargl\": [{\"marker\": {\"colorbar\": {\"outlinewidth\": 0, \"ticks\": \"\"}}, \"type\": \"scatterpolargl\"}], \"scatterternary\": [{\"marker\": {\"colorbar\": {\"outlinewidth\": 0, \"ticks\": \"\"}}, \"type\": \"scatterternary\"}], \"surface\": [{\"colorbar\": {\"outlinewidth\": 0, \"ticks\": \"\"}, \"colorscale\": [[0.0, \"#0d0887\"], [0.1111111111111111, \"#46039f\"], [0.2222222222222222, \"#7201a8\"], [0.3333333333333333, \"#9c179e\"], [0.4444444444444444, \"#bd3786\"], [0.5555555555555556, \"#d8576b\"], [0.6666666666666666, \"#ed7953\"], [0.7777777777777778, \"#fb9f3a\"], [0.8888888888888888, \"#fdca26\"], [1.0, \"#f0f921\"]], \"type\": \"surface\"}], \"table\": [{\"cells\": {\"fill\": {\"color\": \"#EBF0F8\"}, \"line\": {\"color\": \"white\"}}, \"header\": {\"fill\": {\"color\": \"#C8D4E3\"}, \"line\": {\"color\": \"white\"}}, \"type\": \"table\"}]}, \"layout\": {\"annotationdefaults\": {\"arrowcolor\": \"#2a3f5f\", \"arrowhead\": 0, \"arrowwidth\": 1}, \"colorscale\": {\"diverging\": [[0, \"#8e0152\"], [0.1, \"#c51b7d\"], [0.2, \"#de77ae\"], [0.3, \"#f1b6da\"], [0.4, \"#fde0ef\"], [0.5, \"#f7f7f7\"], [0.6, \"#e6f5d0\"], [0.7, \"#b8e186\"], [0.8, \"#7fbc41\"], [0.9, \"#4d9221\"], [1, \"#276419\"]], \"sequential\": [[0.0, \"#0d0887\"], [0.1111111111111111, \"#46039f\"], [0.2222222222222222, \"#7201a8\"], [0.3333333333333333, \"#9c179e\"], [0.4444444444444444, \"#bd3786\"], [0.5555555555555556, \"#d8576b\"], [0.6666666666666666, \"#ed7953\"], [0.7777777777777778, \"#fb9f3a\"], [0.8888888888888888, \"#fdca26\"], [1.0, \"#f0f921\"]], \"sequentialminus\": [[0.0, \"#0d0887\"], [0.1111111111111111, \"#46039f\"], [0.2222222222222222, \"#7201a8\"], [0.3333333333333333, \"#9c179e\"], [0.4444444444444444, \"#bd3786\"], [0.5555555555555556, \"#d8576b\"], [0.6666666666666666, \"#ed7953\"], [0.7777777777777778, \"#fb9f3a\"], [0.8888888888888888, \"#fdca26\"], [1.0, \"#f0f921\"]]}, \"colorway\": [\"#636efa\", \"#EF553B\", \"#00cc96\", \"#ab63fa\", \"#FFA15A\", \"#19d3f3\", \"#FF6692\", \"#B6E880\", \"#FF97FF\", \"#FECB52\"], \"font\": {\"color\": \"#2a3f5f\"}, \"geo\": {\"bgcolor\": \"white\", \"lakecolor\": \"white\", \"landcolor\": \"#E5ECF6\", \"showlakes\": true, \"showland\": true, \"subunitcolor\": \"white\"}, \"hoverlabel\": {\"align\": \"left\"}, \"hovermode\": \"closest\", \"mapbox\": {\"style\": \"light\"}, \"paper_bgcolor\": \"white\", \"plot_bgcolor\": \"#E5ECF6\", \"polar\": {\"angularaxis\": {\"gridcolor\": \"white\", \"linecolor\": \"white\", \"ticks\": \"\"}, \"bgcolor\": \"#E5ECF6\", \"radialaxis\": {\"gridcolor\": \"white\", \"linecolor\": \"white\", \"ticks\": \"\"}}, \"scene\": {\"xaxis\": {\"backgroundcolor\": \"#E5ECF6\", \"gridcolor\": \"white\", \"gridwidth\": 2, \"linecolor\": \"white\", \"showbackground\": true, \"ticks\": \"\", \"zerolinecolor\": \"white\"}, \"yaxis\": {\"backgroundcolor\": \"#E5ECF6\", \"gridcolor\": \"white\", \"gridwidth\": 2, \"linecolor\": \"white\", \"showbackground\": true, \"ticks\": \"\", \"zerolinecolor\": \"white\"}, \"zaxis\": {\"backgroundcolor\": \"#E5ECF6\", \"gridcolor\": \"white\", \"gridwidth\": 2, \"linecolor\": \"white\", \"showbackground\": true, \"ticks\": \"\", \"zerolinecolor\": \"white\"}}, \"shapedefaults\": {\"line\": {\"color\": \"#2a3f5f\"}}, \"ternary\": {\"aaxis\": {\"gridcolor\": \"white\", \"linecolor\": \"white\", \"ticks\": \"\"}, \"baxis\": {\"gridcolor\": \"white\", \"linecolor\": \"white\", \"ticks\": \"\"}, \"bgcolor\": \"#E5ECF6\", \"caxis\": {\"gridcolor\": \"white\", \"linecolor\": \"white\", \"ticks\": \"\"}}, \"title\": {\"x\": 0.05}, \"xaxis\": {\"automargin\": true, \"gridcolor\": \"white\", \"linecolor\": \"white\", \"ticks\": \"\", \"zerolinecolor\": \"white\", \"zerolinewidth\": 2}, \"yaxis\": {\"automargin\": true, \"gridcolor\": \"white\", \"linecolor\": \"white\", \"ticks\": \"\", \"zerolinecolor\": \"white\", \"zerolinewidth\": 2}}}, \"title\": {\"text\": \"Valores de silhueta m\\u00e9dios\"}, \"xaxis\": {\"title\": {\"text\": \"N\\u00famero de cl\\u00fasteres\"}}, \"yaxis\": {\"title\": {\"text\": \"Valor m\\u00e9dio de silhueta\"}}},\n",
              "                        {\"responsive\": true}\n",
              "                    ).then(function(){\n",
              "                            \n",
              "var gd = document.getElementById('67d7ff57-44ff-4581-a14e-03c80dbed258');\n",
              "var x = new MutationObserver(function (mutations, observer) {{\n",
              "        var display = window.getComputedStyle(gd).display;\n",
              "        if (!display || display === 'none') {{\n",
              "            console.log([gd, 'removed!']);\n",
              "            Plotly.purge(gd);\n",
              "            observer.disconnect();\n",
              "        }}\n",
              "}});\n",
              "\n",
              "// Listen for the removal of the full notebook cells\n",
              "var notebookContainer = gd.closest('#notebook-container');\n",
              "if (notebookContainer) {{\n",
              "    x.observe(notebookContainer, {childList: true});\n",
              "}}\n",
              "\n",
              "// Listen for the clearing of the current output cell\n",
              "var outputEl = gd.closest('.output');\n",
              "if (outputEl) {{\n",
              "    x.observe(outputEl, {childList: true});\n",
              "}}\n",
              "\n",
              "                        })\n",
              "                };\n",
              "                \n",
              "            </script>\n",
              "        </div>\n",
              "</body>\n",
              "</html>"
            ]
          },
          "metadata": {}
        }
      ]
    },
    {
      "cell_type": "markdown",
      "metadata": {
        "id": "YviTi5tN6MbW"
      },
      "source": [
        "Coeficiente de silhueta em Mean-Shift"
      ]
    },
    {
      "cell_type": "code",
      "metadata": {
        "colab": {
          "base_uri": "https://localhost:8080/"
        },
        "id": "QYiGFdx63g_r",
        "outputId": "af1ba723-e715-48be-dd3c-9483789f967a"
      },
      "source": [
        "faixa_quantil = np.linspace(0.02, 0.5, 30)\n",
        "faixa_quantil"
      ],
      "execution_count": 55,
      "outputs": [
        {
          "output_type": "execute_result",
          "data": {
            "text/plain": [
              "array([0.02      , 0.03655172, 0.05310345, 0.06965517, 0.0862069 ,\n",
              "       0.10275862, 0.11931034, 0.13586207, 0.15241379, 0.16896552,\n",
              "       0.18551724, 0.20206897, 0.21862069, 0.23517241, 0.25172414,\n",
              "       0.26827586, 0.28482759, 0.30137931, 0.31793103, 0.33448276,\n",
              "       0.35103448, 0.36758621, 0.38413793, 0.40068966, 0.41724138,\n",
              "       0.4337931 , 0.45034483, 0.46689655, 0.48344828, 0.5       ])"
            ]
          },
          "metadata": {},
          "execution_count": 55
        }
      ]
    },
    {
      "cell_type": "code",
      "metadata": {
        "id": "QIjdR_Po4xE8"
      },
      "source": [
        "valores_silhueta = []\n",
        "quantil_plot = []\n",
        "\n",
        "for quantil in faixa_quantil:\n",
        "  bandwidth = estimate_bandwidth(df, quantile = quantil)\n",
        "  agrupador = MeanShift(bandwidth)\n",
        "  labels = agrupador.fit_predict(df)\n",
        "  if(len(np.unique(labels)) < len(df) and len(np.unique(labels)) > 1):\n",
        "    media_silhueta = silhouette_score(df, labels)\n",
        "    valores_silhueta.append(media_silhueta)\n",
        "    quantil_plot.append(quantil)"
      ],
      "execution_count": 56,
      "outputs": []
    },
    {
      "cell_type": "code",
      "metadata": {
        "colab": {
          "base_uri": "https://localhost:8080/",
          "height": 542
        },
        "id": "fsUSP3sB5xcU",
        "outputId": "9d39c535-edec-4599-ce8a-3e3579c23dbd"
      },
      "source": [
        "fig = go.Figure()\n",
        "fig.add_trace(go.Scatter(x = quantil_plot, y  = valores_silhueta))\n",
        "fig.update_layout(dict(xaxis_title = \"Quantil\",\n",
        "                       yaxis_title = \"Valor médio de silhueta\"))\n",
        "fig.show()\n"
      ],
      "execution_count": 57,
      "outputs": [
        {
          "output_type": "display_data",
          "data": {
            "text/html": [
              "<html>\n",
              "<head><meta charset=\"utf-8\" /></head>\n",
              "<body>\n",
              "    <div>\n",
              "            <script src=\"https://cdnjs.cloudflare.com/ajax/libs/mathjax/2.7.5/MathJax.js?config=TeX-AMS-MML_SVG\"></script><script type=\"text/javascript\">if (window.MathJax) {MathJax.Hub.Config({SVG: {font: \"STIX-Web\"}});}</script>\n",
              "                <script type=\"text/javascript\">window.PlotlyConfig = {MathJaxConfig: 'local'};</script>\n",
              "        <script src=\"https://cdn.plot.ly/plotly-latest.min.js\"></script>    \n",
              "            <div id=\"5b1e0793-1e05-4a06-bccb-804f4f6b0c62\" class=\"plotly-graph-div\" style=\"height:525px; width:100%;\"></div>\n",
              "            <script type=\"text/javascript\">\n",
              "                \n",
              "                    window.PLOTLYENV=window.PLOTLYENV || {};\n",
              "                    \n",
              "                if (document.getElementById(\"5b1e0793-1e05-4a06-bccb-804f4f6b0c62\")) {\n",
              "                    Plotly.newPlot(\n",
              "                        '5b1e0793-1e05-4a06-bccb-804f4f6b0c62',\n",
              "                        [{\"type\": \"scatter\", \"x\": [0.02, 0.036551724137931035, 0.05310344827586207, 0.06965517241379311, 0.08620689655172414, 0.10275862068965518, 0.11931034482758622, 0.13586206896551725, 0.15241379310344827, 0.16896551724137931, 0.18551724137931033, 0.20206896551724138, 0.21862068965517242, 0.23517241379310344, 0.2517241379310345, 0.26827586206896553, 0.2848275862068966, 0.3013793103448276, 0.31793103448275867], \"y\": [0.0688577221871855, 0.12695730208514433, 0.21222500077088094, 0.22860936882672134, 0.23175840581451423, 0.24240075989450527, 0.2415047883060417, 0.2806108487403229, 0.29012683820901636, 0.3145807263039277, 0.3448247813495863, 0.34353173543532023, 0.34353173543532023, 0.20305945108914134, 0.22791764552102659, 0.30638538825691164, 0.30672378482144275, 0.20758352839192912, 0.20758352839192912]}],\n",
              "                        {\"template\": {\"data\": {\"bar\": [{\"error_x\": {\"color\": \"#2a3f5f\"}, \"error_y\": {\"color\": \"#2a3f5f\"}, \"marker\": {\"line\": {\"color\": \"#E5ECF6\", \"width\": 0.5}}, \"type\": \"bar\"}], \"barpolar\": [{\"marker\": {\"line\": {\"color\": \"#E5ECF6\", \"width\": 0.5}}, \"type\": \"barpolar\"}], \"carpet\": [{\"aaxis\": {\"endlinecolor\": \"#2a3f5f\", \"gridcolor\": \"white\", \"linecolor\": \"white\", \"minorgridcolor\": \"white\", \"startlinecolor\": \"#2a3f5f\"}, \"baxis\": {\"endlinecolor\": \"#2a3f5f\", \"gridcolor\": \"white\", \"linecolor\": \"white\", \"minorgridcolor\": \"white\", \"startlinecolor\": \"#2a3f5f\"}, \"type\": \"carpet\"}], \"choropleth\": [{\"colorbar\": {\"outlinewidth\": 0, \"ticks\": \"\"}, \"type\": \"choropleth\"}], \"contour\": [{\"colorbar\": {\"outlinewidth\": 0, \"ticks\": \"\"}, \"colorscale\": [[0.0, \"#0d0887\"], [0.1111111111111111, \"#46039f\"], [0.2222222222222222, \"#7201a8\"], [0.3333333333333333, \"#9c179e\"], [0.4444444444444444, \"#bd3786\"], [0.5555555555555556, \"#d8576b\"], [0.6666666666666666, \"#ed7953\"], [0.7777777777777778, \"#fb9f3a\"], [0.8888888888888888, \"#fdca26\"], [1.0, \"#f0f921\"]], \"type\": \"contour\"}], \"contourcarpet\": [{\"colorbar\": {\"outlinewidth\": 0, \"ticks\": \"\"}, \"type\": \"contourcarpet\"}], \"heatmap\": [{\"colorbar\": {\"outlinewidth\": 0, \"ticks\": \"\"}, \"colorscale\": [[0.0, \"#0d0887\"], [0.1111111111111111, \"#46039f\"], [0.2222222222222222, \"#7201a8\"], [0.3333333333333333, \"#9c179e\"], [0.4444444444444444, \"#bd3786\"], [0.5555555555555556, \"#d8576b\"], [0.6666666666666666, \"#ed7953\"], [0.7777777777777778, \"#fb9f3a\"], [0.8888888888888888, \"#fdca26\"], [1.0, \"#f0f921\"]], \"type\": \"heatmap\"}], \"heatmapgl\": [{\"colorbar\": {\"outlinewidth\": 0, \"ticks\": \"\"}, \"colorscale\": [[0.0, \"#0d0887\"], [0.1111111111111111, \"#46039f\"], [0.2222222222222222, \"#7201a8\"], [0.3333333333333333, \"#9c179e\"], [0.4444444444444444, \"#bd3786\"], [0.5555555555555556, \"#d8576b\"], [0.6666666666666666, \"#ed7953\"], [0.7777777777777778, \"#fb9f3a\"], [0.8888888888888888, \"#fdca26\"], [1.0, \"#f0f921\"]], \"type\": \"heatmapgl\"}], \"histogram\": [{\"marker\": {\"colorbar\": {\"outlinewidth\": 0, \"ticks\": \"\"}}, \"type\": \"histogram\"}], \"histogram2d\": [{\"colorbar\": {\"outlinewidth\": 0, \"ticks\": \"\"}, \"colorscale\": [[0.0, \"#0d0887\"], [0.1111111111111111, \"#46039f\"], [0.2222222222222222, \"#7201a8\"], [0.3333333333333333, \"#9c179e\"], [0.4444444444444444, \"#bd3786\"], [0.5555555555555556, \"#d8576b\"], [0.6666666666666666, \"#ed7953\"], [0.7777777777777778, \"#fb9f3a\"], [0.8888888888888888, \"#fdca26\"], [1.0, \"#f0f921\"]], \"type\": \"histogram2d\"}], \"histogram2dcontour\": [{\"colorbar\": {\"outlinewidth\": 0, \"ticks\": \"\"}, \"colorscale\": [[0.0, \"#0d0887\"], [0.1111111111111111, \"#46039f\"], [0.2222222222222222, \"#7201a8\"], [0.3333333333333333, \"#9c179e\"], [0.4444444444444444, \"#bd3786\"], [0.5555555555555556, \"#d8576b\"], [0.6666666666666666, \"#ed7953\"], [0.7777777777777778, \"#fb9f3a\"], [0.8888888888888888, \"#fdca26\"], [1.0, \"#f0f921\"]], \"type\": \"histogram2dcontour\"}], \"mesh3d\": [{\"colorbar\": {\"outlinewidth\": 0, \"ticks\": \"\"}, \"type\": \"mesh3d\"}], \"parcoords\": [{\"line\": {\"colorbar\": {\"outlinewidth\": 0, \"ticks\": \"\"}}, \"type\": \"parcoords\"}], \"scatter\": [{\"marker\": {\"colorbar\": {\"outlinewidth\": 0, \"ticks\": \"\"}}, \"type\": \"scatter\"}], \"scatter3d\": [{\"line\": {\"colorbar\": {\"outlinewidth\": 0, \"ticks\": \"\"}}, \"marker\": {\"colorbar\": {\"outlinewidth\": 0, \"ticks\": \"\"}}, \"type\": \"scatter3d\"}], \"scattercarpet\": [{\"marker\": {\"colorbar\": {\"outlinewidth\": 0, \"ticks\": \"\"}}, \"type\": \"scattercarpet\"}], \"scattergeo\": [{\"marker\": {\"colorbar\": {\"outlinewidth\": 0, \"ticks\": \"\"}}, \"type\": \"scattergeo\"}], \"scattergl\": [{\"marker\": {\"colorbar\": {\"outlinewidth\": 0, \"ticks\": \"\"}}, \"type\": \"scattergl\"}], \"scattermapbox\": [{\"marker\": {\"colorbar\": {\"outlinewidth\": 0, \"ticks\": \"\"}}, \"type\": \"scattermapbox\"}], \"scatterpolar\": [{\"marker\": {\"colorbar\": {\"outlinewidth\": 0, \"ticks\": \"\"}}, \"type\": \"scatterpolar\"}], \"scatterpolargl\": [{\"marker\": {\"colorbar\": {\"outlinewidth\": 0, \"ticks\": \"\"}}, \"type\": \"scatterpolargl\"}], \"scatterternary\": [{\"marker\": {\"colorbar\": {\"outlinewidth\": 0, \"ticks\": \"\"}}, \"type\": \"scatterternary\"}], \"surface\": [{\"colorbar\": {\"outlinewidth\": 0, \"ticks\": \"\"}, \"colorscale\": [[0.0, \"#0d0887\"], [0.1111111111111111, \"#46039f\"], [0.2222222222222222, \"#7201a8\"], [0.3333333333333333, \"#9c179e\"], [0.4444444444444444, \"#bd3786\"], [0.5555555555555556, \"#d8576b\"], [0.6666666666666666, \"#ed7953\"], [0.7777777777777778, \"#fb9f3a\"], [0.8888888888888888, \"#fdca26\"], [1.0, \"#f0f921\"]], \"type\": \"surface\"}], \"table\": [{\"cells\": {\"fill\": {\"color\": \"#EBF0F8\"}, \"line\": {\"color\": \"white\"}}, \"header\": {\"fill\": {\"color\": \"#C8D4E3\"}, \"line\": {\"color\": \"white\"}}, \"type\": \"table\"}]}, \"layout\": {\"annotationdefaults\": {\"arrowcolor\": \"#2a3f5f\", \"arrowhead\": 0, \"arrowwidth\": 1}, \"colorscale\": {\"diverging\": [[0, \"#8e0152\"], [0.1, \"#c51b7d\"], [0.2, \"#de77ae\"], [0.3, \"#f1b6da\"], [0.4, \"#fde0ef\"], [0.5, \"#f7f7f7\"], [0.6, \"#e6f5d0\"], [0.7, \"#b8e186\"], [0.8, \"#7fbc41\"], [0.9, \"#4d9221\"], [1, \"#276419\"]], \"sequential\": [[0.0, \"#0d0887\"], [0.1111111111111111, \"#46039f\"], [0.2222222222222222, \"#7201a8\"], [0.3333333333333333, \"#9c179e\"], [0.4444444444444444, \"#bd3786\"], [0.5555555555555556, \"#d8576b\"], [0.6666666666666666, \"#ed7953\"], [0.7777777777777778, \"#fb9f3a\"], [0.8888888888888888, \"#fdca26\"], [1.0, \"#f0f921\"]], \"sequentialminus\": [[0.0, \"#0d0887\"], [0.1111111111111111, \"#46039f\"], [0.2222222222222222, \"#7201a8\"], [0.3333333333333333, \"#9c179e\"], [0.4444444444444444, \"#bd3786\"], [0.5555555555555556, \"#d8576b\"], [0.6666666666666666, \"#ed7953\"], [0.7777777777777778, \"#fb9f3a\"], [0.8888888888888888, \"#fdca26\"], [1.0, \"#f0f921\"]]}, \"colorway\": [\"#636efa\", \"#EF553B\", \"#00cc96\", \"#ab63fa\", \"#FFA15A\", \"#19d3f3\", \"#FF6692\", \"#B6E880\", \"#FF97FF\", \"#FECB52\"], \"font\": {\"color\": \"#2a3f5f\"}, \"geo\": {\"bgcolor\": \"white\", \"lakecolor\": \"white\", \"landcolor\": \"#E5ECF6\", \"showlakes\": true, \"showland\": true, \"subunitcolor\": \"white\"}, \"hoverlabel\": {\"align\": \"left\"}, \"hovermode\": \"closest\", \"mapbox\": {\"style\": \"light\"}, \"paper_bgcolor\": \"white\", \"plot_bgcolor\": \"#E5ECF6\", \"polar\": {\"angularaxis\": {\"gridcolor\": \"white\", \"linecolor\": \"white\", \"ticks\": \"\"}, \"bgcolor\": \"#E5ECF6\", \"radialaxis\": {\"gridcolor\": \"white\", \"linecolor\": \"white\", \"ticks\": \"\"}}, \"scene\": {\"xaxis\": {\"backgroundcolor\": \"#E5ECF6\", \"gridcolor\": \"white\", \"gridwidth\": 2, \"linecolor\": \"white\", \"showbackground\": true, \"ticks\": \"\", \"zerolinecolor\": \"white\"}, \"yaxis\": {\"backgroundcolor\": \"#E5ECF6\", \"gridcolor\": \"white\", \"gridwidth\": 2, \"linecolor\": \"white\", \"showbackground\": true, \"ticks\": \"\", \"zerolinecolor\": \"white\"}, \"zaxis\": {\"backgroundcolor\": \"#E5ECF6\", \"gridcolor\": \"white\", \"gridwidth\": 2, \"linecolor\": \"white\", \"showbackground\": true, \"ticks\": \"\", \"zerolinecolor\": \"white\"}}, \"shapedefaults\": {\"line\": {\"color\": \"#2a3f5f\"}}, \"ternary\": {\"aaxis\": {\"gridcolor\": \"white\", \"linecolor\": \"white\", \"ticks\": \"\"}, \"baxis\": {\"gridcolor\": \"white\", \"linecolor\": \"white\", \"ticks\": \"\"}, \"bgcolor\": \"#E5ECF6\", \"caxis\": {\"gridcolor\": \"white\", \"linecolor\": \"white\", \"ticks\": \"\"}}, \"title\": {\"x\": 0.05}, \"xaxis\": {\"automargin\": true, \"gridcolor\": \"white\", \"linecolor\": \"white\", \"ticks\": \"\", \"zerolinecolor\": \"white\", \"zerolinewidth\": 2}, \"yaxis\": {\"automargin\": true, \"gridcolor\": \"white\", \"linecolor\": \"white\", \"ticks\": \"\", \"zerolinecolor\": \"white\", \"zerolinewidth\": 2}}}, \"xaxis\": {\"title\": {\"text\": \"Quantil\"}}, \"yaxis\": {\"title\": {\"text\": \"Valor m\\u00e9dio de silhueta\"}}},\n",
              "                        {\"responsive\": true}\n",
              "                    ).then(function(){\n",
              "                            \n",
              "var gd = document.getElementById('5b1e0793-1e05-4a06-bccb-804f4f6b0c62');\n",
              "var x = new MutationObserver(function (mutations, observer) {{\n",
              "        var display = window.getComputedStyle(gd).display;\n",
              "        if (!display || display === 'none') {{\n",
              "            console.log([gd, 'removed!']);\n",
              "            Plotly.purge(gd);\n",
              "            observer.disconnect();\n",
              "        }}\n",
              "}});\n",
              "\n",
              "// Listen for the removal of the full notebook cells\n",
              "var notebookContainer = gd.closest('#notebook-container');\n",
              "if (notebookContainer) {{\n",
              "    x.observe(notebookContainer, {childList: true});\n",
              "}}\n",
              "\n",
              "// Listen for the clearing of the current output cell\n",
              "var outputEl = gd.closest('.output');\n",
              "if (outputEl) {{\n",
              "    x.observe(outputEl, {childList: true});\n",
              "}}\n",
              "\n",
              "                        })\n",
              "                };\n",
              "                \n",
              "            </script>\n",
              "        </div>\n",
              "</body>\n",
              "</html>"
            ]
          },
          "metadata": {}
        }
      ]
    },
    {
      "cell_type": "markdown",
      "metadata": {
        "id": "K1plQjq4BqV-"
      },
      "source": [
        "Coeficiente de silhueta para o DBSCAN"
      ]
    },
    {
      "cell_type": "code",
      "metadata": {
        "id": "PLjftg5iBpWo"
      },
      "source": [
        "#20 valores para cada parâmetro.\n",
        "faixa_min_samples = [i for i in range(1,100,5)]\n",
        "faixa_eps = [i/10 for i in range(1,100,1)]"
      ],
      "execution_count": 58,
      "outputs": []
    },
    {
      "cell_type": "code",
      "metadata": {
        "id": "66wchmWdBpUF"
      },
      "source": [
        "from sklearn.cluster import DBSCAN\n",
        "agrupador = DBSCAN(eps=100, min_samples = 15, metric = 'manhattan')\n"
      ],
      "execution_count": 59,
      "outputs": []
    },
    {
      "cell_type": "code",
      "metadata": {
        "id": "7Bb2lizOBpQw"
      },
      "source": [
        "from collections import Counter"
      ],
      "execution_count": 60,
      "outputs": []
    },
    {
      "cell_type": "code",
      "metadata": {
        "id": "gExcUsP7BpOJ"
      },
      "source": [
        "valores_silhueta = []\n",
        "eps_plot = []\n",
        "min_samples_plot = []\n",
        "for min_samples in faixa_min_samples:\n",
        "  for eps in faixa_eps:\n",
        "    labels = 0\n",
        "    agrupador = DBSCAN(eps = eps, min_samples = min_samples, metric = 'manhattan')\n",
        "    agrupador.fit_predict(df)\n",
        "    labels = agrupador.labels_\n",
        "    if(Counter(labels)[0] < len(df) and Counter(labels)[0] > 1): #porque não é possível calcular\n",
        "    # silhueta para apenas  um cluster ou para número de clústeres igual\n",
        "    # ao número de dados \n",
        "      media_silhueta = silhouette_score(df, labels)\n",
        "      valores_silhueta.append(media_silhueta)\n",
        "      eps_plot.append(eps)\n",
        "      min_samples_plot.append(min_samples)"
      ],
      "execution_count": 61,
      "outputs": []
    },
    {
      "cell_type": "code",
      "metadata": {
        "colab": {
          "base_uri": "https://localhost:8080/",
          "height": 542
        },
        "id": "74czOXd4BpFZ",
        "outputId": "3ff628c8-474d-48d7-ba52-5a9cd81603fa"
      },
      "source": [
        "ind = valores_silhueta.index(max(valores_silhueta))\n",
        "fig = go.Figure()\n",
        "fig.add_trace(go.Scatter3d(x=[min_samples_plot[ind]],\n",
        "                         y = [eps_plot[ind]], z = [max(valores_silhueta)],\n",
        "                         mode = 'markers',marker_line_color=\"midnightblue\", \n",
        "                          marker_symbol=['x']))\n",
        "fig.add_trace(go.Scatter3d(x=min_samples_plot,\n",
        "                         y = eps_plot, z = valores_silhueta,\n",
        "                         mode = 'markers',\n",
        "                        text = labels))\n",
        "fig.update_layout(scene = dict(\n",
        "                    xaxis_title='eps',\n",
        "                    yaxis_title='min_samples',\n",
        "                    zaxis_title='silhueta'))"
      ],
      "execution_count": 62,
      "outputs": [
        {
          "output_type": "display_data",
          "data": {
            "text/html": [
              "<html>\n",
              "<head><meta charset=\"utf-8\" /></head>\n",
              "<body>\n",
              "    <div>\n",
              "            <script src=\"https://cdnjs.cloudflare.com/ajax/libs/mathjax/2.7.5/MathJax.js?config=TeX-AMS-MML_SVG\"></script><script type=\"text/javascript\">if (window.MathJax) {MathJax.Hub.Config({SVG: {font: \"STIX-Web\"}});}</script>\n",
              "                <script type=\"text/javascript\">window.PlotlyConfig = {MathJaxConfig: 'local'};</script>\n",
              "        <script src=\"https://cdn.plot.ly/plotly-latest.min.js\"></script>    \n",
              "            <div id=\"0865f81c-3e06-4f4d-8b74-140917404e9c\" class=\"plotly-graph-div\" style=\"height:525px; width:100%;\"></div>\n",
              "            <script type=\"text/javascript\">\n",
              "                \n",
              "                    window.PLOTLYENV=window.PLOTLYENV || {};\n",
              "                    \n",
              "                if (document.getElementById(\"0865f81c-3e06-4f4d-8b74-140917404e9c\")) {\n",
              "                    Plotly.newPlot(\n",
              "                        '0865f81c-3e06-4f4d-8b74-140917404e9c',\n",
              "                        [{\"marker\": {\"line\": {\"color\": \"midnightblue\"}, \"symbol\": [\"x\"]}, \"mode\": \"markers\", \"type\": \"scatter3d\", \"x\": [81], \"y\": [2.7], \"z\": [0.3584231880254969]}, {\"mode\": \"markers\", \"text\": [0.0, 0.0, 0.0, 0.0, 0.0, 0.0, 0.0, 0.0, 0.0, 0.0, 0.0, 0.0, 0.0, 0.0, 0.0, 0.0, 0.0, 0.0, 0.0, 0.0, 0.0, 0.0, 0.0, 0.0, 0.0, 0.0, 0.0, 0.0, 0.0, 0.0, 0.0, 0.0, 0.0, 0.0, 0.0, 0.0, 0.0, 0.0, 0.0, 0.0, 0.0, 0.0, 0.0, 0.0, 0.0, 0.0, 0.0, 0.0, 0.0, 0.0, 0.0, 0.0, 0.0, 0.0, 0.0, 0.0, 0.0, 0.0, 0.0, 0.0, 0.0, 0.0, 0.0, 0.0, 0.0, 0.0, 0.0, 0.0, 0.0, 0.0, 0.0, 0.0, 0.0, 0.0, 0.0, 0.0, 0.0, 0.0, 0.0, 0.0, 0.0, 0.0, 0.0, 0.0, 0.0, 0.0, 0.0, 0.0, 0.0, 0.0, 0.0, 0.0, 0.0, 0.0, 0.0, 0.0, 0.0, 0.0, 0.0, 0.0, 0.0, 0.0, 0.0, 0.0, 0.0, 0.0, 0.0, 0.0, 0.0, 0.0, 0.0, 0.0, 0.0, 0.0, 0.0, 0.0, 0.0, 0.0, 0.0, 0.0, 0.0, 0.0, 0.0, 0.0, 0.0, 0.0, 0.0, 0.0, 0.0, 0.0, 0.0, 0.0, 0.0, 0.0, 0.0, 0.0, 0.0, 0.0, 0.0, 0.0, 0.0, 0.0, 0.0, 0.0, 0.0, 0.0, 0.0, 0.0, 0.0, 0.0, 0.0, 0.0, 0.0, 0.0, 0.0, 0.0, 0.0, 0.0, 0.0, 0.0, 0.0, 0.0, 0.0, 0.0, 0.0, 0.0, 0.0, 0.0, 0.0, 0.0, 0.0, 0.0, 0.0, 0.0, 0.0, 0.0, 0.0, 0.0], \"type\": \"scatter3d\", \"x\": [1, 1, 1, 1, 1, 1, 1, 1, 1, 1, 1, 1, 1, 1, 1, 1, 1, 1, 6, 6, 6, 6, 6, 6, 6, 6, 6, 6, 6, 6, 6, 6, 6, 6, 6, 11, 11, 11, 11, 11, 11, 11, 11, 11, 11, 11, 11, 11, 11, 11, 16, 16, 16, 16, 16, 16, 16, 16, 16, 16, 16, 16, 16, 16, 21, 21, 21, 21, 21, 21, 21, 21, 21, 21, 21, 21, 21, 26, 26, 26, 26, 26, 26, 26, 26, 26, 26, 26, 26, 31, 31, 31, 31, 31, 31, 31, 31, 31, 31, 31, 31, 36, 36, 36, 36, 36, 36, 36, 36, 36, 36, 36, 41, 41, 41, 41, 41, 41, 41, 41, 41, 41, 46, 46, 46, 46, 46, 46, 46, 46, 46, 46, 51, 51, 51, 51, 51, 51, 51, 51, 51, 56, 56, 56, 56, 56, 56, 56, 56, 61, 61, 61, 61, 61, 61, 61, 66, 66, 66, 66, 66, 71, 71, 71, 71, 71, 76, 76, 76, 76, 76, 76, 81, 81, 81, 81, 81, 81, 81, 86, 86, 86, 86, 86, 86, 86, 91, 91, 91, 91, 91, 91, 91, 91, 96, 96, 96, 96, 96, 96, 96, 96], \"y\": [0.8, 0.9, 1.0, 1.1, 1.2, 1.3, 1.4, 1.5, 1.6, 1.7, 1.8, 1.9, 2.0, 2.1, 2.2, 2.3, 2.4, 2.5, 0.9, 1.0, 1.1, 1.2, 1.3, 1.4, 1.5, 1.6, 1.7, 1.8, 1.9, 2.0, 2.1, 2.2, 2.3, 2.4, 2.5, 1.1, 1.2, 1.3, 1.4, 1.5, 1.6, 1.7, 1.8, 1.9, 2.0, 2.1, 2.2, 2.3, 2.4, 2.5, 1.2, 1.3, 1.4, 1.5, 1.6, 1.7, 1.8, 1.9, 2.0, 2.1, 2.2, 2.3, 2.4, 2.5, 1.3, 1.4, 1.5, 1.6, 1.7, 1.8, 1.9, 2.0, 2.1, 2.2, 2.3, 2.4, 2.5, 1.4, 1.5, 1.6, 1.7, 1.8, 1.9, 2.0, 2.1, 2.2, 2.3, 2.4, 2.5, 1.4, 1.5, 1.6, 1.7, 1.8, 1.9, 2.0, 2.1, 2.2, 2.3, 2.4, 2.5, 1.5, 1.6, 1.7, 1.8, 1.9, 2.0, 2.1, 2.2, 2.3, 2.4, 2.5, 1.6, 1.7, 1.8, 1.9, 2.0, 2.1, 2.2, 2.3, 2.4, 2.5, 1.7, 1.8, 1.9, 2.0, 2.1, 2.2, 2.3, 2.4, 2.5, 2.6, 1.8, 1.9, 2.0, 2.1, 2.2, 2.3, 2.4, 2.5, 2.6, 2.0, 2.1, 2.2, 2.3, 2.4, 2.5, 2.6, 2.7, 2.1, 2.2, 2.3, 2.4, 2.5, 2.6, 2.7, 2.3, 2.4, 2.5, 2.6, 2.7, 2.4, 2.5, 2.6, 2.7, 2.8, 2.4, 2.5, 2.6, 2.7, 2.8, 2.9, 2.5, 2.6, 2.7, 2.8, 2.9, 3.0, 3.1, 2.6, 2.7, 2.8, 2.9, 3.0, 3.1, 3.2, 2.6, 2.7, 2.8, 2.9, 3.0, 3.1, 3.2, 3.3, 2.7, 2.8, 2.9, 3.0, 3.1, 3.2, 3.3, 3.4], \"z\": [0.019387281906724015, -0.0026009597876848513, -0.02806084596076762, -0.019258444472573674, -0.0007421886386256019, 0.01269067698766932, 0.07364618073669295, 0.1007863920423311, 0.06227195838845276, -0.1122515328587503, -0.04338439271266378, -0.005294682036761652, 0.20758352839192912, 0.20758352839192912, 0.20758352839192912, 0.20758352839192912, 0.20758352839192912, 0.20758352839192912, -0.02276052495677908, -0.13465065553058306, -0.02461084771447791, 0.21863691123248494, 0.25334589567257365, 0.30210881473007994, 0.32443752978005824, 0.2648608863645271, 0.11363815716290288, 0.13148419369405415, 0.12605948807482117, 0.1579459134353909, 0.20758352839192912, 0.20758352839192912, 0.20758352839192912, 0.20758352839192912, 0.20758352839192912, 0.015694800518770965, 0.006469178331205172, 0.1261748506854543, 0.27927207765597084, 0.31620715684548834, 0.2572886558965892, 0.27492297969981455, 0.2777966273895371, 0.14306750060687573, 0.17393439192561513, 0.1579459134353909, 0.20758352839192912, 0.20758352839192912, 0.20758352839192912, 0.20758352839192912, 0.1852411237492228, 0.18515514296840016, 0.21285523641282755, 0.3080192528060571, 0.24386921220773564, 0.25519752302203663, 0.267986624218505, 0.2913331385271099, 0.2992920914351119, 0.1476458899203492, 0.20758352839192912, 0.20758352839192912, 0.20758352839192912, 0.20758352839192912, 0.19204928394429696, 0.20675942881304285, 0.19211589720802918, 0.23023777302515133, 0.25342893745720824, 0.26410432023222974, 0.2837731738732247, 0.2992920914351119, 0.1476458899203492, 0.1663427815131836, 0.20758352839192912, 0.20758352839192912, 0.20758352839192912, 0.23553479202547226, 0.30872606357814286, 0.2635037813971915, 0.2542034302222557, 0.26410432023222974, 0.27603675243587794, 0.28835496361079044, 0.1476458899203492, 0.1663427815131836, 0.1663427815131836, 0.20758352839192912, 0.20758352839192912, 0.20393439022727183, 0.2793984103533369, 0.3198594650284368, 0.3080125497348601, 0.25803527117176295, 0.2756058009020484, 0.28010248213497513, 0.264530345549868, 0.1663427815131836, 0.1663427815131836, 0.20758352839192912, 0.20758352839192912, 0.2606620994438232, 0.28267098242262734, 0.33241257514830136, 0.318683788682648, 0.26701828094827995, 0.2743469050374419, 0.28516776153905277, 0.1663427815131836, 0.1663427815131836, 0.20758352839192912, 0.20758352839192912, 0.28267098242262734, 0.2990517445224862, 0.33241257514830136, 0.2506328146910278, 0.27383379142531994, 0.2832902028091744, 0.1765061992741091, 0.1663427815131836, 0.1663427815131836, 0.20758352839192912, 0.28267098242262734, 0.3286876567511714, 0.29652876950227874, 0.30456551330928666, 0.325018883342126, 0.3022660161790951, 0.192818160880596, 0.1663427815131836, 0.20758352839192912, 0.20758352839192912, 0.305501100564629, 0.324916881006144, 0.2961336497052033, 0.31943705354650825, 0.32263842962088485, 0.3447331420629254, 0.31846119986133276, 0.16870097612950058, 0.21807794449586645, 0.3208838648303557, 0.3016232115094375, 0.3097717214788815, 0.3418928144577739, 0.3231582147731803, 0.28709176932956487, 0.16189071385311116, 0.20042949414728892, 0.08210844995976567, 0.0881837059597467, 0.30205880250138556, 0.3418928144577739, 0.2980610424939815, 0.15400137423938087, 0.1397283511697981, 0.09354623372971146, 0.3178001021512849, 0.3429825852485679, 0.2535279887654711, 0.1481583858616803, 0.13838373852982888, 0.34048620014858294, 0.332323142232895, 0.1481583858616803, 0.14157533249463047, 0.12493232235431215, 0.31043994905227046, 0.35457367765763875, 0.332323142232895, 0.14157533249463047, 0.1423921976994764, 0.1568929916449907, 0.18182752558968626, 0.3584231880254969, 0.14621221802294582, 0.149455886803757, 0.1423921976994764, 0.20042949414728892, 0.17137152271944364, 0.32535893112673275, 0.35763215111178304, 0.18920313132406594, 0.1423921976994764, 0.20042949414728892, 0.20042949414728892, 0.17137152271944364, 0.19990399596412023, 0.35462776704904486, 0.2890038925595783, 0.1423921976994764, 0.20042949414728892, 0.20042949414728892, 0.20042949414728892, 0.19990399596412023, 0.22838553913244555, 0.3437507636185441, 0.17394507904737733, 0.1623788193605902, 0.20042949414728892, 0.20042949414728892, 0.20042949414728892]}],\n",
              "                        {\"scene\": {\"xaxis\": {\"title\": {\"text\": \"eps\"}}, \"yaxis\": {\"title\": {\"text\": \"min_samples\"}}, \"zaxis\": {\"title\": {\"text\": \"silhueta\"}}}, \"template\": {\"data\": {\"bar\": [{\"error_x\": {\"color\": \"#2a3f5f\"}, \"error_y\": {\"color\": \"#2a3f5f\"}, \"marker\": {\"line\": {\"color\": \"#E5ECF6\", \"width\": 0.5}}, \"type\": \"bar\"}], \"barpolar\": [{\"marker\": {\"line\": {\"color\": \"#E5ECF6\", \"width\": 0.5}}, \"type\": \"barpolar\"}], \"carpet\": [{\"aaxis\": {\"endlinecolor\": \"#2a3f5f\", \"gridcolor\": \"white\", \"linecolor\": \"white\", \"minorgridcolor\": \"white\", \"startlinecolor\": \"#2a3f5f\"}, \"baxis\": {\"endlinecolor\": \"#2a3f5f\", \"gridcolor\": \"white\", \"linecolor\": \"white\", \"minorgridcolor\": \"white\", \"startlinecolor\": \"#2a3f5f\"}, \"type\": \"carpet\"}], \"choropleth\": [{\"colorbar\": {\"outlinewidth\": 0, \"ticks\": \"\"}, \"type\": \"choropleth\"}], \"contour\": [{\"colorbar\": {\"outlinewidth\": 0, \"ticks\": \"\"}, \"colorscale\": [[0.0, \"#0d0887\"], [0.1111111111111111, \"#46039f\"], [0.2222222222222222, \"#7201a8\"], [0.3333333333333333, \"#9c179e\"], [0.4444444444444444, \"#bd3786\"], [0.5555555555555556, \"#d8576b\"], [0.6666666666666666, \"#ed7953\"], [0.7777777777777778, \"#fb9f3a\"], [0.8888888888888888, \"#fdca26\"], [1.0, \"#f0f921\"]], \"type\": \"contour\"}], \"contourcarpet\": [{\"colorbar\": {\"outlinewidth\": 0, \"ticks\": \"\"}, \"type\": \"contourcarpet\"}], \"heatmap\": [{\"colorbar\": {\"outlinewidth\": 0, \"ticks\": \"\"}, \"colorscale\": [[0.0, \"#0d0887\"], [0.1111111111111111, \"#46039f\"], [0.2222222222222222, \"#7201a8\"], [0.3333333333333333, \"#9c179e\"], [0.4444444444444444, \"#bd3786\"], [0.5555555555555556, \"#d8576b\"], [0.6666666666666666, \"#ed7953\"], [0.7777777777777778, \"#fb9f3a\"], [0.8888888888888888, \"#fdca26\"], [1.0, \"#f0f921\"]], \"type\": \"heatmap\"}], \"heatmapgl\": [{\"colorbar\": {\"outlinewidth\": 0, \"ticks\": \"\"}, \"colorscale\": [[0.0, \"#0d0887\"], [0.1111111111111111, \"#46039f\"], [0.2222222222222222, \"#7201a8\"], [0.3333333333333333, \"#9c179e\"], [0.4444444444444444, \"#bd3786\"], [0.5555555555555556, \"#d8576b\"], [0.6666666666666666, \"#ed7953\"], [0.7777777777777778, \"#fb9f3a\"], [0.8888888888888888, \"#fdca26\"], [1.0, \"#f0f921\"]], \"type\": \"heatmapgl\"}], \"histogram\": [{\"marker\": {\"colorbar\": {\"outlinewidth\": 0, \"ticks\": \"\"}}, \"type\": \"histogram\"}], \"histogram2d\": [{\"colorbar\": {\"outlinewidth\": 0, \"ticks\": \"\"}, \"colorscale\": [[0.0, \"#0d0887\"], [0.1111111111111111, \"#46039f\"], [0.2222222222222222, \"#7201a8\"], [0.3333333333333333, \"#9c179e\"], [0.4444444444444444, \"#bd3786\"], [0.5555555555555556, \"#d8576b\"], [0.6666666666666666, \"#ed7953\"], [0.7777777777777778, \"#fb9f3a\"], [0.8888888888888888, \"#fdca26\"], [1.0, \"#f0f921\"]], \"type\": \"histogram2d\"}], \"histogram2dcontour\": [{\"colorbar\": {\"outlinewidth\": 0, \"ticks\": \"\"}, \"colorscale\": [[0.0, \"#0d0887\"], [0.1111111111111111, \"#46039f\"], [0.2222222222222222, \"#7201a8\"], [0.3333333333333333, \"#9c179e\"], [0.4444444444444444, \"#bd3786\"], [0.5555555555555556, \"#d8576b\"], [0.6666666666666666, \"#ed7953\"], [0.7777777777777778, \"#fb9f3a\"], [0.8888888888888888, \"#fdca26\"], [1.0, \"#f0f921\"]], \"type\": \"histogram2dcontour\"}], \"mesh3d\": [{\"colorbar\": {\"outlinewidth\": 0, \"ticks\": \"\"}, \"type\": \"mesh3d\"}], \"parcoords\": [{\"line\": {\"colorbar\": {\"outlinewidth\": 0, \"ticks\": \"\"}}, \"type\": \"parcoords\"}], \"scatter\": [{\"marker\": {\"colorbar\": {\"outlinewidth\": 0, \"ticks\": \"\"}}, \"type\": \"scatter\"}], \"scatter3d\": [{\"line\": {\"colorbar\": {\"outlinewidth\": 0, \"ticks\": \"\"}}, \"marker\": {\"colorbar\": {\"outlinewidth\": 0, \"ticks\": \"\"}}, \"type\": \"scatter3d\"}], \"scattercarpet\": [{\"marker\": {\"colorbar\": {\"outlinewidth\": 0, \"ticks\": \"\"}}, \"type\": \"scattercarpet\"}], \"scattergeo\": [{\"marker\": {\"colorbar\": {\"outlinewidth\": 0, \"ticks\": \"\"}}, \"type\": \"scattergeo\"}], \"scattergl\": [{\"marker\": {\"colorbar\": {\"outlinewidth\": 0, \"ticks\": \"\"}}, \"type\": \"scattergl\"}], \"scattermapbox\": [{\"marker\": {\"colorbar\": {\"outlinewidth\": 0, \"ticks\": \"\"}}, \"type\": \"scattermapbox\"}], \"scatterpolar\": [{\"marker\": {\"colorbar\": {\"outlinewidth\": 0, \"ticks\": \"\"}}, \"type\": \"scatterpolar\"}], \"scatterpolargl\": [{\"marker\": {\"colorbar\": {\"outlinewidth\": 0, \"ticks\": \"\"}}, \"type\": \"scatterpolargl\"}], \"scatterternary\": [{\"marker\": {\"colorbar\": {\"outlinewidth\": 0, \"ticks\": \"\"}}, \"type\": \"scatterternary\"}], \"surface\": [{\"colorbar\": {\"outlinewidth\": 0, \"ticks\": \"\"}, \"colorscale\": [[0.0, \"#0d0887\"], [0.1111111111111111, \"#46039f\"], [0.2222222222222222, \"#7201a8\"], [0.3333333333333333, \"#9c179e\"], [0.4444444444444444, \"#bd3786\"], [0.5555555555555556, \"#d8576b\"], [0.6666666666666666, \"#ed7953\"], [0.7777777777777778, \"#fb9f3a\"], [0.8888888888888888, \"#fdca26\"], [1.0, \"#f0f921\"]], \"type\": \"surface\"}], \"table\": [{\"cells\": {\"fill\": {\"color\": \"#EBF0F8\"}, \"line\": {\"color\": \"white\"}}, \"header\": {\"fill\": {\"color\": \"#C8D4E3\"}, \"line\": {\"color\": \"white\"}}, \"type\": \"table\"}]}, \"layout\": {\"annotationdefaults\": {\"arrowcolor\": \"#2a3f5f\", \"arrowhead\": 0, \"arrowwidth\": 1}, \"colorscale\": {\"diverging\": [[0, \"#8e0152\"], [0.1, \"#c51b7d\"], [0.2, \"#de77ae\"], [0.3, \"#f1b6da\"], [0.4, \"#fde0ef\"], [0.5, \"#f7f7f7\"], [0.6, \"#e6f5d0\"], [0.7, \"#b8e186\"], [0.8, \"#7fbc41\"], [0.9, \"#4d9221\"], [1, \"#276419\"]], \"sequential\": [[0.0, \"#0d0887\"], [0.1111111111111111, \"#46039f\"], [0.2222222222222222, \"#7201a8\"], [0.3333333333333333, \"#9c179e\"], [0.4444444444444444, \"#bd3786\"], [0.5555555555555556, \"#d8576b\"], [0.6666666666666666, \"#ed7953\"], [0.7777777777777778, \"#fb9f3a\"], [0.8888888888888888, \"#fdca26\"], [1.0, \"#f0f921\"]], \"sequentialminus\": [[0.0, \"#0d0887\"], [0.1111111111111111, \"#46039f\"], [0.2222222222222222, \"#7201a8\"], [0.3333333333333333, \"#9c179e\"], [0.4444444444444444, \"#bd3786\"], [0.5555555555555556, \"#d8576b\"], [0.6666666666666666, \"#ed7953\"], [0.7777777777777778, \"#fb9f3a\"], [0.8888888888888888, \"#fdca26\"], [1.0, \"#f0f921\"]]}, \"colorway\": [\"#636efa\", \"#EF553B\", \"#00cc96\", \"#ab63fa\", \"#FFA15A\", \"#19d3f3\", \"#FF6692\", \"#B6E880\", \"#FF97FF\", \"#FECB52\"], \"font\": {\"color\": \"#2a3f5f\"}, \"geo\": {\"bgcolor\": \"white\", \"lakecolor\": \"white\", \"landcolor\": \"#E5ECF6\", \"showlakes\": true, \"showland\": true, \"subunitcolor\": \"white\"}, \"hoverlabel\": {\"align\": \"left\"}, \"hovermode\": \"closest\", \"mapbox\": {\"style\": \"light\"}, \"paper_bgcolor\": \"white\", \"plot_bgcolor\": \"#E5ECF6\", \"polar\": {\"angularaxis\": {\"gridcolor\": \"white\", \"linecolor\": \"white\", \"ticks\": \"\"}, \"bgcolor\": \"#E5ECF6\", \"radialaxis\": {\"gridcolor\": \"white\", \"linecolor\": \"white\", \"ticks\": \"\"}}, \"scene\": {\"xaxis\": {\"backgroundcolor\": \"#E5ECF6\", \"gridcolor\": \"white\", \"gridwidth\": 2, \"linecolor\": \"white\", \"showbackground\": true, \"ticks\": \"\", \"zerolinecolor\": \"white\"}, \"yaxis\": {\"backgroundcolor\": \"#E5ECF6\", \"gridcolor\": \"white\", \"gridwidth\": 2, \"linecolor\": \"white\", \"showbackground\": true, \"ticks\": \"\", \"zerolinecolor\": \"white\"}, \"zaxis\": {\"backgroundcolor\": \"#E5ECF6\", \"gridcolor\": \"white\", \"gridwidth\": 2, \"linecolor\": \"white\", \"showbackground\": true, \"ticks\": \"\", \"zerolinecolor\": \"white\"}}, \"shapedefaults\": {\"line\": {\"color\": \"#2a3f5f\"}}, \"ternary\": {\"aaxis\": {\"gridcolor\": \"white\", \"linecolor\": \"white\", \"ticks\": \"\"}, \"baxis\": {\"gridcolor\": \"white\", \"linecolor\": \"white\", \"ticks\": \"\"}, \"bgcolor\": \"#E5ECF6\", \"caxis\": {\"gridcolor\": \"white\", \"linecolor\": \"white\", \"ticks\": \"\"}}, \"title\": {\"x\": 0.05}, \"xaxis\": {\"automargin\": true, \"gridcolor\": \"white\", \"linecolor\": \"white\", \"ticks\": \"\", \"zerolinecolor\": \"white\", \"zerolinewidth\": 2}, \"yaxis\": {\"automargin\": true, \"gridcolor\": \"white\", \"linecolor\": \"white\", \"ticks\": \"\", \"zerolinecolor\": \"white\", \"zerolinewidth\": 2}}}},\n",
              "                        {\"responsive\": true}\n",
              "                    ).then(function(){\n",
              "                            \n",
              "var gd = document.getElementById('0865f81c-3e06-4f4d-8b74-140917404e9c');\n",
              "var x = new MutationObserver(function (mutations, observer) {{\n",
              "        var display = window.getComputedStyle(gd).display;\n",
              "        if (!display || display === 'none') {{\n",
              "            console.log([gd, 'removed!']);\n",
              "            Plotly.purge(gd);\n",
              "            observer.disconnect();\n",
              "        }}\n",
              "}});\n",
              "\n",
              "// Listen for the removal of the full notebook cells\n",
              "var notebookContainer = gd.closest('#notebook-container');\n",
              "if (notebookContainer) {{\n",
              "    x.observe(notebookContainer, {childList: true});\n",
              "}}\n",
              "\n",
              "// Listen for the clearing of the current output cell\n",
              "var outputEl = gd.closest('.output');\n",
              "if (outputEl) {{\n",
              "    x.observe(outputEl, {childList: true});\n",
              "}}\n",
              "\n",
              "                        })\n",
              "                };\n",
              "                \n",
              "            </script>\n",
              "        </div>\n",
              "</body>\n",
              "</html>"
            ]
          },
          "metadata": {}
        }
      ]
    },
    {
      "cell_type": "code",
      "metadata": {
        "colab": {
          "base_uri": "https://localhost:8080/"
        },
        "id": "mwgXEBZSC5Qt",
        "outputId": "8db03b8c-c785-4e90-df4b-7a898c6b93ad"
      },
      "source": [
        "# pega o índice do vamior valor do coeficiente de silhueta\n",
        "ind = valores_silhueta.index(max(valores_silhueta))\n",
        "# printa os valores de eps e min_samples para o maior valor de coeficiente de silhueta encontrado\n",
        "print(eps_plot[ind])\n",
        "print(min_samples_plot[ind])"
      ],
      "execution_count": 63,
      "outputs": [
        {
          "output_type": "stream",
          "name": "stdout",
          "text": [
            "2.7\n",
            "81\n"
          ]
        }
      ]
    },
    {
      "cell_type": "code",
      "metadata": {
        "colab": {
          "base_uri": "https://localhost:8080/"
        },
        "id": "SUUU5Uz4C5CX",
        "outputId": "2571a52e-6fce-4bb5-d97d-8bf51a01f617"
      },
      "source": [
        "print(max(valores_silhueta))"
      ],
      "execution_count": 64,
      "outputs": [
        {
          "output_type": "stream",
          "name": "stdout",
          "text": [
            "0.3584231880254969\n"
          ]
        }
      ]
    },
    {
      "cell_type": "markdown",
      "metadata": {
        "id": "Rkp6RlOVDCzw"
      },
      "source": [
        "Comparando os modelos"
      ]
    },
    {
      "cell_type": "code",
      "metadata": {
        "colab": {
          "base_uri": "https://localhost:8080/"
        },
        "id": "IQuAjeCk6XSf",
        "outputId": "2174a2e1-ce00-4178-b777-d9a58e2c91dd"
      },
      "source": [
        "agrupador_kmeans = KMeans(n_clusters = 3)\n",
        "agrupador_DBSCAN = DBSCAN(eps = 2.7, min_samples= 81, metric = \"manhattan\")\n",
        "\n",
        "BW = estimate_bandwidth(df, quantile = 0.18)\n",
        "agrupador_meanshift = MeanShift(bandwidth= BW)\n",
        "\n",
        "labels_kmeans = agrupador_kmeans.fit_predict(df)\n",
        "labels_dbscan = agrupador_DBSCAN.fit_predict(df)\n",
        "labels_meanshift = agrupador_meanshift.fit_predict(df)\n",
        "\n",
        "print(\"Labels K-Means: \", labels_kmeans)\n",
        "print(\"Labels DBSCAN: \", labels_dbscan)\n",
        "print(\"Labels MeanShift: \", labels_meanshift)"
      ],
      "execution_count": 65,
      "outputs": [
        {
          "output_type": "stream",
          "name": "stdout",
          "text": [
            "Labels K-Means:  [2 2 2 2 2 2 2 2 2 2 2 2 2 2 2 2 2 2 2 2 2 2 2 2 2 2 2 2 2 2 2 2 2 2 2 2 2\n",
            " 2 2 2 2 2 2 2 2 2 2 2 2 2 2 2 2 2 2 2 2 2 2 1 1 1 1 1 1 1 1 1 1 1 1 1 1 2\n",
            " 1 1 1 1 1 1 1 1 1 0 1 1 1 1 1 1 1 1 1 1 1 1 1 1 1 1 1 1 1 1 1 1 1 1 1 1 1\n",
            " 1 1 1 1 1 1 1 1 1 1 1 1 1 1 1 1 1 1 1 0 0 0 0 0 0 0 0 0 0 0 0 0 0 0 0 0 0\n",
            " 0 0 0 0 0 0 0 0 0 0 0 0 0 0 0 0 0 0 0 0 0 0 0 0 0 0 0 0 0 0]\n",
            "Labels DBSCAN:  [ 0  0  0  0  0  0  0  0  0  0  0  0  0  0  0  0  0  0  0  0  0  0  0  0\n",
            "  0  0  0  0  0  0  0  0  0  0  0  0  0  0  0  0  0  0  0  0  0  0  0  0\n",
            "  0  0  0  0  0  0  0  0  0  0  0  0  0  0  0  0  0  0  0  0  0  0  0  0\n",
            "  0  0  0  0  0  0  0  0  0  0  0 -1  0  0  0  0  0  0  0  0  0  0  0  0\n",
            "  0  0  0  0  0  0  0  0  0  0  0  0  0  0  0  0  0  0  0  0  0  0  0  0\n",
            "  0 -1  0  0  0  0  0  0  0  0 -1 -1 -1 -1 -1 -1 -1 -1 -1 -1 -1 -1 -1 -1\n",
            " -1 -1 -1 -1 -1 -1 -1 -1 -1 -1 -1 -1 -1 -1 -1 -1 -1 -1 -1 -1 -1 -1 -1 -1\n",
            " -1 -1 -1 -1 -1 -1 -1 -1 -1 -1]\n",
            "Labels MeanShift:  [0 0 0 0 0 0 0 0 0 0 0 0 0 0 0 0 0 0 0 0 0 0 0 0 0 0 0 0 0 0 0 0 0 0 0 0 0\n",
            " 0 0 0 0 0 0 0 0 0 0 0 0 0 0 0 0 0 0 0 0 0 0 1 1 1 1 1 1 1 1 1 1 3 1 1 1 4\n",
            " 1 1 1 1 3 1 1 1 1 2 1 1 1 1 1 1 1 1 1 1 1 3 5 1 1 1 1 1 1 1 1 1 1 1 1 1 1\n",
            " 1 1 1 1 1 1 1 1 1 1 6 1 1 1 1 1 1 1 1 2 2 2 2 2 2 2 2 2 2 2 2 2 2 2 2 2 2\n",
            " 2 2 2 2 2 2 2 2 2 2 2 2 2 2 2 2 2 2 2 2 2 2 2 2 2 2 2 2 2 2]\n"
          ]
        }
      ]
    },
    {
      "cell_type": "code",
      "metadata": {
        "colab": {
          "base_uri": "https://localhost:8080/"
        },
        "id": "ztQp1ytn-AiG",
        "outputId": "933af53f-b044-4871-86d7-47b7c4681b2f"
      },
      "source": [
        "print(\"O coeficiente de silhueta do K-Means é: \", silhouette_score(df, labels_kmeans))\n",
        "print(\"O coeficiente de silhueta do DBCSAN é: \", silhouette_score(df, labels_dbscan))\n",
        "print(\"O coeficiente de silhueta do MeanShift é: \", silhouette_score(df, labels_meanshift))"
      ],
      "execution_count": 66,
      "outputs": [
        {
          "output_type": "stream",
          "name": "stdout",
          "text": [
            "O coeficiente de silhueta do K-Means é:  0.36950618492736303\n",
            "O coeficiente de silhueta do DBCSAN é:  0.3584231880254969\n",
            "O coeficiente de silhueta do MeanShift é:  0.3149922734867709\n"
          ]
        }
      ]
    },
    {
      "cell_type": "code",
      "metadata": {
        "id": "ZL0rGfCB-o7G"
      },
      "source": [
        ""
      ],
      "execution_count": 66,
      "outputs": []
    }
  ]
}